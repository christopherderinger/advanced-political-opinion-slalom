{
 "cells": [
  {
   "cell_type": "code",
   "execution_count": 1,
   "id": "49319ed4",
   "metadata": {},
   "outputs": [],
   "source": [
    "import pandas as pd\n",
    "import re\n",
    "import requests\n",
    "import nltk\n",
    "import sys\n",
    "sys.path.append(\"wikipedia_wordclouds/\")\n",
    "sys.path.append(\"inverted_index/\")\n",
    "from wikipedia_wordclouds.wikipedia_corpus_creator import WikiCorpusCreator\n",
    "from inverted_index.inverted_index import InvertedIndex"
   ]
  },
  {
   "cell_type": "code",
   "execution_count": 2,
   "id": "7e73728b",
   "metadata": {},
   "outputs": [],
   "source": [
    "PATH_TO_FULL_CSV = \"tagged_with_party.csv\""
   ]
  },
  {
   "cell_type": "code",
   "execution_count": 3,
   "id": "78a43038",
   "metadata": {},
   "outputs": [],
   "source": [
    "df_full = pd.read_csv(PATH_TO_FULL_CSV)"
   ]
  },
  {
   "cell_type": "markdown",
   "id": "4c6bae1a",
   "metadata": {},
   "source": [
    "Implementation of the TechnicalTermsFinder"
   ]
  },
  {
   "cell_type": "code",
   "execution_count": 4,
   "id": "474cee57",
   "metadata": {},
   "outputs": [],
   "source": [
    "class TechnicalTermsFinder:\n",
    "    def __init__(self, unigrams_file):\n",
    "        self.unigrams_file = unigrams_file\n",
    "        self.df_unigrams = pd.read_csv(unigrams_file)\n",
    "        \n",
    "        self.setup()\n",
    "    \n",
    "    def setup(self):\n",
    "        print(\"Setting up...\")\n",
    "        self.word_percentage_dict = pd.Series(self.df_unigrams.percentage.values,\n",
    "                                              index=self.df_unigrams.word).to_dict()\n",
    "        \n",
    "        self.mean_percentage = float(self.df_unigrams[\"percentage\"].mean())\n",
    "        print(\"Setup is done\")\n",
    "    \n",
    "    def get_specific_words(self, text, consider_words = None):\n",
    "        tokens = nltk.word_tokenize(text, language='german')\n",
    "        res = []\n",
    "        \n",
    "        # define the output of the function 'f' based on the input parameter\n",
    "        # 'consider_words'\n",
    "        if consider_words is not None:\n",
    "            def f(word):\n",
    "                return self._classify_word_as_specific_word(word,consider_words)\n",
    "        else:\n",
    "            def f(word):\n",
    "                return self._classify_word_as_specific_word(word)\n",
    "    \n",
    "        for word in tokens:\n",
    "            if word[0].isupper():\n",
    "                if f(word):\n",
    "                    res.append(word)\n",
    "                \n",
    "        return set(res)\n",
    "        \n",
    "    def _classify_word_as_specific_word(self, word, consider_words = None):\n",
    "    \n",
    "        if consider_words is not None:\n",
    "            for w in consider_words:\n",
    "                if w in word:\n",
    "                    return True\n",
    "    \n",
    "        if len(word) < 4:\n",
    "            return False\n",
    "    \n",
    "        if word in self.word_percentage_dict:\n",
    "            if self.word_percentage_dict[word] < self.mean_percentage:\n",
    "                return True\n",
    "        \n",
    "            return False\n",
    "        return True\n",
    "    \n",
    "    def _string_is_word(self, input_string):\n",
    "    \n",
    "        if input_string.isupper():\n",
    "            return False\n",
    "    \n",
    "        return bool(re.match(\"^[A-Za-zÖÄÜöäüß]+$\",input_string))"
   ]
  },
  {
   "cell_type": "markdown",
   "id": "0a4b8de5",
   "metadata": {},
   "source": [
    "Get the text from wikipedia for a certain topic"
   ]
  },
  {
   "cell_type": "code",
   "execution_count": 5,
   "id": "22def141",
   "metadata": {},
   "outputs": [],
   "source": [
    "wcc_climate = WikiCorpusCreator(\"Klimawandel\",exclude_stopwords=False)"
   ]
  },
  {
   "cell_type": "code",
   "execution_count": 6,
   "id": "ea064957",
   "metadata": {},
   "outputs": [],
   "source": [
    "text_climate = wcc_climate.get_text()"
   ]
  },
  {
   "cell_type": "code",
   "execution_count": 16,
   "id": "5a876dff",
   "metadata": {},
   "outputs": [],
   "source": [
    "wcc_feminism = WikiCorpusCreator(\"Feminismus\",exclude_stopwords=False)"
   ]
  },
  {
   "cell_type": "code",
   "execution_count": 17,
   "id": "a5d8d5d3",
   "metadata": {},
   "outputs": [],
   "source": [
    "text_feminism = wcc_feminism.get_text()"
   ]
  },
  {
   "cell_type": "code",
   "execution_count": 20,
   "id": "59873bb8",
   "metadata": {},
   "outputs": [],
   "source": [
    "wcc_asyl = WikiCorpusCreator(\"Flüchtlingskrise_in_Europa_2015/2016\",exclude_stopwords=False)"
   ]
  },
  {
   "cell_type": "code",
   "execution_count": 21,
   "id": "da269e20",
   "metadata": {},
   "outputs": [],
   "source": [
    "text_asyl = wcc_asyl.get_text()"
   ]
  },
  {
   "cell_type": "markdown",
   "id": "0e417aab",
   "metadata": {},
   "source": [
    "Setup the TechnicalTermsFinder"
   ]
  },
  {
   "cell_type": "code",
   "execution_count": 9,
   "id": "01cef1b9",
   "metadata": {
    "scrolled": true
   },
   "outputs": [
    {
     "name": "stdout",
     "output_type": "stream",
     "text": [
      "Setting up...\n",
      "Setup is done\n"
     ]
    }
   ],
   "source": [
    "ttf = TechnicalTermsFinder(\"preprocessed_frequency_list.csv\")"
   ]
  },
  {
   "cell_type": "markdown",
   "id": "80322146",
   "metadata": {},
   "source": [
    "Get the technical terms from a certain text"
   ]
  },
  {
   "cell_type": "code",
   "execution_count": 10,
   "id": "9a8a57d1",
   "metadata": {},
   "outputs": [],
   "source": [
    "technical_terms_climate = ttf.get_specific_words(text_climate)"
   ]
  },
  {
   "cell_type": "code",
   "execution_count": 11,
   "id": "84482ba3",
   "metadata": {},
   "outputs": [],
   "source": [
    "technical_terms_climate_add = ttf.get_specific_words(text_climate,[\"Klima\",\"Treibhaus\"])"
   ]
  },
  {
   "cell_type": "code",
   "execution_count": 15,
   "id": "c7f042ee",
   "metadata": {},
   "outputs": [],
   "source": [
    "pd.Series(list(technical_terms_climate_add)).to_csv(\"technical_terms_climate.csv\")"
   ]
  },
  {
   "cell_type": "code",
   "execution_count": 18,
   "id": "35afe380",
   "metadata": {},
   "outputs": [],
   "source": [
    "technical_terms_feminism = ttf.get_specific_words(text_feminism)"
   ]
  },
  {
   "cell_type": "code",
   "execution_count": 19,
   "id": "983c7ce4",
   "metadata": {},
   "outputs": [],
   "source": [
    "pd.Series(list(technical_terms_feminism)).to_csv(\"technical_terms_feminism.csv\")"
   ]
  },
  {
   "cell_type": "code",
   "execution_count": 22,
   "id": "1fa08830",
   "metadata": {},
   "outputs": [],
   "source": [
    "technical_terms_asyl = ttf.get_specific_words(text_asyl,[\"Asyl\",\"Flüchtling\",\"Flüchtlings\"])"
   ]
  },
  {
   "cell_type": "code",
   "execution_count": 23,
   "id": "0a995772",
   "metadata": {},
   "outputs": [],
   "source": [
    "pd.Series(list(technical_terms_asyl)).to_csv(\"technical_terms_asyl.csv\")"
   ]
  },
  {
   "cell_type": "markdown",
   "id": "d74d0ec7",
   "metadata": {},
   "source": [
    "Create the inverted index"
   ]
  },
  {
   "cell_type": "code",
   "execution_count": null,
   "id": "584ccb1d",
   "metadata": {},
   "outputs": [],
   "source": [
    "invert_index = InvertedIndex(\"tagged_with_party.csv\", \"speech\")\n",
    "invert_index.create()"
   ]
  },
  {
   "cell_type": "code",
   "execution_count": null,
   "id": "87402d3f",
   "metadata": {},
   "outputs": [],
   "source": [
    "def find_all_documents_containing_words_in_corpus(inverted_index, word_set):\n",
    "    \n",
    "    res = []\n",
    "    results_per_word = dict()\n",
    "    \n",
    "    for word in word_set:\n",
    "        results = invert_index.search(word)\n",
    "        \n",
    "        if results is not None:\n",
    "            res.extend(results)\n",
    "            results_per_word[word] = len(results)\n",
    "        else:\n",
    "            results_per_word[word] = 0\n",
    "    \n",
    "    return set(res), results_per_word\n",
    "\n",
    "def get_indices_from_documents(documents):\n",
    "    \n",
    "    res = []\n",
    "    \n",
    "    for entry in documents[0]:\n",
    "        res.append(entry[0])\n",
    "    \n",
    "    return res"
   ]
  },
  {
   "cell_type": "code",
   "execution_count": null,
   "id": "2c8fece8",
   "metadata": {},
   "outputs": [],
   "source": [
    "def get_documents_for_topic(df, topic, technical_terms_finder, inverted_index, additional_words=None):\n",
    "    \n",
    "    wcc = WikiCorpusCreator(topic, exclude_stopwords=False)\n",
    "    \n",
    "    text = wcc.get_text()\n",
    "    \n",
    "    if additional_words is None:\n",
    "        technical_terms = technical_terms_finder.get_specific_words(text)\n",
    "    else:\n",
    "        technical_terms = technical_terms_finder.get_specific_words(text, consider_words=additional_words)\n",
    "\n",
    "    \n",
    "    documents = find_all_documents_containing_words_in_corpus(inverted_index, technical_terms)\n",
    "    \n",
    "    indices = get_indices_from_documents(documents)\n",
    "    \n",
    "    return df.iloc[indices]"
   ]
  },
  {
   "cell_type": "code",
   "execution_count": null,
   "id": "af6caf28",
   "metadata": {
    "scrolled": true
   },
   "outputs": [],
   "source": [
    "df_climate_large = get_documents_for_topic(df_full, \"Klimawandel\",ttf, invert_index,[\"Klima\",\"Treibhaus\"])"
   ]
  },
  {
   "cell_type": "code",
   "execution_count": null,
   "id": "dae176e1",
   "metadata": {},
   "outputs": [],
   "source": [
    "df_inflation_small = get_documents_for_topic(df_full, \"Inflation\",ttf, invert_index)"
   ]
  },
  {
   "cell_type": "code",
   "execution_count": null,
   "id": "281b77a0",
   "metadata": {},
   "outputs": [],
   "source": [
    "df_climate_large.to_csv(\"climate_speeches_large.csv\",index=False)"
   ]
  },
  {
   "cell_type": "code",
   "execution_count": null,
   "id": "0a681dbd",
   "metadata": {
    "scrolled": true
   },
   "outputs": [],
   "source": [
    "df_climate_large.shape"
   ]
  },
  {
   "cell_type": "code",
   "execution_count": null,
   "id": "1e5b5de1",
   "metadata": {},
   "outputs": [],
   "source": []
  },
  {
   "cell_type": "code",
   "execution_count": null,
   "id": "eafd558a",
   "metadata": {},
   "outputs": [],
   "source": [
    "df_feminism = get_documents_for_topic(df_full, \"Feminismus\",ttf,invert_index)"
   ]
  },
  {
   "cell_type": "code",
   "execution_count": null,
   "id": "25803732",
   "metadata": {},
   "outputs": [],
   "source": [
    "df_feminism.to_csv(\"feminism_speeches.csv\",index=False)"
   ]
  },
  {
   "cell_type": "markdown",
   "id": "0bf58394",
   "metadata": {},
   "source": [
    "Asyl"
   ]
  },
  {
   "cell_type": "code",
   "execution_count": null,
   "id": "531732ac",
   "metadata": {},
   "outputs": [],
   "source": [
    "df_asyl = get_documents_for_topic(df_full, \"Flüchtlingskrise_in_Europa_2015/2016\",ttf,invert_index,[\"Asyl\",\"Flüchtling\",\"Flüchtlings\"])"
   ]
  },
  {
   "cell_type": "code",
   "execution_count": null,
   "id": "cfd8cad4",
   "metadata": {
    "scrolled": true
   },
   "outputs": [],
   "source": [
    "df_asyl.to_csv(\"asyl_speeches_large.csv\",index=False)"
   ]
  }
 ],
 "metadata": {
  "kernelspec": {
   "display_name": "Python 3 (ipykernel)",
   "language": "python",
   "name": "python3"
  },
  "language_info": {
   "codemirror_mode": {
    "name": "ipython",
    "version": 3
   },
   "file_extension": ".py",
   "mimetype": "text/x-python",
   "name": "python",
   "nbconvert_exporter": "python",
   "pygments_lexer": "ipython3",
   "version": "3.8.13"
  }
 },
 "nbformat": 4,
 "nbformat_minor": 5
}
