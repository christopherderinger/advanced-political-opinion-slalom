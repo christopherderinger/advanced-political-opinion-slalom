{
 "cells": [
  {
   "cell_type": "code",
   "execution_count": null,
   "id": "4c323f26",
   "metadata": {},
   "outputs": [],
   "source": [
    "import pandas as pd\n",
    "import nltk\n",
    "from functools import reduce\n",
    "import matplotlib.pyplot as plt\n",
    "import matplotlib.colors as mcolors\n",
    "from wordcloud import WordCloud, ImageColorGenerator"
   ]
  },
  {
   "cell_type": "markdown",
   "id": "957af1f7",
   "metadata": {},
   "source": [
    "#### Configuration"
   ]
  },
  {
   "cell_type": "code",
   "execution_count": null,
   "id": "ec133f1d",
   "metadata": {},
   "outputs": [],
   "source": [
    "PATH_DATA_FOLDER = \"../../data/research_question_1/thesis/\"\n",
    "PATH_PLOTS_FOLDER = \"../../plots/research_question_1/\" \n",
    "\n",
    "PATH_CLIMATE = PATH_DATA_FOLDER + \"climate_speeches_annotated.csv\"\n",
    "PATH_FEMINISM = PATH_DATA_FOLDER + \"feminism_speeches_annotated.csv\"\n",
    "PATH_ASYL = PATH_DATA_FOLDER + \"asyl_speeches_annotated.csv\"\n",
    "\n",
    "TOPIC_CLIMATE = \"Climate\"\n",
    "TOPIC_FEMINISM = \"Feminism\"\n",
    "TOPIC_ASYL = \"Asyl\"\n",
    "\n",
    "TERMS_CLIMATE = PATH_DATA_FOLDER + \"technical_terms_climate.csv\"\n",
    "TERMS_FEMINISM = PATH_DATA_FOLDER + \"technical_terms_feminism.csv\"\n",
    "TERMS_ASYL = PATH_DATA_FOLDER + \"technical_terms_asyl.csv\"\n",
    "\n",
    "PDF_FOLDER_CLIMATE = PATH_PLOTS_FOLDER + \"climate/\"\n",
    "PDF_FOLDER_FEMINISM = PATH_PLOTS_FOLDER + \"feminism/\"\n",
    "PDF_FOLDER_ASYL = PATH_PLOTS_FOLDER + \"asyl/\"\n",
    "\n",
    "ALL_CLIMATE = (PATH_CLIMATE, TOPIC_CLIMATE, TERMS_CLIMATE, PDF_FOLDER_CLIMATE)\n",
    "ALL_FEMINISM = (PATH_FEMINISM, TOPIC_FEMINISM, TERMS_FEMINISM, PDF_FOLDER_FEMINISM)\n",
    "ALL_ASYL = (PATH_ASYL, TOPIC_ASYL, TERMS_ASYL, PDF_FOLDER_ASYL)"
   ]
  },
  {
   "cell_type": "markdown",
   "id": "559faa5d",
   "metadata": {},
   "source": [
    "The topic can be specified by changing the topic of the ALL_TOPIC variable to the desired topic"
   ]
  },
  {
   "cell_type": "code",
   "execution_count": null,
   "id": "38a889c9",
   "metadata": {},
   "outputs": [],
   "source": [
    "PATH_CHOSEN, TOPIC_CHOSEN, TERMS_CHOSEN, PDF_FOLDER_CHOSEN = ALL_CLIMATE"
   ]
  },
  {
   "cell_type": "markdown",
   "id": "d9569df5",
   "metadata": {},
   "source": [
    "A set of 8 colorblind-friendly colors from Bang Wong’s Nature Methods paper https://www.nature.com/articles/nmeth.1618.pdf\n",
    "\n",
    "Taken from https://scottplot.net/cookbook/4.1/colors/#colorblind-friendly"
   ]
  },
  {
   "cell_type": "code",
   "execution_count": null,
   "id": "2d20c5d1",
   "metadata": {},
   "outputs": [],
   "source": [
    "HEX_COLORS = ['#000000','#E69F00','#56B4E9','#009E73','#F0E442','#0072B2','#D55E00','#CC79A7']\n",
    "RGB_COLORS = [mcolors.hex2color(hex_color) for hex_color in HEX_COLORS]\n",
    "\n",
    "WORD_CLOUD_COLORS = mcolors.ListedColormap(RGB_COLORS)\n",
    "BAR_CHART_COLOR = RGB_COLORS[2]"
   ]
  },
  {
   "cell_type": "code",
   "execution_count": null,
   "id": "ba6c5847",
   "metadata": {},
   "outputs": [],
   "source": [
    "WORD_CLOUD_COLORS"
   ]
  },
  {
   "cell_type": "markdown",
   "id": "b89495d0",
   "metadata": {},
   "source": [
    "Create the dataframe for the chosen topic"
   ]
  },
  {
   "cell_type": "code",
   "execution_count": null,
   "id": "040658d7",
   "metadata": {},
   "outputs": [],
   "source": [
    "df_start = pd.read_csv(PATH_CHOSEN)"
   ]
  },
  {
   "cell_type": "markdown",
   "id": "e74d12c0",
   "metadata": {},
   "source": [
    "#### Simple analysis for showing how many were relevant and how many were irrelevant"
   ]
  },
  {
   "cell_type": "code",
   "execution_count": null,
   "id": "822c27e8",
   "metadata": {},
   "outputs": [],
   "source": [
    "df_start[\"label\"].value_counts()"
   ]
  },
  {
   "cell_type": "code",
   "execution_count": null,
   "id": "ade4505e",
   "metadata": {},
   "outputs": [],
   "source": [
    "bar_order = [\"Relevant\", \"Irrelevant\"]\n",
    "\n",
    "plot = df_start[\"label\"].value_counts().loc[bar_order].plot(kind='bar',color=BAR_CHART_COLOR,title=\"Amount of relevant and irrelevant speeches found (Topic = {topic})\".format(topic=TOPIC_CHOSEN))\n",
    "\n",
    "fig = plot.get_figure()\n",
    "fig.tight_layout()\n",
    "fig.savefig(PDF_FOLDER_CHOSEN + 'plot_value_counts_{topic}.pdf'.format(topic=TOPIC_CHOSEN), format='pdf')"
   ]
  },
  {
   "cell_type": "markdown",
   "id": "61877b05",
   "metadata": {},
   "source": [
    "#### Find out which of the terms are included in the speeches most often"
   ]
  },
  {
   "cell_type": "code",
   "execution_count": null,
   "id": "6098977c",
   "metadata": {},
   "outputs": [],
   "source": [
    "all_texts = df_start[\"text\"].to_list()\n",
    "relevant_texts = df_start[df_start[\"label\"]==\"Relevant\"][\"text\"].to_list()\n",
    "irrelevant_texts = df_start[df_start[\"label\"]==\"Irrelevant\"][\"text\"].to_list()"
   ]
  },
  {
   "cell_type": "code",
   "execution_count": null,
   "id": "9b586be0",
   "metadata": {},
   "outputs": [],
   "source": [
    "df_terms = pd.read_csv(TERMS_CHOSEN)\n",
    "df_terms.columns = [\"TO_DROP\",\"terms\"]\n",
    "df_terms = df_terms.drop(\"TO_DROP\",axis=1)\n",
    "\n",
    "terms_set = set(df_terms[\"terms\"].to_list())"
   ]
  },
  {
   "cell_type": "code",
   "execution_count": null,
   "id": "1030aa50",
   "metadata": {},
   "outputs": [],
   "source": [
    "def create_wordcloud_from_total_counts(total_counts_dict, title):\n",
    "    wordcloud = WordCloud(width = 1000, height = 500,background_color=\"white\",colormap=WORD_CLOUD_COLORS).generate_from_frequencies(total_counts_dict)\n",
    "\n",
    "    plt.figure(figsize=(15,8))\n",
    "    plt.axis(\"off\")\n",
    "    plt.title(title)\n",
    "    plt.imshow(wordcloud)\n",
    "\n",
    "    return wordcloud\n",
    "\n",
    "def get_total_count_for_texts(texts, word_set):\n",
    "    res = []\n",
    "    \n",
    "    for text in texts:\n",
    "        res.append(get_count_per_word_in_set(text, word_set))\n",
    "    \n",
    "    return havok_method(res)\n",
    "    \n",
    "\n",
    "# https://stackoverflow.com/questions/10461531/merge-and-sum-of-two-dictionaries answer of SCB\n",
    "def havok_method(dictionaries):\n",
    "    def reducer(accumulator, element):\n",
    "        for key, value in element.items():\n",
    "            accumulator[key] = accumulator.get(key, 0) + value\n",
    "        return accumulator\n",
    "    return reduce(reducer, dictionaries, {})\n",
    "\n",
    "def get_count_per_word_in_set(text, word_set):\n",
    "    tokens = _get_tokens_from_text(text)\n",
    "    res = {}\n",
    "    \n",
    "    for word in word_set:\n",
    "        res[word] = 0\n",
    "    \n",
    "    for word in tokens:\n",
    "        if word in word_set:\n",
    "            res[word] += 1\n",
    "    \n",
    "    return res\n",
    "    \n",
    "    \n",
    "\n",
    "def _get_tokens_from_text(text):\n",
    "    sentences = nltk.sent_tokenize(text,language='german')\n",
    "    tokens = []\n",
    "    \n",
    "    for sentence in sentences:\n",
    "        tokenized_sent = nltk.tokenize.word_tokenize(sentence,language='german')\n",
    "        tokens.extend(tokenized_sent)\n",
    "    \n",
    "    return tokens"
   ]
  },
  {
   "cell_type": "code",
   "execution_count": null,
   "id": "4029dedc",
   "metadata": {
    "scrolled": false
   },
   "outputs": [],
   "source": [
    "total_count_overall = get_total_count_for_texts(all_texts,terms_set)\n",
    "\n",
    "total_count_relevant = get_total_count_for_texts(relevant_texts,terms_set)\n",
    "\n",
    "total_count_irrelevant = get_total_count_for_texts(irrelevant_texts,terms_set)"
   ]
  },
  {
   "cell_type": "markdown",
   "id": "6496eb8d",
   "metadata": {},
   "source": [
    "#### Wordclouds"
   ]
  },
  {
   "cell_type": "code",
   "execution_count": null,
   "id": "2ddc507a",
   "metadata": {},
   "outputs": [],
   "source": [
    "plot = create_wordcloud_from_total_counts(total_count_overall, \"Word Cloud - All technical terms (Topic = {topic})\".format(topic=TOPIC_CHOSEN))\n",
    "\n",
    "plot.to_file(PDF_FOLDER_CHOSEN + 'plot_word_cloud_all_{topic}.pdf'.format(topic=TOPIC_CHOSEN))"
   ]
  },
  {
   "cell_type": "code",
   "execution_count": null,
   "id": "1730fe49",
   "metadata": {},
   "outputs": [],
   "source": [
    "plot = create_wordcloud_from_total_counts(total_count_relevant, \"Word Cloud - Technical terms found in relevant texts (Topic = {topic})\".format(topic=TOPIC_CHOSEN))\n",
    "\n",
    "plot.to_file(PDF_FOLDER_CHOSEN + 'plot_word_cloud_relevant_{topic}.pdf'.format(topic=TOPIC_CHOSEN))"
   ]
  },
  {
   "cell_type": "code",
   "execution_count": null,
   "id": "16a4396a",
   "metadata": {
    "scrolled": false
   },
   "outputs": [],
   "source": [
    "plot = create_wordcloud_from_total_counts(total_count_irrelevant, \"Word Cloud - Technical terms found in irrelevant texts (Topic = {topic})\".format(topic=TOPIC_CHOSEN))\n",
    "\n",
    "plot.to_file(PDF_FOLDER_CHOSEN + 'plot_word_cloud_irrelevant_{topic}.pdf'.format(topic=TOPIC_CHOSEN))"
   ]
  },
  {
   "cell_type": "markdown",
   "id": "11d87f60",
   "metadata": {},
   "source": [
    "Words ranked by the amount they are showing up. Plots are created where the total amount of appearances for the top 10 words is displayed"
   ]
  },
  {
   "cell_type": "code",
   "execution_count": null,
   "id": "b156e56d",
   "metadata": {},
   "outputs": [],
   "source": [
    "df_total_count_overall = pd.DataFrame(total_count_overall.items(), columns=['term', 'amount'])\n",
    "df_total_count_relevant = pd.DataFrame(total_count_relevant.items(), columns=['term', 'amount'])\n",
    "df_total_count_irrelevant = pd.DataFrame(total_count_irrelevant.items(), columns=['term', 'amount'])"
   ]
  },
  {
   "cell_type": "code",
   "execution_count": null,
   "id": "8daabb8c",
   "metadata": {},
   "outputs": [],
   "source": [
    "df_total_count_overall.sort_values(\"amount\",ascending=False).head(10)"
   ]
  },
  {
   "cell_type": "code",
   "execution_count": null,
   "id": "1d14f74b",
   "metadata": {},
   "outputs": [],
   "source": [
    "plot = df_total_count_overall.set_index(\"term\").sort_values(\"amount\",ascending=False).head(10).plot(kind='bar',color=BAR_CHART_COLOR,title='Occurrence of technical term in retrieved speeches (Topic = {topic})'.format(topic=TOPIC_CHOSEN))\n",
    "\n",
    "fig = plot.get_figure()\n",
    "fig.tight_layout()\n",
    "fig.savefig(PDF_FOLDER_CHOSEN + 'plot_total_count_word_all_{topic}.pdf'.format(topic=TOPIC_CHOSEN), format='pdf')"
   ]
  },
  {
   "cell_type": "code",
   "execution_count": null,
   "id": "500330e1",
   "metadata": {},
   "outputs": [],
   "source": [
    "df_total_count_relevant.sort_values(\"amount\",ascending=False).head(10)"
   ]
  },
  {
   "cell_type": "code",
   "execution_count": null,
   "id": "d4922679",
   "metadata": {},
   "outputs": [],
   "source": [
    "plot = df_total_count_relevant.set_index(\"term\").sort_values(\"amount\",ascending=False).head(10).plot(kind='bar', color=BAR_CHART_COLOR, title='Occurrence of technical term in relevant speeches (Topic = {topic})'.format(topic=TOPIC_CHOSEN))\n",
    "\n",
    "fig = plot.get_figure()\n",
    "fig.tight_layout()\n",
    "fig.savefig(PDF_FOLDER_CHOSEN + 'plot_total_count_word_relevant_{topic}.pdf'.format(topic=TOPIC_CHOSEN), format='pdf')"
   ]
  },
  {
   "cell_type": "code",
   "execution_count": null,
   "id": "0fbf9270",
   "metadata": {
    "scrolled": true
   },
   "outputs": [],
   "source": [
    "df_total_count_irrelevant.sort_values(\"amount\",ascending=False).head(10)"
   ]
  },
  {
   "cell_type": "code",
   "execution_count": null,
   "id": "5f287a2b",
   "metadata": {},
   "outputs": [],
   "source": [
    "plot = df_total_count_irrelevant.set_index(\"term\").sort_values(\"amount\",ascending=False).head(10).plot(kind='bar',color=BAR_CHART_COLOR, title='Occurrence of technical term in irrelevant speeches (Topic = {topic})'.format(topic=TOPIC_CHOSEN))\n",
    "\n",
    "fig = plot.get_figure()\n",
    "fig.tight_layout()\n",
    "fig.savefig(PDF_FOLDER_CHOSEN + 'plot_total_count_word_irrelevant_{topic}.pdf'.format(topic=TOPIC_CHOSEN), format='pdf')"
   ]
  },
  {
   "cell_type": "markdown",
   "id": "6a7b395f",
   "metadata": {},
   "source": [
    "Plots are created where the amount of articles containing a word is displayed"
   ]
  },
  {
   "cell_type": "code",
   "execution_count": null,
   "id": "402520d2",
   "metadata": {},
   "outputs": [],
   "source": [
    "def get_amount_of_texts_containing_word(texts, words):\n",
    "    \n",
    "    all_tokens = []\n",
    "    res = {}\n",
    "    \n",
    "    for text in texts:\n",
    "        tokens = _get_tokens_from_text(text)\n",
    "        tokens = set(tokens)\n",
    "        \n",
    "        all_tokens.append(tokens)\n",
    "    \n",
    "    for word in words:\n",
    "        res[word] = 0\n",
    "    \n",
    "    for token_set in all_tokens:\n",
    "        for token in token_set:\n",
    "            if token in res:\n",
    "                res[token] += 1\n",
    "    \n",
    "    return res"
   ]
  },
  {
   "cell_type": "code",
   "execution_count": null,
   "id": "4f33b9e2",
   "metadata": {},
   "outputs": [],
   "source": [
    "amount_of_texts_all = get_amount_of_texts_containing_word(all_texts, terms_set)"
   ]
  },
  {
   "cell_type": "code",
   "execution_count": null,
   "id": "805e0751",
   "metadata": {},
   "outputs": [],
   "source": [
    "amount_of_texts_relevant = get_amount_of_texts_containing_word(relevant_texts, terms_set)"
   ]
  },
  {
   "cell_type": "code",
   "execution_count": null,
   "id": "be208315",
   "metadata": {},
   "outputs": [],
   "source": [
    "amount_of_texts_irrelevant = get_amount_of_texts_containing_word(irrelevant_texts, terms_set)"
   ]
  },
  {
   "cell_type": "code",
   "execution_count": null,
   "id": "cff8b1fc",
   "metadata": {},
   "outputs": [],
   "source": [
    "df_amount_of_texts_all = pd.DataFrame(amount_of_texts_all.items(), columns=['term', 'amount'])\n",
    "df_amount_of_texts_relevant = pd.DataFrame(amount_of_texts_relevant.items(), columns=['term', 'amount'])\n",
    "df_amount_of_texts_irrelevant = pd.DataFrame(amount_of_texts_irrelevant.items(), columns=['term', 'amount'])"
   ]
  },
  {
   "cell_type": "code",
   "execution_count": null,
   "id": "f879a879",
   "metadata": {},
   "outputs": [],
   "source": [
    "plot = df_amount_of_texts_all.set_index(\"term\").sort_values(\"amount\",ascending=False).head(10).plot(kind='bar',color=BAR_CHART_COLOR, title = 'Amount of texts containing a certain word (Top 10) (Topic = {topic})'.format(topic=TOPIC_CHOSEN))\n",
    "\n",
    "fig = plot.get_figure()\n",
    "fig.tight_layout()\n",
    "fig.savefig(PDF_FOLDER_CHOSEN + 'plot_amount_texts_for_word_all_{topic}.pdf'.format(topic=TOPIC_CHOSEN), format='pdf')"
   ]
  },
  {
   "cell_type": "code",
   "execution_count": null,
   "id": "89c5d388",
   "metadata": {},
   "outputs": [],
   "source": [
    "plot = df_amount_of_texts_relevant.set_index(\"term\").sort_values(\"amount\",ascending=False).head(10).plot(kind='bar',color=BAR_CHART_COLOR, title = 'Amount of relevant texts containing a word (Top 10) (Topic = {topic})'.format(topic=TOPIC_CHOSEN))\n",
    "\n",
    "fig = plot.get_figure()\n",
    "fig.tight_layout()\n",
    "fig.savefig(PDF_FOLDER_CHOSEN + 'plot_amount_texts_for_word_relevant_{topic}.pdf'.format(topic=TOPIC_CHOSEN), format='pdf')"
   ]
  },
  {
   "cell_type": "code",
   "execution_count": null,
   "id": "4a57d0a7",
   "metadata": {},
   "outputs": [],
   "source": [
    "plot = df_amount_of_texts_irrelevant.set_index(\"term\").sort_values(\"amount\",ascending=False).head(10).plot(kind='bar',color=BAR_CHART_COLOR, title='Amount of irrelevant texts containing a word (Top 10) (Topic = {topic}) \\n'.format(topic=TOPIC_CHOSEN))\n",
    "\n",
    "fig = plot.get_figure()\n",
    "fig.tight_layout()\n",
    "fig.savefig(PDF_FOLDER_CHOSEN + 'plot_amount_texts_for_word_irrelevant_{topic}.pdf'.format(topic=TOPIC_CHOSEN), format='pdf')"
   ]
  }
 ],
 "metadata": {
  "kernelspec": {
   "display_name": "Python 3 (ipykernel)",
   "language": "python",
   "name": "python3"
  },
  "language_info": {
   "codemirror_mode": {
    "name": "ipython",
    "version": 3
   },
   "file_extension": ".py",
   "mimetype": "text/x-python",
   "name": "python",
   "nbconvert_exporter": "python",
   "pygments_lexer": "ipython3",
   "version": "3.8.13"
  }
 },
 "nbformat": 4,
 "nbformat_minor": 5
}
