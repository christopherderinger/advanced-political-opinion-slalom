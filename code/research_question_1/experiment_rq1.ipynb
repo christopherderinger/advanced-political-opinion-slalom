{
 "cells": [
  {
   "cell_type": "code",
   "execution_count": null,
   "id": "49319ed4",
   "metadata": {},
   "outputs": [],
   "source": [
    "import pandas as pd\n",
    "import re\n",
    "import requests\n",
    "import nltk\n",
    "import sys\n",
    "sys.path.append(\"wikipedia_wordclouds/\")\n",
    "sys.path.append(\"inverted_index/\")\n",
    "from wikipedia_wordclouds.wikipedia_corpus_creator import WikiCorpusCreator\n",
    "from inverted_index.inverted_index import InvertedIndex"
   ]
  },
  {
   "cell_type": "code",
   "execution_count": null,
   "id": "7e73728b",
   "metadata": {},
   "outputs": [],
   "source": [
    "PATH_TO_DATA_FOLDER = \"../../data/\"\n",
    "\n",
    "\n",
    "PATH_TO_FULL_CSV = PATH_TO_DATA_FOLDER + \"protocol_obtainment/political_statements_thesis.csv\"\n",
    "PATH_TO_FREQUENCY_LIST = PATH_TO_DATA_FOLDER + \"research_question_1/thesis/preprocessed_frequency_list.csv\"\n",
    "\n",
    "PATH_TO_RESULTS_TERMS_ASYL = PATH_TO_DATA_FOLDER + \"research_question_1/technical_terms_asyl.csv\"\n",
    "PATH_TO_RESULTS_TERMS_CLIMATE = PATH_TO_DATA_FOLDER + \"research_question_1/technical_terms_climate.csv\"\n",
    "PATH_TO_RESULTS_TERMS_FEMINISM = PATH_TO_DATA_FOLDER + \"research_question_1/technical_terms_feminism.csv\"\n",
    "\n",
    "PATH_TO_RESULTS_SPEECHES_ASYL = PATH_TO_DATA_FOLDER + \"research_question_1/asyl_speeches.csv\"\n",
    "PATH_TO_RESULTS_SPEECHES_CLIMATE = PATH_TO_DATA_FOLDER + \"research_question_1/climate_speeches.csv\"\n",
    "PATH_TO_RESULTS_SPEECHES_FEMINISM = PATH_TO_DATA_FOLDER + \"research_question_1/feminism_speeches.csv\""
   ]
  },
  {
   "cell_type": "code",
   "execution_count": null,
   "id": "78a43038",
   "metadata": {},
   "outputs": [],
   "source": [
    "df_full = pd.read_csv(PATH_TO_FULL_CSV)"
   ]
  },
  {
   "cell_type": "markdown",
   "id": "4c6bae1a",
   "metadata": {},
   "source": [
    "Implementation of the TechnicalTermsFinder"
   ]
  },
  {
   "cell_type": "code",
   "execution_count": null,
   "id": "474cee57",
   "metadata": {},
   "outputs": [],
   "source": [
    "class TechnicalTermsFinder:\n",
    "    def __init__(self, unigrams_file):\n",
    "        self.unigrams_file = unigrams_file\n",
    "        self.df_unigrams = pd.read_csv(unigrams_file)\n",
    "        \n",
    "        self.setup()\n",
    "    \n",
    "    def setup(self):\n",
    "        print(\"Setting up...\")\n",
    "        self.word_percentage_dict = pd.Series(self.df_unigrams.percentage.values,\n",
    "                                              index=self.df_unigrams.word).to_dict()\n",
    "        \n",
    "        self.mean_percentage = float(self.df_unigrams[\"percentage\"].mean())\n",
    "        print(\"Setup is done\")\n",
    "    \n",
    "    def get_specific_words(self, text, consider_words = None):\n",
    "        tokens = nltk.word_tokenize(text, language='german')\n",
    "        res = []\n",
    "        \n",
    "        # define the output of the function 'f' based on the input parameter\n",
    "        # 'consider_words'\n",
    "        if consider_words is not None:\n",
    "            def f(word):\n",
    "                return self._classify_word_as_specific_word(word,consider_words)\n",
    "        else:\n",
    "            def f(word):\n",
    "                return self._classify_word_as_specific_word(word)\n",
    "    \n",
    "        for word in tokens:\n",
    "            if word[0].isupper():\n",
    "                if f(word):\n",
    "                    res.append(word)\n",
    "                \n",
    "        return set(res)\n",
    "        \n",
    "    def _classify_word_as_specific_word(self, word, consider_words = None):\n",
    "    \n",
    "        if consider_words is not None:\n",
    "            for w in consider_words:\n",
    "                if w in word:\n",
    "                    return True\n",
    "    \n",
    "        if len(word) < 4:\n",
    "            return False\n",
    "    \n",
    "        if word in self.word_percentage_dict:\n",
    "            if self.word_percentage_dict[word] < self.mean_percentage:\n",
    "                return True\n",
    "        \n",
    "            return False\n",
    "        return True\n",
    "    \n",
    "    def _string_is_word(self, input_string):\n",
    "    \n",
    "        if input_string.isupper():\n",
    "            return False\n",
    "    \n",
    "        return bool(re.match(\"^[A-Za-zÖÄÜöäüß]+$\",input_string))"
   ]
  },
  {
   "cell_type": "markdown",
   "id": "0a4b8de5",
   "metadata": {},
   "source": [
    "Get the text from wikipedia for a certain topic"
   ]
  },
  {
   "cell_type": "code",
   "execution_count": null,
   "id": "22def141",
   "metadata": {},
   "outputs": [],
   "source": [
    "wcc_climate = WikiCorpusCreator(\"Klimawandel\",exclude_stopwords=False)"
   ]
  },
  {
   "cell_type": "code",
   "execution_count": null,
   "id": "ea064957",
   "metadata": {},
   "outputs": [],
   "source": [
    "text_climate = wcc_climate.get_text()"
   ]
  },
  {
   "cell_type": "code",
   "execution_count": null,
   "id": "5a876dff",
   "metadata": {},
   "outputs": [],
   "source": [
    "wcc_feminism = WikiCorpusCreator(\"Feminismus\",exclude_stopwords=False)"
   ]
  },
  {
   "cell_type": "code",
   "execution_count": null,
   "id": "a5d8d5d3",
   "metadata": {},
   "outputs": [],
   "source": [
    "text_feminism = wcc_feminism.get_text()"
   ]
  },
  {
   "cell_type": "code",
   "execution_count": null,
   "id": "59873bb8",
   "metadata": {},
   "outputs": [],
   "source": [
    "wcc_asyl = WikiCorpusCreator(\"Flüchtlingskrise_in_Europa_2015/2016\",\n",
    "                             exclude_stopwords=False)"
   ]
  },
  {
   "cell_type": "code",
   "execution_count": null,
   "id": "da269e20",
   "metadata": {},
   "outputs": [],
   "source": [
    "text_asyl = wcc_asyl.get_text()"
   ]
  },
  {
   "cell_type": "markdown",
   "id": "0e417aab",
   "metadata": {},
   "source": [
    "Setup the TechnicalTermsFinder"
   ]
  },
  {
   "cell_type": "code",
   "execution_count": null,
   "id": "01cef1b9",
   "metadata": {
    "scrolled": true
   },
   "outputs": [],
   "source": [
    "ttf = TechnicalTermsFinder(PATH_TO_FREQUENCY_LIST)"
   ]
  },
  {
   "cell_type": "markdown",
   "id": "80322146",
   "metadata": {},
   "source": [
    "Get the technical terms from a certain text"
   ]
  },
  {
   "cell_type": "markdown",
   "id": "719684d0",
   "metadata": {},
   "source": [
    "Climate Change"
   ]
  },
  {
   "cell_type": "code",
   "execution_count": null,
   "id": "84482ba3",
   "metadata": {},
   "outputs": [],
   "source": [
    "technical_terms_climate = ttf.get_specific_words(text_climate,\n",
    "    [\"Klima\",\"Treibhaus\"])"
   ]
  },
  {
   "cell_type": "code",
   "execution_count": null,
   "id": "c7f042ee",
   "metadata": {},
   "outputs": [],
   "source": [
    "pd.Series(list(technical_terms_climate)).to_csv(\n",
    "    PATH_TO_RESULTS_TERMS_CLIMATE)"
   ]
  },
  {
   "cell_type": "markdown",
   "id": "bec77ad6",
   "metadata": {},
   "source": [
    "Feminism"
   ]
  },
  {
   "cell_type": "code",
   "execution_count": null,
   "id": "35afe380",
   "metadata": {},
   "outputs": [],
   "source": [
    "technical_terms_feminism = ttf.get_specific_words(text_feminism)"
   ]
  },
  {
   "cell_type": "code",
   "execution_count": null,
   "id": "983c7ce4",
   "metadata": {},
   "outputs": [],
   "source": [
    "pd.Series(list(technical_terms_feminism)).to_csv(\n",
    "    PATH_TO_RESULTS_TERMS_FEMINISM)"
   ]
  },
  {
   "cell_type": "markdown",
   "id": "0d226d65",
   "metadata": {},
   "source": [
    "European Migrant Crisis"
   ]
  },
  {
   "cell_type": "code",
   "execution_count": null,
   "id": "1fa08830",
   "metadata": {},
   "outputs": [],
   "source": [
    "technical_terms_asyl = ttf.get_specific_words(text_asyl,\n",
    "    [\"Asyl\",\"Flüchtling\",\"Flüchtlings\"])"
   ]
  },
  {
   "cell_type": "code",
   "execution_count": null,
   "id": "0a995772",
   "metadata": {},
   "outputs": [],
   "source": [
    "pd.Series(list(technical_terms_asyl)).to_csv(\n",
    "    PATH_TO_RESULTS_TERMS_ASYL)"
   ]
  },
  {
   "cell_type": "markdown",
   "id": "d74d0ec7",
   "metadata": {},
   "source": [
    "Create the inverted index"
   ]
  },
  {
   "cell_type": "code",
   "execution_count": null,
   "id": "584ccb1d",
   "metadata": {},
   "outputs": [],
   "source": [
    "invert_index = InvertedIndex(PATH_TO_FULL_CSV, \"speech\")\n",
    "invert_index.create()"
   ]
  },
  {
   "cell_type": "code",
   "execution_count": null,
   "id": "87402d3f",
   "metadata": {},
   "outputs": [],
   "source": [
    "def find_all_documents_containing_words_in_corpus(inverted_index, word_set):\n",
    "    \n",
    "    res = []\n",
    "    results_per_word = dict()\n",
    "    \n",
    "    for word in word_set:\n",
    "        results = invert_index.search(word)\n",
    "        \n",
    "        if results is not None:\n",
    "            res.extend(results)\n",
    "            results_per_word[word] = len(results)\n",
    "        else:\n",
    "            results_per_word[word] = 0\n",
    "    \n",
    "    return set(res), results_per_word\n",
    "\n",
    "def get_indices_from_documents(documents):\n",
    "    \n",
    "    res = []\n",
    "    \n",
    "    for entry in documents[0]:\n",
    "        res.append(entry[0])\n",
    "    \n",
    "    return res"
   ]
  },
  {
   "cell_type": "code",
   "execution_count": null,
   "id": "2c8fece8",
   "metadata": {},
   "outputs": [],
   "source": [
    "def get_documents_for_topic(df, topic, technical_terms_finder, inverted_index, additional_words=None):\n",
    "    \n",
    "    wcc = WikiCorpusCreator(topic, exclude_stopwords=False)\n",
    "    \n",
    "    text = wcc.get_text()\n",
    "    \n",
    "    if additional_words is None:\n",
    "        technical_terms = technical_terms_finder.get_specific_words(text)\n",
    "    else:\n",
    "        technical_terms = technical_terms_finder.get_specific_words(text, consider_words=additional_words)\n",
    "\n",
    "    \n",
    "    documents = find_all_documents_containing_words_in_corpus(inverted_index, technical_terms)\n",
    "    \n",
    "    indices = get_indices_from_documents(documents)\n",
    "    \n",
    "    return df.iloc[indices]"
   ]
  },
  {
   "cell_type": "markdown",
   "id": "2052cd02",
   "metadata": {},
   "source": [
    "Climate Change"
   ]
  },
  {
   "cell_type": "code",
   "execution_count": null,
   "id": "af6caf28",
   "metadata": {
    "scrolled": true
   },
   "outputs": [],
   "source": [
    "df_climate_large = get_documents_for_topic(df_full, \"Klimawandel\",\n",
    "    ttf, invert_index,[\"Klima\",\"Treibhaus\"])"
   ]
  },
  {
   "cell_type": "code",
   "execution_count": null,
   "id": "281b77a0",
   "metadata": {},
   "outputs": [],
   "source": [
    "df_climate_large.to_csv(PATH_TO_RESULTS_SPEECHES_CLIMATE,index=False)"
   ]
  },
  {
   "cell_type": "markdown",
   "id": "c8765d03",
   "metadata": {},
   "source": [
    "Feminism"
   ]
  },
  {
   "cell_type": "code",
   "execution_count": null,
   "id": "eafd558a",
   "metadata": {},
   "outputs": [],
   "source": [
    "df_feminism = get_documents_for_topic(df_full, \n",
    "    \"Feminismus\",ttf,invert_index)"
   ]
  },
  {
   "cell_type": "code",
   "execution_count": null,
   "id": "25803732",
   "metadata": {},
   "outputs": [],
   "source": [
    "df_feminism.to_csv(PATH_TO_RESULTS_SPEECHES_FEMINISM,index=False)"
   ]
  },
  {
   "cell_type": "markdown",
   "id": "0bf58394",
   "metadata": {},
   "source": [
    "European Migrant Crisis"
   ]
  },
  {
   "cell_type": "code",
   "execution_count": null,
   "id": "531732ac",
   "metadata": {},
   "outputs": [],
   "source": [
    "df_asyl = get_documents_for_topic(\n",
    "    df_full, \"Flüchtlingskrise_in_Europa_2015/2016\",ttf,invert_index,\n",
    "    [\"Asyl\",\"Flüchtling\",\"Flüchtlings\"]\n",
    ")"
   ]
  },
  {
   "cell_type": "code",
   "execution_count": null,
   "id": "cfd8cad4",
   "metadata": {
    "scrolled": true
   },
   "outputs": [],
   "source": [
    "df_asyl.to_csv(PATH_TO_RESULTS_SPEECHES_ASYL,index=False)"
   ]
  }
 ],
 "metadata": {
  "kernelspec": {
   "display_name": "Python 3 (ipykernel)",
   "language": "python",
   "name": "python3"
  },
  "language_info": {
   "codemirror_mode": {
    "name": "ipython",
    "version": 3
   },
   "file_extension": ".py",
   "mimetype": "text/x-python",
   "name": "python",
   "nbconvert_exporter": "python",
   "pygments_lexer": "ipython3",
   "version": "3.8.13"
  }
 },
 "nbformat": 4,
 "nbformat_minor": 5
}
