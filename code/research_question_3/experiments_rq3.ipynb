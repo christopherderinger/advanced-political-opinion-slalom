{
 "cells": [
  {
   "cell_type": "code",
   "execution_count": null,
   "id": "e7ab17d5",
   "metadata": {},
   "outputs": [],
   "source": [
    "import pandas as pd\n",
    "import cologne_phonetics\n",
    "from statistics import mean\n",
    "from num2words import num2words\n",
    "from collections import Counter"
   ]
  },
  {
   "cell_type": "markdown",
   "id": "526365f8",
   "metadata": {},
   "source": [
    "https://www.mehner.info/html/alliteration.html\n",
    "\n",
    "https://www.mehner.info/ladezone/sprache/alle-alliterationen-sammlung.html"
   ]
  },
  {
   "cell_type": "code",
   "execution_count": null,
   "id": "ff367d3c",
   "metadata": {},
   "outputs": [],
   "source": [
    "PATH_TO_ALLITERATION_DATASET = \"../../data/research_question_3/thesis/alliteration_test_set.csv\"\n",
    "PATH_TO_ALL_STATEMENTS = \"../../data/protocol_obtainment/political_statements_thesis.csv\""
   ]
  },
  {
   "cell_type": "markdown",
   "id": "a0ab1b86",
   "metadata": {},
   "source": [
    "### Example sentences"
   ]
  },
  {
   "cell_type": "code",
   "execution_count": null,
   "id": "5acfadaf",
   "metadata": {},
   "outputs": [],
   "source": [
    "sentence = \"Der frühe Vogel fängt den Wurm\""
   ]
  },
  {
   "cell_type": "markdown",
   "id": "7633a0b4",
   "metadata": {},
   "source": [
    "### General util functions"
   ]
  },
  {
   "cell_type": "code",
   "execution_count": null,
   "id": "e094dde9",
   "metadata": {},
   "outputs": [],
   "source": [
    "# for example ['40','Grad'] is turned into ['vierzig', 'Grad']\n",
    "def replace_numbers_with_string(words):\n",
    "    index = 0\n",
    "    res = []\n",
    "    \n",
    "    while index < len(words):\n",
    "        word = words[index]\n",
    "        if word.isnumeric():\n",
    "            res.append(num2words(word, lang='de'))\n",
    "        else:\n",
    "            res.append(word)\n",
    "        \n",
    "        index += 1\n",
    "        \n",
    "    return res\n",
    "\n",
    "# generates all the sublists having size 'size'\n",
    "def get_sublists_of_size(input_list, size):\n",
    "    res = []\n",
    "    \n",
    "    if size <= len(input_list):\n",
    "        for index in range(len(input_list) - size + 1):\n",
    "            sublist = input_list[index:index+size]\n",
    "            res.append(sublist)\n",
    "    \n",
    "    return res\n",
    "\n",
    "def get_cologne_phonetics_result(word):\n",
    "    encod = cologne_phonetics.encode(word)\n",
    "    \n",
    "    if len(encod[0][1]) > 0:\n",
    "        return encod[0][1][0]\n",
    "    else:\n",
    "        return \"-\""
   ]
  },
  {
   "cell_type": "markdown",
   "id": "47b98352",
   "metadata": {},
   "source": [
    "#### Example of the get_sublists_of_size function"
   ]
  },
  {
   "cell_type": "code",
   "execution_count": null,
   "id": "d5499b93",
   "metadata": {},
   "outputs": [],
   "source": [
    "words = sentence.lower().split(\" \")\n",
    "letters = [word[0] for word in words if len(word) > 1]\n",
    "subs = get_sublists_of_size(letters, 3)\n",
    "subs"
   ]
  },
  {
   "cell_type": "code",
   "execution_count": null,
   "id": "44171ffa",
   "metadata": {},
   "outputs": [],
   "source": [
    "def check_for_step(sublists,step):\n",
    "    \n",
    "    res = []\n",
    "    res_letters = []\n",
    "    \n",
    "    # check whether all sublists (lists in a list) have equal length\n",
    "    if len(set(map(len,sublists))) != 1:\n",
    "        return False, res_letters\n",
    "    \n",
    "    # the step should not be greater than the length of the sublists\n",
    "    if step > len(sublists[0]):\n",
    "        return False, res_letters\n",
    "    else:\n",
    "        for list_elem in sublists:\n",
    "            index = 0\n",
    "            \n",
    "            while index < len(list_elem):\n",
    "                # check whether the step is already to big\n",
    "                if index + step >= len(list_elem):\n",
    "                    index += 1\n",
    "                else:\n",
    "                    if list_elem[index] == list_elem[index+step]:\n",
    "                        res.append(True)\n",
    "                        res_letters.append(list_elem[index])\n",
    "                    index += 1          \n",
    "    \n",
    "    return True in res, res_letters"
   ]
  },
  {
   "cell_type": "markdown",
   "id": "f6608da8",
   "metadata": {},
   "source": [
    "### Algorithm for finding alliterations based on size and steps"
   ]
  },
  {
   "cell_type": "code",
   "execution_count": null,
   "id": "11a0425c",
   "metadata": {},
   "outputs": [],
   "source": [
    "# returns tuple with element and count like this (element, count)\n",
    "def get_most_common_as_tuple(lst):\n",
    "    data = Counter(lst)\n",
    "    return data.most_common()[0]\n",
    "\n",
    "\n",
    "def find_alliteration(sentence, size, steps=[], algo='std'):\n",
    "    \n",
    "    res = []\n",
    "    res_letters = []\n",
    "    \n",
    "    sent = sentence.lower()\n",
    "    words = sent.split(\" \")\n",
    "    words = replace_numbers_with_string(words)\n",
    "    \n",
    "    letters = []\n",
    "    if algo == 'std':\n",
    "        letters = [word[0] for word in words if len(word) > 1]\n",
    "    elif algo == 'cologne':\n",
    "        letters = [get_cologne_phonetics_result(word) for word in words if len(word) > 1]\n",
    "    else:\n",
    "        raise Exception(\"Only standard (std) and cologne phonetics (cologne) is available as algorithm\")\n",
    "\n",
    "    if len(letters) < 2:\n",
    "        return False, res_letters\n",
    "    \n",
    "    index = 0\n",
    "\n",
    "    subsets = get_sublists_of_size(letters, size)\n",
    "    \n",
    "    if len(subsets) < 1:\n",
    "        return False, res_letters\n",
    "    \n",
    "    if algo == 'cologne':\n",
    "        subsets_cologne = []\n",
    "        for subset in subsets:\n",
    "            # ignore subsets where '0' is the only code returned by cologne phonetics\n",
    "            if all(x==subset[0] for x in subset) and subset[0] == '0':\n",
    "                continue\n",
    "            else:\n",
    "                # ignore subsets where '0' is the most common entry\n",
    "                #most_common = get_most_common_as_tuple(subset)\n",
    "                #if most_common[0] == '0' and most_common[1] > round(len(subset) / 2):\n",
    "                #    print(\"case is triggered\")\n",
    "                #    continue\n",
    "                #else:\n",
    "                subsets_cologne.append(subset)\n",
    "        subsets = subsets_cologne\n",
    "    \n",
    "    for subset in subsets:\n",
    "        if all(x==subset[0] for x in subset):\n",
    "            res.append(True)\n",
    "            res_letters.append(subset[0])\n",
    "    for step in steps:\n",
    "        res_step_check = check_for_step(subsets, step)\n",
    "        res.append(res_step_check[0])\n",
    "        res_letters.extend(res_step_check[1])\n",
    "            \n",
    "    return True in res, res_letters"
   ]
  },
  {
   "cell_type": "markdown",
   "id": "acd2cbf7",
   "metadata": {},
   "source": [
    "### Experiments"
   ]
  },
  {
   "cell_type": "code",
   "execution_count": null,
   "id": "74fe515f",
   "metadata": {},
   "outputs": [],
   "source": [
    "df_alliteration = pd.read_csv(PATH_TO_ALLITERATION_DATASET)\n",
    "df_all = pd.read_csv(PATH_TO_ALL_STATEMENTS)"
   ]
  },
  {
   "cell_type": "code",
   "execution_count": null,
   "id": "3a357c10",
   "metadata": {},
   "outputs": [],
   "source": [
    "df_alliteration"
   ]
  },
  {
   "cell_type": "code",
   "execution_count": null,
   "id": "f1a0ae6c",
   "metadata": {},
   "outputs": [],
   "source": [
    "def has_at_least_one_alliteration_case(sentence):\n",
    "    res_1 = find_alliteration(sentence,2,steps=[1])\n",
    "    res_2 = find_alliteration(sentence,3,[1,2])\n",
    "    res_3 = find_alliteration(sentence,2,[1], algo='cologne')\n",
    "    res_4 = find_alliteration(sentence,3,[1,2], algo='cologne')\n",
    "    \n",
    "    #res_1 = find_alliteration(sentence, 2, algo='cologne')\n",
    "    #res_2 = find_alliteration(sentence, 2)\n",
    "    \n",
    "    case_1 = res_1[0]\n",
    "    case_2 = res_2[0]\n",
    "    case_3 = res_3[0]\n",
    "    case_4 = res_4[0]\n",
    "    \n",
    "    letters_1 = res_1[1]\n",
    "    letters_2 = res_2[1]\n",
    "    letters_3 = res_3[1]\n",
    "    letters_4 = res_4[1]\n",
    "\n",
    "    \n",
    "    return case_1 or case_2 or case_3 or case_4, set(letters_1 + letters_2 + letters_3 + letters_4)\n",
    "    #return case_1 or case_2, set(letters_1 + letters_2)\n",
    "\n",
    "\n",
    "def has_both_alliteration_cases(sentence, size):\n",
    "    res_1 = find_alliteration(sentence, size, algo='cologne')\n",
    "    res_2 = find_alliteration(sentence, size)\n",
    "\n",
    "    case_1 = res_1[0]\n",
    "    case_2 = res_2[0]\n",
    "    \n",
    "    set_1 = res_1[1]\n",
    "    set_2 = res_2[1]\n",
    "    \n",
    "    if case_1 == True and case_2 == False:\n",
    "        return \"Cologne\", str(set_1 + set_2)\n",
    "    elif case_1 == False and case_2 == True:\n",
    "        return \"Standard\", str(set_1 + set_2)\n",
    "    elif case_1 == True and case_2 == True:\n",
    "        return \"Both\", str(set_1 + set_2)\n",
    "    else:\n",
    "        return \"Nothing\", str(set_1 + set_2)"
   ]
  },
  {
   "cell_type": "code",
   "execution_count": null,
   "id": "7f192911",
   "metadata": {},
   "outputs": [],
   "source": [
    "alliterations = list(df_alliteration[\"0\"])"
   ]
  },
  {
   "cell_type": "code",
   "execution_count": null,
   "id": "c15db69e",
   "metadata": {},
   "outputs": [],
   "source": [
    "for elem in alliterations:\n",
    "    if not has_at_least_one_alliteration_case(elem)[0]:\n",
    "        print(elem)"
   ]
  },
  {
   "cell_type": "code",
   "execution_count": null,
   "id": "fe6b0a71",
   "metadata": {},
   "outputs": [],
   "source": [
    "len(alliterations)"
   ]
  },
  {
   "cell_type": "markdown",
   "id": "c43bf4b2",
   "metadata": {},
   "source": [
    "### Working with the dataframe that contains all the statements"
   ]
  },
  {
   "cell_type": "code",
   "execution_count": null,
   "id": "cb056433",
   "metadata": {},
   "outputs": [],
   "source": [
    "df_all[\"res_allit\"] = df_all[\"speech\"].apply(lambda sentence: find_alliteration(sentence,4,algo='cologne'))"
   ]
  },
  {
   "cell_type": "code",
   "execution_count": null,
   "id": "b49efcb4",
   "metadata": {},
   "outputs": [],
   "source": [
    "df_all[\"res_allit\"].value_counts()"
   ]
  },
  {
   "cell_type": "code",
   "execution_count": null,
   "id": "60cb8ccf",
   "metadata": {},
   "outputs": [],
   "source": [
    "df_all[\"res_both\"] = df_all[\"speech\"].apply(lambda sentence: has_both_alliteration_cases(sentence, 4))"
   ]
  },
  {
   "cell_type": "code",
   "execution_count": null,
   "id": "fe579a43",
   "metadata": {},
   "outputs": [],
   "source": [
    "df_all[\"res_both\"].value_counts()"
   ]
  },
  {
   "cell_type": "code",
   "execution_count": null,
   "id": "c36b26b5",
   "metadata": {},
   "outputs": [],
   "source": [
    "df_all[\"res_both_updated\"] = df_all[\"speech\"].apply(lambda sentence: has_both_alliteration_cases(sentence, 4))"
   ]
  },
  {
   "cell_type": "code",
   "execution_count": null,
   "id": "d2ab156b",
   "metadata": {
    "scrolled": true
   },
   "outputs": [],
   "source": [
    "df_all[\"res_both_updated\"].value_counts()"
   ]
  },
  {
   "cell_type": "code",
   "execution_count": null,
   "id": "a907cb7e",
   "metadata": {},
   "outputs": [],
   "source": [
    "df_all[[\"res_both_last_version\", \"letters\"]] = df_all[\"speech\"].apply(lambda sentence: pd.Series(has_both_alliteration_cases(sentence, 4)))"
   ]
  },
  {
   "cell_type": "code",
   "execution_count": null,
   "id": "0849174b",
   "metadata": {
    "scrolled": true
   },
   "outputs": [],
   "source": [
    "df_all[\"res_both_last_version\"].value_counts()"
   ]
  },
  {
   "cell_type": "code",
   "execution_count": null,
   "id": "800d1439",
   "metadata": {
    "scrolled": true
   },
   "outputs": [],
   "source": [
    "df_all[\"letters\"].value_counts()"
   ]
  },
  {
   "cell_type": "markdown",
   "id": "b1b6ab87",
   "metadata": {},
   "source": [
    "### Extract the data for the manual evaluation"
   ]
  },
  {
   "cell_type": "code",
   "execution_count": null,
   "id": "4a9cd041",
   "metadata": {},
   "outputs": [],
   "source": [
    "#df_all[df_all[\"res_both_last_version\"] == \"Cologne\"].sample(n=200).to_csv(\"cologne_200.csv\",sep=\";\")"
   ]
  },
  {
   "cell_type": "code",
   "execution_count": null,
   "id": "270014aa",
   "metadata": {},
   "outputs": [],
   "source": [
    "#df_all[df_all[\"res_both_last_version\"] == \"Both\"].sample(n=200).to_csv(\"both_200.csv\",sep=\";\")"
   ]
  },
  {
   "cell_type": "code",
   "execution_count": null,
   "id": "d9685210",
   "metadata": {},
   "outputs": [],
   "source": [
    "#df_all[df_all[\"res_both_last_version\"] == \"Standard\"].sample(n=200).to_csv(\"standard_200.csv\",sep=\";\")"
   ]
  },
  {
   "cell_type": "code",
   "execution_count": null,
   "id": "3c97354f",
   "metadata": {},
   "outputs": [],
   "source": [
    "#df_all.to_csv(\"alliteration_final_results.csv\",sep=\";\")"
   ]
  },
  {
   "cell_type": "markdown",
   "id": "f94e4f8b",
   "metadata": {},
   "source": [
    "## Interesting examples"
   ]
  },
  {
   "cell_type": "markdown",
   "id": "7a466f2f",
   "metadata": {},
   "source": [
    "### Number has been found "
   ]
  },
  {
   "cell_type": "markdown",
   "id": "055c9125",
   "metadata": {},
   "source": [
    "der ganz große [Dank, die 365 Tage im Jahr]"
   ]
  },
  {
   "cell_type": "markdown",
   "id": "a503cdf0",
   "metadata": {},
   "source": [
    "### Bad example as there are a lot of articles"
   ]
  },
  {
   "cell_type": "markdown",
   "id": "623f143e",
   "metadata": {},
   "source": [
    "der Theorie, dass die"
   ]
  },
  {
   "cell_type": "markdown",
   "id": "1e4109c2",
   "metadata": {},
   "source": [
    "### Example why the rules for number 3 are not that good"
   ]
  },
  {
   "cell_type": "markdown",
   "id": "fad93cbc",
   "metadata": {},
   "source": [
    "fangen wir wieder von vorne"
   ]
  },
  {
   "cell_type": "markdown",
   "id": "c192fefc",
   "metadata": {},
   "source": [
    "vor Wahlen wieder Wahlzuckerl verteilen wollen"
   ]
  },
  {
   "cell_type": "markdown",
   "id": "03ab9d84",
   "metadata": {},
   "source": [
    "### Positive example of rules for number 3"
   ]
  },
  {
   "cell_type": "markdown",
   "id": "e8df51ee",
   "metadata": {},
   "source": [
    "für viele Frauen, für viele Familien"
   ]
  },
  {
   "cell_type": "markdown",
   "id": "f95b7a6d",
   "metadata": {},
   "source": [
    "Fremdübernahmen von Firmen vollzogen"
   ]
  },
  {
   "cell_type": "markdown",
   "id": "3e21eace",
   "metadata": {},
   "source": [
    "### Interesting example for g, c and k"
   ]
  },
  {
   "cell_type": "markdown",
   "id": "5e8c209b",
   "metadata": {},
   "source": [
    "keine Geschäfte, keine Cafés, keine Gasthöfe"
   ]
  },
  {
   "cell_type": "markdown",
   "id": "7472a785",
   "metadata": {},
   "source": [
    "### Negative example of the rules for number 8"
   ]
  },
  {
   "cell_type": "markdown",
   "id": "3fdd3af1",
   "metadata": {},
   "source": [
    "sich zum Ziel setzt"
   ]
  },
  {
   "cell_type": "markdown",
   "id": "48208add",
   "metadata": {},
   "source": [
    "## Letter examples"
   ]
  },
  {
   "cell_type": "markdown",
   "id": "a8c23484",
   "metadata": {},
   "source": [
    "#### Standard contains alliterations with a, e, i, o, u"
   ]
  },
  {
   "cell_type": "markdown",
   "id": "29552e42",
   "metadata": {},
   "source": [
    "The reason for that is that we had to exclude 0 from cologne phonetics, as it included way to many different letters"
   ]
  },
  {
   "cell_type": "markdown",
   "id": "df54d6b2",
   "metadata": {},
   "source": [
    "### Examples where the same word is said over and over again (negative)"
   ]
  },
  {
   "cell_type": "markdown",
   "id": "7a27f228",
   "metadata": {},
   "source": [
    "Impfen, impfen, impfen"
   ]
  },
  {
   "cell_type": "markdown",
   "id": "055d0bef",
   "metadata": {},
   "source": [
    "Ja, ja, ja, ja"
   ]
  },
  {
   "cell_type": "markdown",
   "id": "4eba7b6c",
   "metadata": {},
   "source": [
    "und, und, und, und"
   ]
  },
  {
   "cell_type": "markdown",
   "id": "2368ea63",
   "metadata": {},
   "source": [
    "Aber, aber, aber aber"
   ]
  },
  {
   "cell_type": "markdown",
   "id": "52516940",
   "metadata": {},
   "source": [
    "### Repetition (negative)"
   ]
  },
  {
   "cell_type": "markdown",
   "id": "20f7a973",
   "metadata": {},
   "source": [
    "vollkommen verständlich, vollkommen verständlich"
   ]
  },
  {
   "cell_type": "markdown",
   "id": "9aa7f796",
   "metadata": {},
   "source": [
    "in Österreich zugelassen [sind, sind sicher, sind]"
   ]
  },
  {
   "cell_type": "markdown",
   "id": "80e1f8d9",
   "metadata": {},
   "source": [
    "### Examples that showed up quite often"
   ]
  },
  {
   "cell_type": "markdown",
   "id": "3cf5977c",
   "metadata": {},
   "source": [
    "Unternehmerinnen und Unternehmern, und "
   ]
  },
  {
   "cell_type": "markdown",
   "id": "0bbeb78f",
   "metadata": {},
   "source": [
    "unserer Unternehmerinnen und Unternehmern"
   ]
  },
  {
   "cell_type": "markdown",
   "id": "19529f3a",
   "metadata": {},
   "source": [
    "auch an alle anderen "
   ]
  },
  {
   "cell_type": "markdown",
   "id": "7d6ba0c9",
   "metadata": {},
   "source": [
    "aber auch allen anderen"
   ]
  },
  {
   "cell_type": "markdown",
   "id": "092650a7",
   "metadata": {},
   "source": [
    "dass das dann die "
   ]
  },
  {
   "cell_type": "markdown",
   "id": "1f35a48b",
   "metadata": {},
   "source": [
    "der dazu dient, dass das"
   ]
  },
  {
   "cell_type": "markdown",
   "id": "e516e83b",
   "metadata": {},
   "source": [
    "dass derjenige, der das"
   ]
  },
  {
   "cell_type": "markdown",
   "id": "171f62ca",
   "metadata": {},
   "source": [
    "### Negative because of different sound"
   ]
  },
  {
   "cell_type": "markdown",
   "id": "e3184707",
   "metadata": {},
   "source": [
    "nicht nur [sich selbst schützt, sondern]"
   ]
  },
  {
   "cell_type": "markdown",
   "id": "89611de2",
   "metadata": {},
   "source": [
    "### Negative because of special character in between"
   ]
  },
  {
   "cell_type": "markdown",
   "id": "82f14f1d",
   "metadata": {},
   "source": [
    "Was aber [wollen wir? Wir wollen]"
   ]
  },
  {
   "cell_type": "markdown",
   "id": "4cb695f2",
   "metadata": {},
   "source": [
    "### Negative because e and ei sound very different"
   ]
  },
  {
   "cell_type": "markdown",
   "id": "120f1f77",
   "metadata": {},
   "source": [
    "es ein extrem erfreuliches,"
   ]
  },
  {
   "cell_type": "markdown",
   "id": "e9369a71",
   "metadata": {},
   "source": [
    "Ich bringe auch einen entsprechenden Entschließungsantrag ein"
   ]
  },
  {
   "cell_type": "markdown",
   "id": "2f5f9b56",
   "metadata": {},
   "source": [
    "### Ending sentence"
   ]
  },
  {
   "cell_type": "markdown",
   "id": "28b9be8b",
   "metadata": {},
   "source": [
    "einen Entschließungsantrag ein. Er lautet"
   ]
  },
  {
   "cell_type": "markdown",
   "id": "5bb16af8",
   "metadata": {},
   "source": [
    "### Does have other word just separated by minus (negative)"
   ]
  },
  {
   "cell_type": "markdown",
   "id": "168551ec",
   "metadata": {},
   "source": [
    "aller AMA-Gütesiegelprodukte ausschließlich auf"
   ]
  },
  {
   "cell_type": "markdown",
   "id": "5b64aa03",
   "metadata": {},
   "source": [
    "ein eigenes EDV-System, eigene"
   ]
  },
  {
   "cell_type": "markdown",
   "id": "f5ed7244",
   "metadata": {},
   "source": [
    "### Edge Cases"
   ]
  },
  {
   "cell_type": "markdown",
   "id": "8462b2b5",
   "metadata": {},
   "source": [
    "-chöre, -orchester, -streichorchester, -blasmusikorchester "
   ]
  },
  {
   "cell_type": "markdown",
   "id": "e172d620",
   "metadata": {},
   "source": [
    "\"Lettland\", \"Finnland\", \"Schweden\", \"Norwegen\""
   ]
  },
  {
   "cell_type": "markdown",
   "id": "1c5291e6",
   "metadata": {},
   "source": [
    "Results can be further reduced when everything needs to be in one sentence and if separators like \":\" are not allowed as well"
   ]
  },
  {
   "cell_type": "markdown",
   "id": "7dd33a3e",
   "metadata": {},
   "source": [
    "### Rule with g and k (negative)"
   ]
  },
  {
   "cell_type": "markdown",
   "id": "39cd506a",
   "metadata": {},
   "source": [
    "keine Geschäfte, keine Cafés, keine Gasthöfe"
   ]
  },
  {
   "cell_type": "markdown",
   "id": "f09d73f9",
   "metadata": {},
   "source": [
    "### Th sounds like f, might be relevant for rule 3?"
   ]
  },
  {
   "cell_type": "markdown",
   "id": "a48d1866",
   "metadata": {},
   "source": [
    "dass der Thinktank Think"
   ]
  }
 ],
 "metadata": {
  "kernelspec": {
   "display_name": "Python 3 (ipykernel)",
   "language": "python",
   "name": "python3"
  },
  "language_info": {
   "codemirror_mode": {
    "name": "ipython",
    "version": 3
   },
   "file_extension": ".py",
   "mimetype": "text/x-python",
   "name": "python",
   "nbconvert_exporter": "python",
   "pygments_lexer": "ipython3",
   "version": "3.8.13"
  }
 },
 "nbformat": 4,
 "nbformat_minor": 5
}
