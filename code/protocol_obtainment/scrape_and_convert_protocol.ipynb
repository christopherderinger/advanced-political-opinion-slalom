{
 "cells": [
  {
   "cell_type": "code",
   "execution_count": null,
   "id": "e8c2bba2",
   "metadata": {},
   "outputs": [],
   "source": [
    "import pandas as pd\n",
    "import re\n",
    "import os"
   ]
  },
  {
   "cell_type": "markdown",
   "id": "8e657969",
   "metadata": {},
   "source": [
    "## Download all protocols and convert them to UTF-8"
   ]
  },
  {
   "cell_type": "markdown",
   "id": "7afadbae",
   "metadata": {},
   "source": [
    "File containing all the links to the html protocols and the target folder"
   ]
  },
  {
   "cell_type": "code",
   "execution_count": null,
   "id": "1e1d20e4",
   "metadata": {},
   "outputs": [],
   "source": [
    "PATH_TO_URL_FILE = \"../../data/protocols/url_collection/protocol_urls.txt\"\n",
    "TARGET_FOLDER = \"../../data/protocols/download/\""
   ]
  },
  {
   "cell_type": "markdown",
   "id": "20f4200a",
   "metadata": {},
   "source": [
    "Read the file in a dataframe so that we can apply a function to each url. Tabulator (\\t) was chosen as a separator, as the file does not contain any tabulators. The resulting dataframe has only one column"
   ]
  },
  {
   "cell_type": "code",
   "execution_count": null,
   "id": "fda966dc",
   "metadata": {},
   "outputs": [],
   "source": [
    "df_all_urls = pd.read_csv(PATH_TO_URL_FILE, sep=\"\\t\",header=None)"
   ]
  },
  {
   "cell_type": "code",
   "execution_count": null,
   "id": "61338cdf",
   "metadata": {},
   "outputs": [],
   "source": [
    "# This function is used to get the name of the Nationalrat sitting\n",
    "# in the format NRSITZ_<number with 5 digits> like NRSITZ_00001\n",
    "def get_nrsitz_string(protocol_url):\n",
    "    return re.search(r'NRSITZ_[01234567890]{5}',protocol_url).group(0)\n",
    "\n",
    "# Downloads the protocol and converts it from WINDOWS-1252 to UTF-8\n",
    "def download_protocol(protocol_url, target_folder):\n",
    "    filename = get_nrsitz_string(protocol_url) + \"_PROTOCOL.html\"\n",
    "    \n",
    "    resulting_file = target_folder + filename\n",
    "    \n",
    "    os.system('curl ' + protocol_url + ' > ' + resulting_file)\n",
    "    os.system('iconv -f WINDOWS-1252 -t UTF-8 ' + resulting_file + ' > ' + target_folder + 'converted_' + filename)\n",
    "    os.system('rm ' + resulting_file)\n",
    "    \n",
    "    print(\"Download finished\")"
   ]
  },
  {
   "cell_type": "markdown",
   "id": "76a04e90",
   "metadata": {},
   "source": [
    "Apply the download function to each url. Each url is stored in the first and only column of the dataframe"
   ]
  },
  {
   "cell_type": "code",
   "execution_count": null,
   "id": "804670b5",
   "metadata": {},
   "outputs": [],
   "source": [
    "df_all_urls.apply(lambda row: \n",
    "                  download_protocol(row[0],TARGET_FOLDER),axis = 1)"
   ]
  }
 ],
 "metadata": {
  "kernelspec": {
   "display_name": "Python 3 (ipykernel)",
   "language": "python",
   "name": "python3"
  },
  "language_info": {
   "codemirror_mode": {
    "name": "ipython",
    "version": 3
   },
   "file_extension": ".py",
   "mimetype": "text/x-python",
   "name": "python",
   "nbconvert_exporter": "python",
   "pygments_lexer": "ipython3",
   "version": "3.8.13"
  }
 },
 "nbformat": 4,
 "nbformat_minor": 5
}
