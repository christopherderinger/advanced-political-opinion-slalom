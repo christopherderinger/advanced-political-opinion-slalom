{
 "cells": [
  {
   "cell_type": "code",
   "execution_count": null,
   "id": "eb8b6847",
   "metadata": {},
   "outputs": [],
   "source": [
    "from bs4 import BeautifulSoup\n",
    "import requests\n",
    "import pandas as pd\n",
    "from typing import List"
   ]
  },
  {
   "cell_type": "code",
   "execution_count": null,
   "id": "bb341599",
   "metadata": {},
   "outputs": [],
   "source": [
    "URL = \"https://www.mehner.info/html/alliteration.html\"\n",
    "TARGET_PATH = \"../../data/alliteration_detection/alliteration_test_set.csv\"\n",
    "page = requests.get(URL)\n",
    "\n",
    "soup = BeautifulSoup(page.content, \"html.parser\")"
   ]
  },
  {
   "cell_type": "code",
   "execution_count": null,
   "id": "a6cbf8ae",
   "metadata": {},
   "outputs": [],
   "source": [
    "paras = soup.select('p[class^=schwarztext10]')"
   ]
  },
  {
   "cell_type": "code",
   "execution_count": null,
   "id": "5e823076",
   "metadata": {},
   "outputs": [],
   "source": [
    "res = []\n",
    "start_index = 10\n",
    "end_index = 1041\n",
    "\n",
    "while start_index <= end_index:\n",
    "    res.append(paras[start_index].text)\n",
    "    start_index += 1"
   ]
  },
  {
   "cell_type": "code",
   "execution_count": null,
   "id": "319372fa",
   "metadata": {},
   "outputs": [],
   "source": [
    "def get_all_elems_containing_whitespace(list_of_elems: List[str]) -> List[str]:\n",
    "    res = []\n",
    "    \n",
    "    for elem in list_of_elems:\n",
    "        if \" \" in elem:\n",
    "            if \":\" in elem:\n",
    "                res.append(elem.split(\":\",1)[0])\n",
    "            else:\n",
    "                res.append(elem)\n",
    "            \n",
    "    return res"
   ]
  },
  {
   "cell_type": "code",
   "execution_count": null,
   "id": "8b9415cb",
   "metadata": {},
   "outputs": [],
   "source": [
    "res_finish = get_all_elems_containing_whitespace(res)"
   ]
  },
  {
   "cell_type": "code",
   "execution_count": null,
   "id": "2395562c",
   "metadata": {},
   "outputs": [],
   "source": [
    "mySeries = pd.Series(res_finish)"
   ]
  },
  {
   "cell_type": "code",
   "execution_count": null,
   "id": "b7472211",
   "metadata": {},
   "outputs": [],
   "source": [
    "#mySeries.to_csv(TARGET_PATH)"
   ]
  }
 ],
 "metadata": {
  "kernelspec": {
   "display_name": "Python 3",
   "language": "python",
   "name": "python3"
  },
  "language_info": {
   "codemirror_mode": {
    "name": "ipython",
    "version": 3
   },
   "file_extension": ".py",
   "mimetype": "text/x-python",
   "name": "python",
   "nbconvert_exporter": "python",
   "pygments_lexer": "ipython3",
   "version": "3.8.8"
  }
 },
 "nbformat": 4,
 "nbformat_minor": 5
}
