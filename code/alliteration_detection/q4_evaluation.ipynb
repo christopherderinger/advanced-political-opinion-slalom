{
 "cells": [
  {
   "cell_type": "code",
   "execution_count": null,
   "id": "44bfd314",
   "metadata": {},
   "outputs": [],
   "source": [
    "import pandas as pd\n",
    "import re\n",
    "import matplotlib.pyplot as plt\n",
    "import matplotlib.colors as mcolors\n",
    "import numpy as np"
   ]
  },
  {
   "cell_type": "markdown",
   "id": "9547b498",
   "metadata": {},
   "source": [
    "### Preparation"
   ]
  },
  {
   "cell_type": "code",
   "execution_count": null,
   "id": "3003b5f1",
   "metadata": {},
   "outputs": [],
   "source": [
    "PDF_FOLDER_CHOSEN = 'plots/'\n",
    "DATA_FOLDER_CHOSEN = 'data/'"
   ]
  },
  {
   "cell_type": "code",
   "execution_count": null,
   "id": "7be4e7f8",
   "metadata": {},
   "outputs": [],
   "source": [
    "PATH_TO_DATASET_BOTH = DATA_FOLDER_CHOSEN + \"both_200_done.csv\"\n",
    "PATH_TO_DATASET_COLOGNE = DATA_FOLDER_CHOSEN + \"cologne_200_done.csv\"\n",
    "PATH_TO_DATASET_STANDARD = DATA_FOLDER_CHOSEN + \"standard_200_done.csv\""
   ]
  },
  {
   "cell_type": "markdown",
   "id": "341bbda7",
   "metadata": {},
   "source": [
    "#### Colors"
   ]
  },
  {
   "cell_type": "code",
   "execution_count": null,
   "id": "9f42a90f",
   "metadata": {},
   "outputs": [],
   "source": [
    "HEX_COLORS = ['#000000','#E69F00','#56B4E9','#009E73','#F0E442','#0072B2','#D55E00','#CC79A7']\n",
    "RGB_COLORS = [mcolors.hex2color(hex_color) for hex_color in HEX_COLORS]\n",
    "\n",
    "BAR_CHART_COLOR = RGB_COLORS[2]\n",
    "BAR_CHART_ORANGE = RGB_COLORS[1]"
   ]
  },
  {
   "cell_type": "markdown",
   "id": "fb4adf9c",
   "metadata": {},
   "source": [
    "#### Read the datasets"
   ]
  },
  {
   "cell_type": "code",
   "execution_count": null,
   "id": "2b7d0ee6",
   "metadata": {},
   "outputs": [],
   "source": [
    "df_both = pd.read_csv(PATH_TO_DATASET_BOTH)\n",
    "df_cologne = pd.read_csv(PATH_TO_DATASET_COLOGNE)\n",
    "df_standard = pd.read_csv(PATH_TO_DATASET_STANDARD)"
   ]
  },
  {
   "cell_type": "code",
   "execution_count": null,
   "id": "21cea7fb",
   "metadata": {},
   "outputs": [],
   "source": [
    "df_cologne[\"label\"]"
   ]
  },
  {
   "cell_type": "markdown",
   "id": "18eb5d9f",
   "metadata": {},
   "source": [
    "#### Preprocessing"
   ]
  },
  {
   "cell_type": "code",
   "execution_count": null,
   "id": "3f321e48",
   "metadata": {},
   "outputs": [],
   "source": [
    "def preprocess_label_names(label):\n",
    "    if label == \"Has Alliteration\":\n",
    "        return \"Alliteration\"\n",
    "    else:\n",
    "        return label"
   ]
  },
  {
   "cell_type": "code",
   "execution_count": null,
   "id": "5275e7a8",
   "metadata": {},
   "outputs": [],
   "source": [
    "df_cologne[\"label\"] = df_cologne[\"label\"].apply(lambda row: preprocess_label_names(row))"
   ]
  },
  {
   "cell_type": "markdown",
   "id": "e22cd197",
   "metadata": {},
   "source": [
    "#### Cologne Phonetics Dict"
   ]
  },
  {
   "cell_type": "code",
   "execution_count": null,
   "id": "3ea4527c",
   "metadata": {},
   "outputs": [],
   "source": [
    "cologne_dict = {}\n",
    "cologne_dict[\"1\"] = [\"b\", \"p\"]\n",
    "cologne_dict[\"2\"] = [\"d\", \"t\"]\n",
    "cologne_dict[\"3\"] = [\"f\", \"v\", \"w\", \"p\"]\n",
    "cologne_dict[\"4\"] = [\"g\", \"k\", \"q\", \"c\"]\n",
    "cologne_dict[\"48\"] = [\"x\"]\n",
    "cologne_dict[\"5\"] = [\"l\"]\n",
    "cologne_dict[\"6\"] = [\"m\", \"n\"]\n",
    "cologne_dict[\"7\"] = [\"r\"]\n",
    "cologne_dict[\"8\"] = [\"s\", \"z\", \"c\", \"d\", \"t\", \"x\"]"
   ]
  },
  {
   "cell_type": "markdown",
   "id": "d2ff9306",
   "metadata": {},
   "source": [
    "### Building plots"
   ]
  },
  {
   "cell_type": "markdown",
   "id": "0c9ed905",
   "metadata": {},
   "source": [
    "#### Draw value counts plots"
   ]
  },
  {
   "cell_type": "code",
   "execution_count": null,
   "id": "2818b344",
   "metadata": {},
   "outputs": [],
   "source": [
    "def draw_value_counts_bar_chart(df, color, title, destination, filename):\n",
    "    value_counts = df[\"label\"].value_counts()\n",
    "    desired_order = ['Alliteration', 'No Alliteration']\n",
    "\n",
    "    # Sort the value counts based on the desired order\n",
    "    value_counts = value_counts.loc[desired_order]\n",
    "    \n",
    "    plt.bar(value_counts.index, value_counts.values, color=color)\n",
    "    plt.xlabel('Categories')\n",
    "    plt.ylabel('Amount')\n",
    "    plt.title(title)\n",
    "    plt.tight_layout()\n",
    "    plt.savefig(destination + filename + '.pdf', format='pdf')"
   ]
  },
  {
   "cell_type": "code",
   "execution_count": null,
   "id": "9bb7d1c1",
   "metadata": {},
   "outputs": [],
   "source": [
    "draw_value_counts_bar_chart(df_both, BAR_CHART_COLOR, \"Amount of alliterations (both)\",PDF_FOLDER_CHOSEN, \"values_counts_both\")"
   ]
  },
  {
   "cell_type": "code",
   "execution_count": null,
   "id": "151bfbd6",
   "metadata": {},
   "outputs": [],
   "source": [
    "draw_value_counts_bar_chart(df_cologne, BAR_CHART_COLOR, \"Amount of alliterations (cologne)\",PDF_FOLDER_CHOSEN, \"values_counts_cologne\")"
   ]
  },
  {
   "cell_type": "code",
   "execution_count": null,
   "id": "735697db",
   "metadata": {},
   "outputs": [],
   "source": [
    "draw_value_counts_bar_chart(df_standard, BAR_CHART_COLOR, \"Amount of alliterations (standard)\",PDF_FOLDER_CHOSEN, \"values_counts_standard\")"
   ]
  },
  {
   "cell_type": "markdown",
   "id": "58d875af",
   "metadata": {},
   "source": [
    "#### Produce plot that shows the most common sets of numbers and letters"
   ]
  },
  {
   "cell_type": "code",
   "execution_count": null,
   "id": "63681dfc",
   "metadata": {},
   "outputs": [],
   "source": [
    "def transform_string_list_to_string_set(row):\n",
    "    column_values = row.replace(\"'\", \"\").replace(\"[\", \"\").replace(\"]\",\"\").replace(\" \", \"\").split(\",\")\n",
    "    column_values = sorted(column_values)\n",
    "    \n",
    "    return set(column_values)\n",
    "\n",
    "def transform_letters_column_to_full_representation(row):\n",
    "    column_values = row.replace(\"'\", \"\").replace(\"[\", \"\").replace(\"]\",\"\").replace(\" \", \"\").split(\",\")\n",
    "    \n",
    "    res = []\n",
    "    \n",
    "    for elem in column_values:\n",
    "        if elem in cologne_dict.keys():\n",
    "            res.extend(cologne_dict[elem])\n",
    "        else:\n",
    "            res.append(elem)\n",
    "    \n",
    "    return set(res)\n",
    "\n",
    "def draw_bar_of_letter_value_counts(df, column, color, title, destination, filename):\n",
    "    df[column] = df[column].apply(lambda letters: str(letters))\n",
    "    value_counts_full_both_test = df[column].value_counts().head(10)\n",
    "    plt.bar(value_counts_full_both_test.index, value_counts_full_both_test.values, color=color)\n",
    "    plt.xticks(rotation=90)\n",
    "    plt.xlabel('Letter combination')\n",
    "    plt.ylabel('Amount')\n",
    "    plt.title(title)\n",
    "    plt.tight_layout()\n",
    "    plt.savefig(destination + filename + '.pdf', format='pdf')\n",
    "    \n",
    "    \n",
    "# additional methods for separatino based on whether they are in an alliteration or not\n",
    "def get_top_10_letter_sets_as_string(df, column):\n",
    "    \n",
    "    df[column] = df[column].apply(lambda letters: str(letters))\n",
    "\n",
    "    return df[column].value_counts().head(10).index\n",
    "\n",
    "def get_counts_for_positive_and_negative_case(df, column, letter_set):\n",
    "    \n",
    "    df[column] = df[column].apply(lambda letters: str(letters))\n",
    "\n",
    "    counts = pd.Series(df[df[column] == letter_set][\"label\"] == \"Alliteration\").value_counts()\n",
    "    \n",
    "    negative = 0\n",
    "    positive = 0\n",
    "    \n",
    "    # if there are only true or false cases an exception will be thrown\n",
    "    try:\n",
    "        negative = counts[False]\n",
    "    except:\n",
    "        return counts[True], 0\n",
    "    \n",
    "    try:\n",
    "        positive = counts[True]\n",
    "    except:\n",
    "        return 0, counts[False]\n",
    "    \n",
    "    return positive, negative\n",
    "\n",
    "def get_counts_for_each_letter_set(df, column, letter_sets):\n",
    "    all_negative_counts = []\n",
    "    all_positive_counts = []\n",
    "    \n",
    "    for letter_set in letter_sets:\n",
    "        pos, neg = get_counts_for_positive_and_negative_case(df, column, letter_set)\n",
    "        all_positive_counts.append(pos)\n",
    "        all_negative_counts.append(neg)\n",
    "    \n",
    "    return all_positive_counts, all_negative_counts\n",
    "\n",
    "def draw_letter_set_plot_with_true_false_sep(df, column, title, destination, filename):\n",
    "    \n",
    "    top_10_letter_sets = get_top_10_letter_sets_as_string(df, column)\n",
    "\n",
    "    word_in_true_case, word_in_false_case = get_counts_for_each_letter_set(df, column, top_10_letter_sets)\n",
    "\n",
    "    # Create an array for the x-axis positions\n",
    "    x = np.arange(len(top_10_letter_sets))\n",
    "\n",
    "    # Set the width of each bar\n",
    "    bar_width = 0.35\n",
    "\n",
    "    # Create subplots\n",
    "    fig, ax = plt.subplots()\n",
    "\n",
    "    # Plot true count bars\n",
    "    true_bars = ax.bar(x - bar_width/2, word_in_true_case, bar_width, label='Alliteration', color=BAR_CHART_COLOR)\n",
    "\n",
    "    # Plot false count bars\n",
    "    false_bars = ax.bar(x + bar_width/2, word_in_false_case, bar_width, label='No Alliteration', color=BAR_CHART_ORANGE)\n",
    "\n",
    "    # Set labels and title\n",
    "    ax.set_xlabel('Letter combination')\n",
    "    ax.set_ylabel('Amount')\n",
    "    ax.set_title(title)\n",
    "    ax.set_xticks(x,labels=top_10_letter_sets, rotation=90)\n",
    "    ax.legend()\n",
    "\n",
    "    fig.tight_layout()\n",
    "    fig.savefig(destination + filename + '.pdf', format='pdf')"
   ]
  },
  {
   "cell_type": "code",
   "execution_count": null,
   "id": "2cdecb13",
   "metadata": {},
   "outputs": [],
   "source": [
    "df_both[\"letters_full_set\"] = df_both[\"letters\"].apply(lambda row: transform_letters_column_to_full_representation(row))\n",
    "df_cologne[\"letters_full_set\"] = df_cologne[\"letters\"].apply(lambda row: transform_letters_column_to_full_representation(row))\n",
    "df_standard[\"letters_full_set\"] = df_standard[\"letters\"].apply(lambda row: transform_letters_column_to_full_representation(row))\n",
    "\n",
    "df_both[\"letters_set\"] = df_both[\"letters\"].apply(lambda row: transform_string_list_to_string_set(row))\n",
    "df_cologne[\"letters_set\"] = df_cologne[\"letters\"].apply(lambda row: transform_string_list_to_string_set(row))\n",
    "df_standard[\"letters_set\"] = df_standard[\"letters\"].apply(lambda row: transform_string_list_to_string_set(row))\n"
   ]
  },
  {
   "cell_type": "markdown",
   "id": "9fddb47f",
   "metadata": {},
   "source": [
    "#### Letter set"
   ]
  },
  {
   "cell_type": "code",
   "execution_count": null,
   "id": "e41859c6",
   "metadata": {},
   "outputs": [],
   "source": [
    "draw_letter_set_plot_with_true_false_sep(df_both,\n",
    "                                \"letters_set\",\n",
    "                                \"Most common combinations (both)\", \n",
    "                                PDF_FOLDER_CHOSEN, \n",
    "                                \"letters_set_both\"\n",
    ")"
   ]
  },
  {
   "cell_type": "code",
   "execution_count": null,
   "id": "498c241f",
   "metadata": {},
   "outputs": [],
   "source": [
    "draw_letter_set_plot_with_true_false_sep(df_cologne,\n",
    "                                \"letters_set\",\n",
    "                                \"Most common combinations (cologne)\", \n",
    "                                PDF_FOLDER_CHOSEN, \n",
    "                                \"letters_set_cologne\"\n",
    ")"
   ]
  },
  {
   "cell_type": "code",
   "execution_count": null,
   "id": "070d7462",
   "metadata": {},
   "outputs": [],
   "source": [
    "draw_letter_set_plot_with_true_false_sep(df_standard,\n",
    "                                \"letters_set\",\n",
    "                                \"Most common combinations (standard)\", \n",
    "                                PDF_FOLDER_CHOSEN, \n",
    "                                \"letters_set_standard\"\n",
    ")"
   ]
  },
  {
   "cell_type": "markdown",
   "id": "2b1cba93",
   "metadata": {},
   "source": [
    "#### Full letter set"
   ]
  },
  {
   "cell_type": "code",
   "execution_count": null,
   "id": "783663f2",
   "metadata": {},
   "outputs": [],
   "source": [
    "draw_letter_set_plot_with_true_false_sep(df_both,\n",
    "                                \"letters_full_set\",\n",
    "                                \"Most common combinations transformed (both)\", \n",
    "                                PDF_FOLDER_CHOSEN, \n",
    "                                \"full_letters_set_both\"\n",
    ")"
   ]
  },
  {
   "cell_type": "code",
   "execution_count": null,
   "id": "a0671604",
   "metadata": {},
   "outputs": [],
   "source": [
    "draw_letter_set_plot_with_true_false_sep(df_cologne,\n",
    "                                \"letters_full_set\",\n",
    "                                \"Most common combinations transformed (cologne)\", \n",
    "                                PDF_FOLDER_CHOSEN, \n",
    "                                \"full_letters_set_cologne\"\n",
    ")"
   ]
  },
  {
   "cell_type": "markdown",
   "id": "c964a43f",
   "metadata": {},
   "source": [
    "### Find the most common words"
   ]
  },
  {
   "cell_type": "code",
   "execution_count": null,
   "id": "cc9a9a0b",
   "metadata": {},
   "outputs": [],
   "source": [
    "def find_words_based_on_letters_set(row, global_count_dict):\n",
    "    speech = row[\"text\"]\n",
    "    letters_set = row[\"letters_full_set\"]\n",
    "    \n",
    "    words = speech.split(\" \")\n",
    "    \n",
    "    for word in words:\n",
    "        first_letter = word[0]\n",
    "        \n",
    "        if first_letter in letters_set:\n",
    "            if word not in global_count_dict:\n",
    "                global_count_dict[word] = 0\n",
    "            global_count_dict[word] += 1\n",
    "            \n",
    "def get_most_common_words(df, amount):\n",
    "    \n",
    "    word_count_dict = {}\n",
    "    \n",
    "    df.apply(lambda row: find_words_based_on_letters_set(row, word_count_dict),axis=1)\n",
    "    \n",
    "    most_common_words_with_count = list((dict(sorted(word_count_dict.items(), key=lambda item: item[1],reverse=True)).items()))[0:amount]\n",
    "    \n",
    "    return most_common_words_with_count\n"
   ]
  },
  {
   "cell_type": "markdown",
   "id": "4cffd006",
   "metadata": {},
   "source": [
    "### store count for each word that was found based on alliteration letter"
   ]
  },
  {
   "cell_type": "code",
   "execution_count": null,
   "id": "0e451b3c",
   "metadata": {},
   "outputs": [],
   "source": [
    "def plot_word_count_bar_chart(df, label, color, title, destination, filename):\n",
    "    word_count_tuples = get_most_common_words(df[df[\"label\"] == label], 15)\n",
    "    \n",
    "    labels, values = zip(*word_count_tuples)\n",
    "    \n",
    "    plt.bar(labels, values, color=color)\n",
    "    plt.xticks(rotation=90)\n",
    "    plt.xlabel('Words')\n",
    "    plt.ylabel('Amount')\n",
    "    plt.title(title)\n",
    "    plt.tight_layout()\n",
    "    plt.savefig(destination + filename + '.pdf', format='pdf')"
   ]
  },
  {
   "cell_type": "code",
   "execution_count": null,
   "id": "9b5e857f",
   "metadata": {},
   "outputs": [],
   "source": [
    "plot_word_count_bar_chart(df_both, \n",
    "                          \"Alliteration\",\n",
    "                          BAR_CHART_COLOR, \n",
    "                          \"Most common words in speech with alliteration (both)\", \n",
    "                          PDF_FOLDER_CHOSEN, \n",
    "                          \"word_count_alliteration_both\"\n",
    ")"
   ]
  },
  {
   "cell_type": "code",
   "execution_count": null,
   "id": "b3a538a3",
   "metadata": {},
   "outputs": [],
   "source": [
    "plot_word_count_bar_chart(df_both, \n",
    "                          \"No Alliteration\",\n",
    "                          BAR_CHART_COLOR, \n",
    "                          \"Most common words in speech without alliteration (both)\", \n",
    "                          PDF_FOLDER_CHOSEN, \n",
    "                          \"word_count_no_alliteration_both\"\n",
    ")"
   ]
  },
  {
   "cell_type": "code",
   "execution_count": null,
   "id": "1e1d2c25",
   "metadata": {},
   "outputs": [],
   "source": [
    "plot_word_count_bar_chart(df_cologne, \n",
    "                          \"Alliteration\",\n",
    "                          BAR_CHART_COLOR, \n",
    "                          \"Most common words in speech with alliteration (cologne)\", \n",
    "                          PDF_FOLDER_CHOSEN, \n",
    "                          \"word_count_alliteration_cologne\"\n",
    ")"
   ]
  },
  {
   "cell_type": "code",
   "execution_count": null,
   "id": "69a8b0e6",
   "metadata": {},
   "outputs": [],
   "source": [
    "plot_word_count_bar_chart(df_cologne, \n",
    "                          \"No Alliteration\",\n",
    "                          BAR_CHART_COLOR, \n",
    "                          \"Most common words in speech without alliteration (cologne)\", \n",
    "                          PDF_FOLDER_CHOSEN, \n",
    "                          \"word_count_no_alliteration_cologne\"\n",
    ")"
   ]
  },
  {
   "cell_type": "code",
   "execution_count": null,
   "id": "76b04e0d",
   "metadata": {},
   "outputs": [],
   "source": [
    "plot_word_count_bar_chart(df_standard, \n",
    "                          \"Alliteration\",\n",
    "                          BAR_CHART_COLOR, \n",
    "                          \"Most common words in speech with alliteration (standard)\", \n",
    "                          PDF_FOLDER_CHOSEN, \n",
    "                          \"word_count_alliteration_standard\"\n",
    ")"
   ]
  },
  {
   "cell_type": "code",
   "execution_count": null,
   "id": "e304394f",
   "metadata": {
    "scrolled": true
   },
   "outputs": [],
   "source": [
    "plot_word_count_bar_chart(df_standard, \n",
    "                          \"No Alliteration\",\n",
    "                          BAR_CHART_COLOR, \n",
    "                          \"Most common words in speech without alliteration (standard)\", \n",
    "                          PDF_FOLDER_CHOSEN, \n",
    "                          \"word_count_no_alliteration_standard\"\n",
    ")"
   ]
  },
  {
   "cell_type": "markdown",
   "id": "b9367210",
   "metadata": {},
   "source": [
    "### Evaluation of the alliteration dataset"
   ]
  },
  {
   "cell_type": "code",
   "execution_count": null,
   "id": "fe4ae080",
   "metadata": {},
   "outputs": [],
   "source": [
    "values = [601, 4]\n",
    "labels = ['Correctly detected', 'Not detected']\n",
    "\n",
    "# Create a bar plot\n",
    "plt.bar(labels, values, color=BAR_CHART_COLOR)\n",
    "plt.ylabel('Amount')\n",
    "plt.title('Amount of detected and undetected alliterations in alliteration dataset')\n",
    "\n",
    "# Show the plot\n",
    "plt.tight_layout()\n",
    "plt.savefig(PDF_FOLDER_CHOSEN + \"res_allit_dataset\" + '.pdf', format='pdf')"
   ]
  },
  {
   "cell_type": "markdown",
   "id": "de6029f3",
   "metadata": {},
   "source": [
    "### Plot for the overall evaluation"
   ]
  },
  {
   "cell_type": "markdown",
   "id": "eaf4e5cc",
   "metadata": {},
   "source": [
    "Nothing     61241\n",
    "Cologne      1592\n",
    "Both          792\n",
    "Standard      284"
   ]
  },
  {
   "cell_type": "code",
   "execution_count": null,
   "id": "4d55c78d",
   "metadata": {},
   "outputs": [],
   "source": [
    "values = [61241, 1592, 792, 284]\n",
    "labels = ['None', 'Cologne Phonetics', 'Both', 'Standard']\n",
    "\n",
    "# Create a bar plot\n",
    "plt.bar(labels, values, color=BAR_CHART_COLOR)\n",
    "plt.ylabel('Amount')\n",
    "plt.title('Amount of each different set detected by the algorithm')\n",
    "\n",
    "# Show the plot\n",
    "plt.tight_layout()\n",
    "plt.savefig(PDF_FOLDER_CHOSEN + \"res_political_dataset\" + '.pdf', format='pdf')"
   ]
  }
 ],
 "metadata": {
  "kernelspec": {
   "display_name": "Python 3 (ipykernel)",
   "language": "python",
   "name": "python3"
  },
  "language_info": {
   "codemirror_mode": {
    "name": "ipython",
    "version": 3
   },
   "file_extension": ".py",
   "mimetype": "text/x-python",
   "name": "python",
   "nbconvert_exporter": "python",
   "pygments_lexer": "ipython3",
   "version": "3.8.13"
  }
 },
 "nbformat": 4,
 "nbformat_minor": 5
}
