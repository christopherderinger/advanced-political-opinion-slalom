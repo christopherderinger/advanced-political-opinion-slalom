{
 "cells": [
  {
   "cell_type": "code",
   "execution_count": null,
   "id": "5d4765c8",
   "metadata": {},
   "outputs": [],
   "source": [
    "import pandas as pd\n",
    "import numpy as np\n",
    "from sklearn.ensemble import RandomForestClassifier\n",
    "from sklearn.feature_extraction.text import TfidfVectorizer\n",
    "from sklearn.pipeline import Pipeline\n",
    "from sklearn.metrics import classification_report, confusion_matrix\n",
    "from sklearn.model_selection import train_test_split\n",
    "from sklearn.metrics import accuracy_score, confusion_matrix, classification_report"
   ]
  },
  {
   "cell_type": "markdown",
   "id": "ee986dfa",
   "metadata": {},
   "source": [
    "## Hyperbole Detection"
   ]
  },
  {
   "cell_type": "markdown",
   "id": "b14c456a",
   "metadata": {},
   "source": [
    "This notebook contains a random forest model that have been trained on the feature engineered dataset (which was created in <b>hyperbole_feature_engineering.ipynb</b>).\n",
    "\n",
    "This notebook will be further enhanced in the future and should just be viewed as a starting point. "
   ]
  },
  {
   "cell_type": "code",
   "execution_count": null,
   "id": "8d5cdfdd",
   "metadata": {},
   "outputs": [],
   "source": [
    "PATH_TO_PREPARED_DATASET = \"../../data/hyperbole_detection/hyperboles_feature_engineered.csv\""
   ]
  },
  {
   "cell_type": "code",
   "execution_count": null,
   "id": "4d0cd557",
   "metadata": {},
   "outputs": [],
   "source": [
    "df_hyperboles = pd.read_csv(PATH_TO_PREPARED_DATASET)"
   ]
  },
  {
   "cell_type": "code",
   "execution_count": null,
   "id": "ce0d05ef",
   "metadata": {},
   "outputs": [],
   "source": [
    "df_hyperboles.columns"
   ]
  },
  {
   "cell_type": "code",
   "execution_count": null,
   "id": "d27579ce",
   "metadata": {},
   "outputs": [],
   "source": [
    "msk = np.random.rand(len(df_hyperboles)) < 0.8\n",
    "\n",
    "df_train = df_hyperboles[msk]\n",
    "\n",
    "df_test = df_hyperboles[~msk]"
   ]
  },
  {
   "cell_type": "code",
   "execution_count": null,
   "id": "a1442d54",
   "metadata": {},
   "outputs": [],
   "source": [
    "vectorizer = TfidfVectorizer()\n",
    "train_tf_idf_features = vectorizer.fit_transform(df_train['german']).toarray()\n",
    "test_tf_idf_features  = vectorizer.transform(df_test['german']).toarray()\n",
    "\n",
    "# Converting above list to DataFrame\n",
    "train_tf_idf = pd.DataFrame(train_tf_idf_features)\n",
    "test_tf_idf = pd.DataFrame(test_tf_idf_features)\n",
    "\n",
    "# Separating train and test labels from all features\n",
    "train_Y = df_train['label']\n",
    "test_Y = df_test['label']\n",
    "\n",
    "# Listing all features\n",
    "features = ['imageability', 'polarity_senti_ws',\n",
    "       'polarity_text_blob', 'subjectivity_text_blob', 'vader_positive',\n",
    "       'vader_neutral', 'vader_negative', 'vader_compound']\n",
    "\n",
    "# Merging the features with above TF-IDF. \n",
    "train_tf_idf = train_tf_idf.reset_index()\n",
    "df_train = df_train.reset_index()\n",
    "\n",
    "test_tf_idf = test_tf_idf.reset_index()\n",
    "df_test = df_test.reset_index()\n",
    "\n",
    "train = pd.merge(train_tf_idf,df_train[features],left_index=True, right_index=True)\n",
    "train = train.drop(columns=['index'])\n",
    "\n",
    "test  = pd.merge(test_tf_idf,df_test[features],left_index=True, right_index=True)\n",
    "test = test.drop(columns=['index'])"
   ]
  },
  {
   "cell_type": "code",
   "execution_count": null,
   "id": "f89f8dbb",
   "metadata": {},
   "outputs": [],
   "source": [
    "X_train, X_test, y_train, y_test = train_test_split(train, train_Y, test_size=0.2, random_state = 42)# Random Forest Classifier\n",
    "_RandomForestClassifier = RandomForestClassifier(n_estimators = 1000, min_samples_split = 15, random_state = 42)\n",
    "_RandomForestClassifier.fit(X_train, y_train)\n",
    "_RandomForestClassifier_prediction = _RandomForestClassifier.predict(X_test)\n",
    "val_RandomForestClassifier_prediction = _RandomForestClassifier.predict(test)\n",
    "\n",
    "print(\"Accuracy => \", round(accuracy_score(_RandomForestClassifier_prediction, y_test)*100, 2))\n",
    "print(\"\\nRandom Forest Classifier results: \\n\")\n",
    "print(classification_report(y_test, _RandomForestClassifier_prediction, target_names = ['real', 'fake']))\n",
    "print(\"Validation Accuracy => \", round(accuracy_score(val_RandomForestClassifier_prediction, test_Y)*100, 2))\n",
    "print(\"\\nValidation Random Forest Classifier results: \\n\")\n",
    "print(classification_report(test_Y, val_RandomForestClassifier_prediction, target_names = ['real', 'fake']))"
   ]
  },
  {
   "cell_type": "code",
   "execution_count": null,
   "id": "dd42960c",
   "metadata": {},
   "outputs": [],
   "source": [
    "train_Y.value_counts()"
   ]
  }
 ],
 "metadata": {
  "kernelspec": {
   "display_name": "Python 3",
   "language": "python",
   "name": "python3"
  },
  "language_info": {
   "codemirror_mode": {
    "name": "ipython",
    "version": 3
   },
   "file_extension": ".py",
   "mimetype": "text/x-python",
   "name": "python",
   "nbconvert_exporter": "python",
   "pygments_lexer": "ipython3",
   "version": "3.8.8"
  }
 },
 "nbformat": 4,
 "nbformat_minor": 5
}
