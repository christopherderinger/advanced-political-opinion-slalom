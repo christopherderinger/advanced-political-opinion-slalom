{
 "cells": [
  {
   "cell_type": "code",
   "execution_count": null,
   "id": "0245797d",
   "metadata": {},
   "outputs": [],
   "source": [
    "import pandas as pd\n",
    "import matplotlib.pyplot as plt\n",
    "import numpy as np\n",
    "import matplotlib.colors as mcolors"
   ]
  },
  {
   "cell_type": "markdown",
   "id": "b46542a7",
   "metadata": {},
   "source": [
    "### Configuration"
   ]
  },
  {
   "cell_type": "code",
   "execution_count": null,
   "id": "b30c9462",
   "metadata": {},
   "outputs": [],
   "source": [
    "PATH_CLIMATE = \"climate_stance_done.csv\"\n",
    "PATH_FEMINISM = \"\"\n",
    "PATH_ASYL = \"\"\n",
    "\n",
    "TOPIC_CLIMATE = \"Climate\"\n",
    "TOPIC_FEMINISM = \"Feminism\"\n",
    "TOPIC_ASYL = \"Asyl\"\n",
    "\n",
    "PDF_FOLDER_CLIMATE = \"plots/climate/\"\n",
    "PDF_FOLDER_FEMINISM = \"plots/feminism/\"\n",
    "PDF_FOLDER_ASYL = \"plots/asyl/\"\n",
    "\n",
    "PATH_TO_SPEAKER_UNIQUE_FILE = \"speaker_party_unique.csv\"\n",
    "\n",
    "ALL_CLIMATE = (PATH_CLIMATE, TOPIC_CLIMATE, PDF_FOLDER_CLIMATE)\n",
    "ALL_FEMINISM = (PATH_FEMINISM, TOPIC_FEMINISM, PDF_FOLDER_FEMINISM)\n",
    "ALL_ASYL = (PATH_ASYL, TOPIC_ASYL, PDF_FOLDER_ASYL)"
   ]
  },
  {
   "cell_type": "markdown",
   "id": "536bf10c",
   "metadata": {},
   "source": [
    "The topic can be specified by changing the topic of the ALL_TOPIC variable to the desired topic"
   ]
  },
  {
   "cell_type": "code",
   "execution_count": null,
   "id": "d0bea12b",
   "metadata": {},
   "outputs": [],
   "source": [
    "PATH_CHOSEN, TOPIC_CHOSEN, PDF_FOLDER_CHOSEN = ALL_CLIMATE"
   ]
  },
  {
   "cell_type": "markdown",
   "id": "eddc691c",
   "metadata": {},
   "source": [
    "A set of 8 colorblind-friendly colors from Bang Wong’s Nature Methods paper https://www.nature.com/articles/nmeth.1618.pdf\n",
    "\n",
    "Taken from https://scottplot.net/cookbook/4.1/colors/#colorblind-friendly"
   ]
  },
  {
   "cell_type": "code",
   "execution_count": null,
   "id": "b338df27",
   "metadata": {},
   "outputs": [],
   "source": [
    "HEX_COLORS = ['#000000','#E69F00','#56B4E9','#009E73','#F0E442','#0072B2','#D55E00','#CC79A7']\n",
    "RGB_COLORS = [mcolors.hex2color(hex_color) for hex_color in HEX_COLORS]\n",
    "\n",
    "BAR_CHART_COLOR = RGB_COLORS[2]"
   ]
  },
  {
   "cell_type": "markdown",
   "id": "bdd3707f",
   "metadata": {},
   "source": [
    "Create the dataframe containing speakers and party"
   ]
  },
  {
   "cell_type": "code",
   "execution_count": null,
   "id": "42cc3025",
   "metadata": {},
   "outputs": [],
   "source": [
    "df_speaker_party = pd.read_csv(PATH_TO_SPEAKER_UNIQUE_FILE)"
   ]
  },
  {
   "cell_type": "code",
   "execution_count": null,
   "id": "9a3fd228",
   "metadata": {},
   "outputs": [],
   "source": [
    "dict_speaker_party = df_speaker_party.set_index([\"speaker\"])[\"unique_speaker\"].to_dict()"
   ]
  },
  {
   "cell_type": "markdown",
   "id": "7644f964",
   "metadata": {},
   "source": [
    "Many speakers are available in several forms, this function is used to map them to one unique name"
   ]
  },
  {
   "cell_type": "code",
   "execution_count": null,
   "id": "47675345",
   "metadata": {},
   "outputs": [],
   "source": [
    "def get_unique_speaker(speaker, speaker_dict):\n",
    "    return speaker_dict[speaker]"
   ]
  },
  {
   "cell_type": "markdown",
   "id": "7ccd0350",
   "metadata": {},
   "source": [
    "Create the dataframe for the chosen topic"
   ]
  },
  {
   "cell_type": "code",
   "execution_count": null,
   "id": "1aa740f1",
   "metadata": {},
   "outputs": [],
   "source": [
    "df_stance = pd.read_csv(PATH_CHOSEN)"
   ]
  },
  {
   "cell_type": "code",
   "execution_count": null,
   "id": "35567f4d",
   "metadata": {},
   "outputs": [],
   "source": [
    "df_stance[\"speaker_unique\"] = df_stance[\"speaker\"].apply(lambda speaker: get_unique_speaker(speaker, dict_speaker_party))"
   ]
  },
  {
   "cell_type": "code",
   "execution_count": null,
   "id": "fc5d7596",
   "metadata": {},
   "outputs": [],
   "source": [
    "df_stance_filtered = df_stance[~df_stance[\"label\"].isna()]"
   ]
  },
  {
   "cell_type": "markdown",
   "id": "25dc355a",
   "metadata": {},
   "source": [
    "Create a plot containing the amount of statements relevant to the topic per party"
   ]
  },
  {
   "cell_type": "code",
   "execution_count": null,
   "id": "eb6b5aeb",
   "metadata": {},
   "outputs": [],
   "source": [
    "plot = df_stance_filtered[\"party\"].value_counts().plot(\n",
    "                kind=\"bar\",\n",
    "                color=BAR_CHART_COLOR,\n",
    "                title=\"Amount of speeches per party (Topic = {topic})\".format(topic=TOPIC_CHOSEN)\n",
    "            )\n",
    "\n",
    "fig = plot.get_figure()\n",
    "fig.tight_layout()\n",
    "fig.savefig(PDF_FOLDER_CHOSEN + 'plot_speeches_per_party_{topic}.pdf'.format(topic=TOPIC_CHOSEN), format='pdf')"
   ]
  },
  {
   "cell_type": "markdown",
   "id": "881871e4",
   "metadata": {},
   "source": [
    "Plot the total amount of each stance"
   ]
  },
  {
   "cell_type": "code",
   "execution_count": null,
   "id": "2779caae",
   "metadata": {
    "scrolled": false
   },
   "outputs": [],
   "source": [
    "plot = df_stance_filtered[\"label\"].value_counts().plot(\n",
    "    kind=\"bar\",\n",
    "    color=BAR_CHART_COLOR,\n",
    "    title=\"Total amount of each stance (Topic = {topic})\".format(topic=TOPIC_CHOSEN)\n",
    ")\n",
    "\n",
    "fig = plot.get_figure()\n",
    "fig.tight_layout()\n",
    "fig.savefig(PDF_FOLDER_CHOSEN + 'plot_total_amount_stance_{topic}.pdf'.format(topic=TOPIC_CHOSEN), format='pdf')"
   ]
  },
  {
   "cell_type": "code",
   "execution_count": null,
   "id": "7aac885c",
   "metadata": {
    "scrolled": false
   },
   "outputs": [],
   "source": [
    "grouped_df = df_stance_filtered.groupby(['label', 'party']).size().unstack()\n",
    "\n",
    "color_map = {\n",
    "    'FPÖ' : HEX_COLORS[5], \n",
    "    'Grüne' : HEX_COLORS[3], \n",
    "    'NEOS' : HEX_COLORS[7], \n",
    "    'Parteilos' : HEX_COLORS[1], \n",
    "    'SPÖ' : HEX_COLORS[6], \n",
    "    'ÖVP' : HEX_COLORS[2]\n",
    "}\n",
    "\n",
    "colors = grouped_df.columns.map(color_map)\n",
    "\n",
    "# Create the bar chart\n",
    "plot = grouped_df.plot(kind='bar', stacked=False,color=colors)\n",
    "\n",
    "# Add labels and title\n",
    "plt.xlabel('Political Stance')\n",
    "plt.ylabel('Count')\n",
    "plt.title('Grouped Bar Chart of political stances per party ({topic})'.format(topic=TOPIC_CHOSEN))\n",
    "\n",
    "# Show the chart\n",
    "plt.show()\n",
    "\n",
    "fig = plot.get_figure()\n",
    "fig.tight_layout()\n",
    "fig.savefig(PDF_FOLDER_CHOSEN + 'grouped_stance_party_{topic}.pdf'.format(topic=TOPIC_CHOSEN), format='pdf')"
   ]
  },
  {
   "cell_type": "code",
   "execution_count": null,
   "id": "0cc3c8a0",
   "metadata": {
    "scrolled": true
   },
   "outputs": [],
   "source": [
    "topic_speakers_unique = df_stance_filtered.groupby(\"party\")[\"speaker_unique\"].nunique().sort_index()\n",
    "total_speakers_unique = df_speaker_party.groupby(\"party\")[\"unique_speaker\"].nunique().sort_index()\n",
    "\n",
    "# create a figure and axes object\n",
    "fig, ax = plt.subplots()\n",
    "\n",
    "# specify the width of each bar\n",
    "bar_width = 0.4\n",
    "\n",
    "# specify the x-coordinates of the bars in each plot\n",
    "x_pos1 = np.arange(len(topic_speakers_unique.index))\n",
    "x_pos2 = x_pos1 + bar_width\n",
    "\n",
    "ax.bar(x_pos1, topic_speakers_unique.values, width=bar_width, label='Speakers Topic',color=RGB_COLORS[1])\n",
    "\n",
    "ax.bar(x_pos2, total_speakers_unique.values, width=bar_width, label='Speakers Total',color=BAR_CHART_COLOR)\n",
    "\n",
    "ax.set_xticks(x_pos1 + bar_width / 2)\n",
    "ax.set_xticklabels(topic_speakers_unique.index)\n",
    "\n",
    "ax.set_xlabel('Party')\n",
    "ax.set_ylabel('Speaker Count')\n",
    "\n",
    "ax.set_title('Total Speakers vs. Speakers who spoke about topic ({topic})'.format(topic=TOPIC_CHOSEN))\n",
    "\n",
    "ax.legend()\n",
    "\n",
    "plt.show()\n",
    "\n",
    "fig.tight_layout()\n",
    "fig.savefig(PDF_FOLDER_CHOSEN + 'total_vs_speakers_on_topic_{topic}.pdf'.format(topic=TOPIC_CHOSEN), format='pdf')"
   ]
  },
  {
   "cell_type": "markdown",
   "id": "de8efaa8",
   "metadata": {},
   "source": [
    "Average stance per party"
   ]
  },
  {
   "cell_type": "code",
   "execution_count": null,
   "id": "25fb8919",
   "metadata": {},
   "outputs": [],
   "source": [
    "df_stance_filtered[\"label\"].unique()"
   ]
  },
  {
   "cell_type": "code",
   "execution_count": null,
   "id": "452f0654",
   "metadata": {},
   "outputs": [],
   "source": [
    "def map_stance_to_number(stance):\n",
    "    if stance == 'Strongly Approving Stance':\n",
    "        return 1.0\n",
    "    \n",
    "    if stance == 'Moderately Approving Stance':\n",
    "        return 0.75\n",
    "    \n",
    "    if stance == 'Neutral Stance':\n",
    "        return 0.5\n",
    "    \n",
    "    if stance == 'Moderately Opposing Stance':\n",
    "        return 0.25\n",
    "\n",
    "    if stance == 'Strongly opposing stance':\n",
    "        return 0"
   ]
  },
  {
   "cell_type": "code",
   "execution_count": null,
   "id": "92489ba1",
   "metadata": {
    "scrolled": true
   },
   "outputs": [],
   "source": [
    "df_stance_filtered[\"stance_numeric\"] = df_stance_filtered[\"label\"].apply(lambda stance: map_stance_to_number(stance))"
   ]
  },
  {
   "cell_type": "code",
   "execution_count": null,
   "id": "1cfa5636",
   "metadata": {},
   "outputs": [],
   "source": [
    "plot = df_stance_filtered.groupby(\"party\")[\"stance_numeric\"].mean().sort_values().plot(\n",
    "    kind=\"bar\",\n",
    "    color=BAR_CHART_COLOR,\n",
    "    title=\"Average stance per party ({topic})\".format(topic=TOPIC_CHOSEN)\n",
    ")\n",
    "\n",
    "plot.axhline(y=0.75, color=RGB_COLORS[1], linestyle='--')\n",
    "plot.text(-2, 0.75, 'Mod. Approving', color=RGB_COLORS[1])\n",
    "plot.axhline(y=0.5, color=RGB_COLORS[1], linestyle='--')\n",
    "plot.text(-2, 0.5, 'Neutral', color=RGB_COLORS[1])\n",
    "\n",
    "\n",
    "fig = plot.get_figure()\n",
    "fig.tight_layout()\n",
    "fig.savefig(PDF_FOLDER_CHOSEN + 'average_stance_party_{topic}.pdf'.format(topic=TOPIC_CHOSEN), format='pdf')"
   ]
  },
  {
   "cell_type": "code",
   "execution_count": null,
   "id": "c69c82d3",
   "metadata": {},
   "outputs": [],
   "source": [
    "dict_average_stance_per_party = dict(df_stance_filtered.groupby(\"party\")[\"stance_numeric\"].mean())"
   ]
  },
  {
   "cell_type": "code",
   "execution_count": null,
   "id": "46b47096",
   "metadata": {},
   "outputs": [],
   "source": [
    "df_mean_stance_per_speaker = pd.DataFrame(df_stance_filtered.groupby([\"speaker_unique\",\"party\"])[\"stance_numeric\"].mean()).reset_index()"
   ]
  },
  {
   "cell_type": "code",
   "execution_count": null,
   "id": "edcdc519",
   "metadata": {},
   "outputs": [],
   "source": [
    "df_mean_stance_per_speaker[\"average_party_stance\"] = df_mean_stance_per_speaker[\"party\"].apply(lambda party: dict_average_stance_per_party[party])"
   ]
  },
  {
   "cell_type": "code",
   "execution_count": null,
   "id": "6d0133b8",
   "metadata": {},
   "outputs": [],
   "source": [
    "df_mean_stance_per_speaker[\"stance_higher_average\"] = df_mean_stance_per_speaker[\"stance_numeric\"] > df_mean_stance_per_speaker[\"average_party_stance\"]"
   ]
  },
  {
   "cell_type": "code",
   "execution_count": null,
   "id": "51cb6955",
   "metadata": {
    "scrolled": true
   },
   "outputs": [],
   "source": [
    "df_mean_stance_per_speaker"
   ]
  },
  {
   "cell_type": "markdown",
   "id": "fa923984",
   "metadata": {},
   "source": [
    "Find the one's within 5% range"
   ]
  },
  {
   "cell_type": "code",
   "execution_count": null,
   "id": "f8f3eb7a",
   "metadata": {},
   "outputs": [],
   "source": [
    "def stance_is_close_to_average_party_stance(stance_numeric, average_party_stance):\n",
    "    stance_max = stance_numeric * 1.05\n",
    "    stance_min = stance_numeric * 0.95\n",
    "    \n",
    "    if stance_max < average_party_stance:\n",
    "        return False\n",
    "    if stance_min > average_party_stance:\n",
    "        return False\n",
    "    else:\n",
    "        return True"
   ]
  },
  {
   "cell_type": "code",
   "execution_count": null,
   "id": "69afe5a7",
   "metadata": {},
   "outputs": [],
   "source": [
    "df_mean_stance_per_speaker[\"stance_5_percent_range\"] = df_mean_stance_per_speaker.apply(lambda x: stance_is_close_to_average_party_stance(x.stance_numeric,x.average_party_stance),axis=1)"
   ]
  },
  {
   "cell_type": "code",
   "execution_count": null,
   "id": "1d5165b7",
   "metadata": {},
   "outputs": [],
   "source": [
    "df_mean_stance_per_speaker[df_mean_stance_per_speaker[\"stance_5_percent_range\"]][\"party\"].value_counts().sort_index()"
   ]
  },
  {
   "cell_type": "code",
   "execution_count": null,
   "id": "267513ab",
   "metadata": {},
   "outputs": [],
   "source": [
    "df_mean_stance_per_speaker[\"party\"].value_counts().sort_index()"
   ]
  },
  {
   "cell_type": "code",
   "execution_count": null,
   "id": "49007658",
   "metadata": {},
   "outputs": [],
   "source": [
    "amount_of_speakers_in_range = df_mean_stance_per_speaker[df_mean_stance_per_speaker[\"stance_5_percent_range\"]][\"party\"].value_counts().sort_index()\n",
    "total_speakers_per_party = df_mean_stance_per_speaker[\"party\"].value_counts().sort_index()\n",
    "\n",
    "# create a figure and axes object\n",
    "fig, ax = plt.subplots()\n",
    "\n",
    "# specify the width of each bar\n",
    "bar_width = 0.4\n",
    "\n",
    "# specify the x-coordinates of the bars in each plot\n",
    "x_pos1 = np.arange(len(amount_of_speakers_in_range.index))\n",
    "x_pos2 = x_pos1 + bar_width\n",
    "\n",
    "ax.bar(x_pos1, amount_of_speakers_in_range.values, width=bar_width, label='Speakers in range',color=RGB_COLORS[1])\n",
    "\n",
    "ax.bar(x_pos2, total_speakers_per_party.values, width=bar_width, label='Speakers Total', color=BAR_CHART_COLOR)\n",
    "\n",
    "ax.set_xticks(x_pos1 + bar_width / 2)\n",
    "ax.set_xticklabels(amount_of_speakers_in_range.index)\n",
    "\n",
    "ax.set_xlabel('Party')\n",
    "ax.set_ylabel('Speaker Count')\n",
    "\n",
    "ax.set_title('Total Speakers vs. Speakers in 5% range of average stance ({topic})'.format(topic=TOPIC_CHOSEN))\n",
    "\n",
    "ax.legend()\n",
    "\n",
    "plt.show()\n",
    "\n",
    "fig.tight_layout()\n",
    "fig.savefig(PDF_FOLDER_CHOSEN + 'total_vs_speakers_in_range_{topic}.pdf'.format(topic=TOPIC_CHOSEN), format='pdf')"
   ]
  },
  {
   "cell_type": "markdown",
   "id": "6d607649",
   "metadata": {},
   "source": [
    "Top 10 seatings with most statements about topic"
   ]
  },
  {
   "cell_type": "code",
   "execution_count": null,
   "id": "58665db5",
   "metadata": {},
   "outputs": [],
   "source": [
    "df_stance_filtered[\"seating\"] = df_stance_filtered[\"file\"].apply(lambda filename: filename.split(\"_PARSED\")[0])"
   ]
  },
  {
   "cell_type": "code",
   "execution_count": null,
   "id": "15a7460c",
   "metadata": {
    "scrolled": true
   },
   "outputs": [],
   "source": [
    "plot = df_stance_filtered[\"seating\"].value_counts().sort_values(ascending=False).head(10).plot(\n",
    "    kind=\"bar\",\n",
    "    color=BAR_CHART_COLOR,\n",
    "    title = \"National council meetings with the most speeches about topic ({topic})\".format(topic=TOPIC_CHOSEN)\n",
    ")\n",
    "\n",
    "fig = plot.get_figure()\n",
    "fig.tight_layout()\n",
    "fig.savefig(PDF_FOLDER_CHOSEN + 'meetings_top_10_{topic}.pdf'.format(topic=TOPIC_CHOSEN), format='pdf')"
   ]
  },
  {
   "cell_type": "code",
   "execution_count": null,
   "id": "8c903513",
   "metadata": {},
   "outputs": [],
   "source": [
    "df_stance_filtered[\"seating\"].value_counts().sort_values(ascending=False).head(3)"
   ]
  }
 ],
 "metadata": {
  "kernelspec": {
   "display_name": "Python 3 (ipykernel)",
   "language": "python",
   "name": "python3"
  },
  "language_info": {
   "codemirror_mode": {
    "name": "ipython",
    "version": 3
   },
   "file_extension": ".py",
   "mimetype": "text/x-python",
   "name": "python",
   "nbconvert_exporter": "python",
   "pygments_lexer": "ipython3",
   "version": "3.8.13"
  }
 },
 "nbformat": 4,
 "nbformat_minor": 5
}
