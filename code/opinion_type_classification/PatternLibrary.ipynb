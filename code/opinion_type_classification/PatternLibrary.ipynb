{
 "cells": [
  {
   "cell_type": "code",
   "execution_count": 4,
   "id": "c399ccf2",
   "metadata": {},
   "outputs": [],
   "source": [
    "from pattern.de import parse, split\n",
    "import re\n",
    "import pandas as pd\n",
    "import nltk"
   ]
  },
  {
   "cell_type": "code",
   "execution_count": 13,
   "id": "d7901563",
   "metadata": {},
   "outputs": [],
   "source": [
    "PATH_TO_DATASET = \"../../data/protocols/all_parsed.csv\"\n",
    "PATH_TO_ADJECTIVES_DATASET = \"adjektive/nearly_all.csv\""
   ]
  },
  {
   "cell_type": "code",
   "execution_count": 7,
   "id": "3999b72f",
   "metadata": {},
   "outputs": [],
   "source": [
    "df = pd.read_csv(PATH_TO_DATASET)"
   ]
  },
  {
   "cell_type": "code",
   "execution_count": 10,
   "id": "3f827738",
   "metadata": {},
   "outputs": [],
   "source": [
    "def contains_superlative(sentence):\n",
    "    res = re.search('am [a-zäöüß]+(s|ß)ten',sentence)\n",
    "    \n",
    "    return bool(res)\n",
    "\n",
    "def contains_comparative(sentence, comparative_words = None):\n",
    "    \n",
    "    res_list = []\n",
    "    \n",
    "    # First case: so ... wie\n",
    "    res_case_1 = re.search('so [a-zäöüß ]* wie',sentence)\n",
    "    res_list.append(bool(res_case_1))\n",
    "    \n",
    "    # Second case: nicht so ... wie\n",
    "    res_case_2 = re.search('nicht so [a-zäöüß ]* wie',sentence)\n",
    "    res_list.append(bool(res_case_2))\n",
    "    \n",
    "    # Third case: immer ...\n",
    "    res_case_3 = re.search('immer [a-zäöüß]+er',sentence)\n",
    "    res_list.append(bool(res_case_3))\n",
    "    \n",
    "    # Fourth case: als\n",
    "    res_case_4 = re.search('[a-zäöüß]+er als [a-zäöüß]+',sentence)\n",
    "    res_list.append(bool(res_case_4))\n",
    "    \n",
    "    # Fifth case: je ... desto or je ... umso\n",
    "    res_case_5 = re.search('(Je|je) [a-zäöüß ,]+(desto|umso)',sentence)\n",
    "    res_list.append(bool(res_case_5))\n",
    "    \n",
    "    # Sixth case: text contains any word that is specified in the set of comparative words\n",
    "    # optional, as the set of comparative words is an optional parameter\n",
    "    if comparative_words is not None:\n",
    "        words = nltk.tokenize.word_tokenize(sentence,language='german')\n",
    "        \n",
    "        for word in words:\n",
    "            if word in comparative_words:\n",
    "                res_list.append(True)\n",
    "                break\n",
    "    \n",
    "    \n",
    "    return True in res_list"
   ]
  },
  {
   "cell_type": "code",
   "execution_count": 16,
   "id": "03142b37",
   "metadata": {},
   "outputs": [],
   "source": [
    "df_adjectives = pd.read_csv(PATH_TO_ADJECTIVES_DATASET)"
   ]
  },
  {
   "cell_type": "code",
   "execution_count": 33,
   "id": "6fe96ffd",
   "metadata": {},
   "outputs": [],
   "source": [
    "set_comparative = set(df_adjectives[\"komparativ\"].to_list())"
   ]
  },
  {
   "cell_type": "code",
   "execution_count": 34,
   "id": "f0c943c3",
   "metadata": {},
   "outputs": [],
   "source": [
    "words_to_remove = []\n",
    "\n",
    "for word in set_comparative:\n",
    "    if len(word) < 3:\n",
    "        words_to_remove.append(word)"
   ]
  },
  {
   "cell_type": "code",
   "execution_count": 36,
   "id": "c119fe90",
   "metadata": {},
   "outputs": [],
   "source": [
    "for word in words_to_remove:\n",
    "    set_comparative.remove(word)"
   ]
  },
  {
   "cell_type": "code",
   "execution_count": 76,
   "id": "405c7892",
   "metadata": {},
   "outputs": [
    {
     "data": {
      "text/plain": [
       "0        Bevor ich die Sitzung schließe, meine sehr gee...\n",
       "1        Wir haben eine neue Regierung angelobt. Das sc...\n",
       "2        Ich darf mich ganz, ganz herzlich dafür bedank...\n",
       "3        Wir konnten ab Mai unsere Arbeit wieder sukzes...\n",
       "4        Ich denke da an die Veranstaltungen, die Arbei...\n",
       "                               ...                        \n",
       "63904    Meine Damen und Herren, Sie sehen also: Opposi...\n",
       "63905    Abgeordneter Michel Reimon, MBA (Grüne) : Herr...\n",
       "63906    Wie alle Vorredner gesagt haben: Alle Daten, d...\n",
       "63907    Wir haben das als Oppositionspartei auch gesch...\n",
       "63908    Wir stellen uns schützend vor die Polizei und ...\n",
       "Name: speech, Length: 63909, dtype: object"
      ]
     },
     "execution_count": 76,
     "metadata": {},
     "output_type": "execute_result"
    }
   ],
   "source": [
    "df[\"speech\"]"
   ]
  },
  {
   "cell_type": "code",
   "execution_count": 25,
   "id": "0a4ed6af",
   "metadata": {},
   "outputs": [],
   "source": [
    "df[\"contains_comparative\"] = df[\"speech\"].apply(lambda row: contains_comparative(row))"
   ]
  },
  {
   "cell_type": "code",
   "execution_count": 37,
   "id": "37efbbd5",
   "metadata": {},
   "outputs": [],
   "source": [
    "df[\"contains_comparative_with_set\"] = df[\"speech\"].apply(lambda row: contains_comparative(row,set_comparative))"
   ]
  },
  {
   "cell_type": "code",
   "execution_count": 54,
   "id": "23bcefc5",
   "metadata": {},
   "outputs": [],
   "source": [
    "df[\"contains_superlative\"] = df[\"speech\"].apply(lambda row: contains_superlative(row))"
   ]
  },
  {
   "cell_type": "code",
   "execution_count": 56,
   "id": "46ebc747",
   "metadata": {},
   "outputs": [],
   "source": [
    "df_comp_sup = df[df[\"contains_superlative\"] & df[\"contains_comparative_with_set\"]]"
   ]
  },
  {
   "cell_type": "code",
   "execution_count": 65,
   "id": "f69ad588",
   "metadata": {},
   "outputs": [
    {
     "data": {
      "text/plain": [
       "speaker                          Bundesministerin für Digitalisierung und Wirts...\n",
       "speech                           Wenn wir darauf schauen, was wir gemeinsam err...\n",
       "file                                                           NRSITZ_00085_PARSED\n",
       "contains_comparative_with_set                                                 True\n",
       "contains_comparative                                                         False\n",
       "comp_sup                                                                      True\n",
       "contains_superlative                                                          True\n",
       "Name: 14348, dtype: object"
      ]
     },
     "execution_count": 65,
     "metadata": {},
     "output_type": "execute_result"
    }
   ],
   "source": [
    "df_comp_sup.iloc[52]"
   ]
  },
  {
   "cell_type": "code",
   "execution_count": 89,
   "id": "71b9c27c",
   "metadata": {},
   "outputs": [
    {
     "data": {
      "text/plain": [
       "6        Ich darf mich bei den Mitgliedern der Präsidia...\n",
       "103      Das ist eben das, wie die ÖVP das am laufenden...\n",
       "106      Da sieht man, wie die schwarzen Netzwerke so a...\n",
       "111      Schiebt man diesen Fall jetzt zur Seite, Herr ...\n",
       "115      Herr Bundeskanzler, darum geht es uns, darum g...\n",
       "                               ...                        \n",
       "63786    Wenn bei Kindern und Jugendlichen mit einer un...\n",
       "63803    Sehr geehrter Herr Präsident! Sehr geschätzte ...\n",
       "63830    Sehr geehrter Herr Präsident! Sehr geehrter He...\n",
       "63866    Ich freue mich, dass die ÖVP bereits Sympathie...\n",
       "63876    Leider ist das nur eine Ausnahme, denn auch im...\n",
       "Name: speech, Length: 3130, dtype: object"
      ]
     },
     "execution_count": 89,
     "metadata": {},
     "output_type": "execute_result"
    }
   ],
   "source": [
    "df[df[\"contains_comparative\"]][\"speech\"]"
   ]
  }
 ],
 "metadata": {
  "kernelspec": {
   "display_name": "Python 3 (ipykernel)",
   "language": "python",
   "name": "python3"
  },
  "language_info": {
   "codemirror_mode": {
    "name": "ipython",
    "version": 3
   },
   "file_extension": ".py",
   "mimetype": "text/x-python",
   "name": "python",
   "nbconvert_exporter": "python",
   "pygments_lexer": "ipython3",
   "version": "3.8.13"
  }
 },
 "nbformat": 4,
 "nbformat_minor": 5
}
