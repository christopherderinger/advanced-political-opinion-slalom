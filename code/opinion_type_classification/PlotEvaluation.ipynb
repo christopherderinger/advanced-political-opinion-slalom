{
 "cells": [
  {
   "cell_type": "code",
   "execution_count": null,
   "id": "b89d0e68",
   "metadata": {},
   "outputs": [],
   "source": [
    "import pandas as pd\n",
    "import numpy as np\n",
    "import matplotlib.pyplot as plt\n",
    "import matplotlib.colors as mcolors"
   ]
  },
  {
   "cell_type": "markdown",
   "id": "b3558aa7",
   "metadata": {},
   "source": [
    "https://wortschatz.uni-leipzig.de/de/download/German#deu_wikipedia_2018"
   ]
  },
  {
   "cell_type": "markdown",
   "id": "076fdb57",
   "metadata": {},
   "source": [
    "The goal of this notebook is to visualize the results that were gathered in a visual form using plots. For now they are only shown in tables which is confusing in some cases"
   ]
  },
  {
   "cell_type": "code",
   "execution_count": null,
   "id": "e855d816",
   "metadata": {},
   "outputs": [],
   "source": [
    "PDF_FOLDER_CHOSEN = 'plots/'"
   ]
  },
  {
   "cell_type": "code",
   "execution_count": null,
   "id": "9aa836cc",
   "metadata": {},
   "outputs": [],
   "source": [
    "HEX_COLORS = ['#000000','#E69F00','#56B4E9','#009E73','#F0E442','#0072B2','#D55E00','#CC79A7']\n",
    "RGB_COLORS = [mcolors.hex2color(hex_color) for hex_color in HEX_COLORS]\n",
    "\n",
    "BAR_CHART_COLOR = RGB_COLORS[2]\n",
    "BAR_CHART_ORANGE = RGB_COLORS[1]"
   ]
  },
  {
   "cell_type": "markdown",
   "id": "5188b47b",
   "metadata": {},
   "source": [
    "## Plot 1: Comparison of the pos-tag based approaches"
   ]
  },
  {
   "cell_type": "code",
   "execution_count": null,
   "id": "7a989ce2",
   "metadata": {},
   "outputs": [],
   "source": [
    "categories = ['Non-Opinionated', 'Opinionated', 'Comparative Opinionated', 'Superlative Opinionated']\n",
    "values1 = [6250, 44578, 8697, 5259]\n",
    "values2 = [9422, 44070, 7343, 3543]\n",
    "\n",
    "fig, ax = plt.subplots()\n",
    "\n",
    "bar_width = 0.35\n",
    "\n",
    "bar_positions1 = np.arange(len(categories))\n",
    "bar_positions2 = bar_positions1 + bar_width\n",
    "\n",
    "ax.bar(bar_positions1, values1, width=bar_width, label='POS-Tags', color=BAR_CHART_COLOR)\n",
    "ax.bar(bar_positions2, values2, width=bar_width, label='POS-Tags + Filter', color=BAR_CHART_ORANGE)\n",
    "\n",
    "ax.set_xlabel('Categories')\n",
    "ax.set_ylabel('Amount')\n",
    "ax.set_title('Comparision of the two POS-Tag based approaches')\n",
    "\n",
    "ax.set_xticks(bar_positions1 + bar_width / 2)\n",
    "ax.set_xticklabels(categories)\n",
    "plt.xticks(rotation='vertical')\n",
    "\n",
    "ax.legend()\n",
    "\n",
    "plt.tight_layout()\n",
    "plt.savefig(PDF_FOLDER_CHOSEN + 'compare_pos.pdf', format='pdf')"
   ]
  },
  {
   "cell_type": "markdown",
   "id": "abad787a",
   "metadata": {},
   "source": [
    "## Plot 2: Data driven Approach (Opinionated)"
   ]
  },
  {
   "cell_type": "code",
   "execution_count": null,
   "id": "1a475133",
   "metadata": {},
   "outputs": [],
   "source": [
    "values = [41728, 43867, 44070, 44578, 56012, 58587, 58862, 59298]\n",
    "categories = ['POS-Tags \\u2227 Set P', 'POS-Tags \\u2227 Set PD' , 'POS-Tags + Filter','POS-Tags', 'Set P', 'Set PD','POS-Tags \\u2228 Set P', 'POS-Tags \\u2228 Set PD']\n",
    "\n",
    "barchart = plt.bar(categories, values, color=BAR_CHART_COLOR)\n",
    "barchart[3].set_color(BAR_CHART_ORANGE)\n",
    "\n",
    "# Add labels and title\n",
    "plt.xlabel('Approaches')\n",
    "plt.ylabel('Amount')\n",
    "plt.title('Data-driven approaches vs POS-Tag approach (Positive)')\n",
    "\n",
    "# Rotate x-labels\n",
    "plt.xticks(rotation='vertical')\n",
    "\n",
    "plt.tight_layout()\n",
    "plt.savefig(PDF_FOLDER_CHOSEN + 'datadriven_positive.pdf', format='pdf')"
   ]
  },
  {
   "cell_type": "code",
   "execution_count": null,
   "id": "cfbe28ea",
   "metadata": {},
   "outputs": [],
   "source": [
    "print(\"Logical AND:\", \"\\u2227\")  # Prints the logical AND symbol (∧)\n",
    "print(\"Logical OR:\", \"\\u2228\")"
   ]
  },
  {
   "cell_type": "markdown",
   "id": "e9c04829",
   "metadata": {},
   "source": [
    "## Plot 3: Data driven Approach (Comparative Opinionated)"
   ]
  },
  {
   "cell_type": "code",
   "execution_count": null,
   "id": "2b2a6b31",
   "metadata": {},
   "outputs": [],
   "source": [
    "values = [6284, 7343, 7405, 8697, 19076, 20275, 21489, 21567]\n",
    "categories = ['POS-Tags \\u2227 Set C','POS-Tags + Filter', 'POS-Tags \\u2227 Set CD', 'POS-Tags', 'Set C', 'Set CD', 'POS-Tags \\u2228 Set C', 'POS-Tags \\u2228 Set CD']\n",
    "barchart = plt.bar(categories, values, color=BAR_CHART_COLOR)\n",
    "barchart[3].set_color(BAR_CHART_ORANGE)\n",
    "\n",
    "# Add labels and title\n",
    "plt.xlabel('Approaches')\n",
    "plt.ylabel('Amount')\n",
    "plt.title('Data-driven approaches vs POS-Tag approach (Comparative)')\n",
    "\n",
    "# Rotate x-labels\n",
    "plt.xticks(rotation='vertical')\n",
    "\n",
    "plt.tight_layout()\n",
    "plt.savefig(PDF_FOLDER_CHOSEN + 'datadriven_comparative.pdf', format='pdf')"
   ]
  },
  {
   "cell_type": "markdown",
   "id": "2c57ac4b",
   "metadata": {},
   "source": [
    "## Plot 4: Data driven Approach (Superlative Opinionated)"
   ]
  },
  {
   "cell_type": "code",
   "execution_count": null,
   "id": "c43f528d",
   "metadata": {
    "scrolled": true
   },
   "outputs": [],
   "source": [
    "values = [1690, 1973, 3543, 5259, 5542]\n",
    "categories = ['POS-Tags \\u2227 Set S', 'Set S', 'POS-Tags + Filter', 'POS-Tags', 'POS-Tags \\u2228 Set S']\n",
    "barchart = plt.bar(categories, values, color=BAR_CHART_COLOR)\n",
    "barchart[3].set_color(BAR_CHART_ORANGE)\n",
    "\n",
    "# Add labels and title\n",
    "plt.xlabel('Approaches')\n",
    "plt.ylabel('Amount')\n",
    "plt.title('Data-driven approaches vs POS-Tag approach (Superlative)')\n",
    "\n",
    "# Rotate x-labels\n",
    "plt.xticks(rotation='vertical')\n",
    "\n",
    "plt.tight_layout()\n",
    "plt.savefig(PDF_FOLDER_CHOSEN + 'datadriven_superlative.pdf', format='pdf')"
   ]
  },
  {
   "cell_type": "markdown",
   "id": "bc7b9f5d",
   "metadata": {},
   "source": [
    "## Plot 5: Rule Based Approach (Comparative Opinionated)"
   ]
  },
  {
   "cell_type": "code",
   "execution_count": null,
   "id": "bf1f7bf1",
   "metadata": {},
   "outputs": [],
   "source": [
    "values = [745, 748, 1025, 1533, 1722, 3051, 7343, 8697, 9485, 9485, 10723]\n",
    "categories = ['POS-Tags \\u2227 (Ruleset C \\u2227 Set C)', \n",
    "              'POS-Tags \\u2227 (Ruleset C \\u2227 Set CD)', \n",
    "              'POS-Tags \\u2227 Ruleset C', \n",
    "              'Ruleset C \\u2227 Set C', \n",
    "              'Ruleset C \\u2227 Set CD', \n",
    "              'Ruleset C',\n",
    "              'POS-Tags + Filter',\n",
    "              'POS-Tags',\n",
    "              'POS-Tags \\u2228 (Ruleset C \\u2227 Set C)',\n",
    "              'POS-Tags \\u2228 (Ruleset C \\u2227 Set CD)', \n",
    "              'POS-Tags \\u2228 Ruleset C'\n",
    "             ]\n",
    "\n",
    "barchart = plt.bar(categories, values, color=BAR_CHART_COLOR)\n",
    "barchart[7].set_color(BAR_CHART_ORANGE)\n",
    "# Add labels and title\n",
    "plt.xlabel('Approaches')\n",
    "plt.ylabel('Amount')\n",
    "plt.title('Rule-based approaches vs POS-Tag approach (Comparative)')\n",
    "\n",
    "# Rotate x-labels\n",
    "plt.xticks(rotation='vertical')\n",
    "\n",
    "plt.tight_layout()\n",
    "plt.savefig(PDF_FOLDER_CHOSEN + 'rulebased_comparative.pdf', format='pdf')"
   ]
  },
  {
   "cell_type": "markdown",
   "id": "95964dae",
   "metadata": {},
   "source": [
    "## Plot 6: Rule Based Approach (Superlative Opinionated)"
   ]
  },
  {
   "cell_type": "code",
   "execution_count": null,
   "id": "9601b0f9",
   "metadata": {},
   "outputs": [],
   "source": [
    "values = [383, 477, 3543, 5259, 5353]\n",
    "categories = ['POS-Tags \\u2227 Ruleset S', 'Ruleset S', 'POS-Tags + Filter', 'POS-Tags', 'POS-Tags \\u2228 Ruleset S']\n",
    "\n",
    "barchart = plt.bar(categories, values, color=BAR_CHART_COLOR)\n",
    "barchart[3].set_color(BAR_CHART_ORANGE)\n",
    "# Add labels and title\n",
    "plt.xlabel('Approaches')\n",
    "plt.ylabel('Amount')\n",
    "plt.title('Rule-based approaches vs POS-Tag approach (Superlative)')\n",
    "\n",
    "# Rotate x-labels\n",
    "plt.xticks(rotation='vertical')\n",
    "plt.tight_layout()\n",
    "plt.savefig(PDF_FOLDER_CHOSEN + 'rulebased_superlative.pdf', format='pdf')"
   ]
  }
 ],
 "metadata": {
  "kernelspec": {
   "display_name": "Python 3 (ipykernel)",
   "language": "python",
   "name": "python3"
  },
  "language_info": {
   "codemirror_mode": {
    "name": "ipython",
    "version": 3
   },
   "file_extension": ".py",
   "mimetype": "text/x-python",
   "name": "python",
   "nbconvert_exporter": "python",
   "pygments_lexer": "ipython3",
   "version": "3.8.13"
  }
 },
 "nbformat": 4,
 "nbformat_minor": 5
}
