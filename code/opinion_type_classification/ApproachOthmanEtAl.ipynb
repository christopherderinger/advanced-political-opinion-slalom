{
 "cells": [
  {
   "cell_type": "code",
   "execution_count": 583,
   "id": "7abfc6d4",
   "metadata": {},
   "outputs": [],
   "source": [
    "import pandas as pd\n",
    "import numpy as np\n",
    "import re\n",
    "import nltk\n",
    "import operator\n",
    "import csv"
   ]
  },
  {
   "cell_type": "code",
   "execution_count": 2,
   "id": "d84c467b",
   "metadata": {},
   "outputs": [],
   "source": [
    "PATH_TO_TAGGED_STATEMENTS = \"all_tagged.csv\""
   ]
  },
  {
   "cell_type": "markdown",
   "id": "d5605a55",
   "metadata": {},
   "source": [
    "Importing the .csv file containing all the political statements and the pos-tagged version of the statements. The RFTagger was used for tagging"
   ]
  },
  {
   "cell_type": "code",
   "execution_count": 3,
   "id": "062815aa",
   "metadata": {},
   "outputs": [],
   "source": [
    "df = pd.read_csv(PATH_TO_TAGGED_STATEMENTS)"
   ]
  },
  {
   "cell_type": "markdown",
   "id": "cd6ac48c",
   "metadata": {},
   "source": [
    "This notebooks aims at reimplementing the approach followed by Othman et al. in the paper **Using NLP Approach for Opinion Types Classifier**.\n",
    "\n",
    "Four different categories are defined in the paper:\n",
    " - Non-Opinionated Statement\n",
    " - Comparative Opinionated Statement\n",
    " - Superlative Opinionated Statement \n",
    " - Opinionated Statement\n",
    " \n",
    "The table below shows which tags, if any, are relevant for a category:\n",
    " \n",
    "| Sentimental Category | POS Tags  |\n",
    "| --- | --- |\n",
    "| Non-Opinionated Statement |  -- |\n",
    "| Comparative Opinionated Statement |  JJR, RBR |\n",
    "| Superlative Opinionated Statement |  JJS, RBS |\n",
    "| Opinionated Statement |  JJ |\n",
    "\n",
    "The next table shows what each tag stands for in the tagger that was used in the paper:\n",
    "\n",
    "| POS Tag | Description  | Example |\n",
    "| --- | --- | --- |\n",
    "| JJ | Adjective  | Big |\n",
    "| JJR | Adjective comparative  | Bigger |\n",
    "| JJS | Adjective superlative  | Biggest |\n",
    "| RBR | Adverb comparative  | Better |\n",
    "| RBS | Adverb superlative  | Best |\n",
    "\n",
    "The RFTagger provides the following tags:\n",
    "\n",
    "| POS Tag (Paper) | POS Tag (RFTagger)  | \n",
    "| --- | --- |\n",
    "| JJ | ADJA, ADJD  |\n",
    "| JJR | ADJA.Comp, ADJD.Comp  |\n",
    "| JJS | ADJA.Sup, ADJD.Sup | \n",
    "| RBR | Am ehesten ADJD.Comp | \n",
    "| RBS | Am ehesten ADJD.Sup |"
   ]
  },
  {
   "cell_type": "code",
   "execution_count": 233,
   "id": "66259d2c",
   "metadata": {},
   "outputs": [
    {
     "data": {
      "text/plain": [
       "63909"
      ]
     },
     "execution_count": 233,
     "metadata": {},
     "output_type": "execute_result"
    }
   ],
   "source": [
    "df.shape[0]"
   ]
  },
  {
   "cell_type": "code",
   "execution_count": 5,
   "id": "e0b324f7",
   "metadata": {},
   "outputs": [],
   "source": [
    "def contains_tag(sentence, tag):\n",
    "    return tag in sentence\n",
    "\n",
    "def analyze_dataframe_for_tags(df, tags, mode=\"and\"):\n",
    "    column_names = []\n",
    "    modes = [\"and\", \"or\"]\n",
    "    \n",
    "    if mode not in modes:\n",
    "        print(\"Please use either 'and' or 'or' as mode\")\n",
    "        return\n",
    "    \n",
    "    # define the output of the function 'f' based on the input parameter\n",
    "    # 'mode'\n",
    "    if mode == 'and' or len(tags) == 1:\n",
    "        def f(x,y):\n",
    "            return x & y\n",
    "    else:\n",
    "        def f(x,y):\n",
    "            return x | y\n",
    "    \n",
    "    for tag in tags:\n",
    "        column_name = \"contains_tag_{tag}\".format(tag=tag)\n",
    "        column_names.append(column_name)\n",
    "        df[column_name] = df[\"tagged\"].apply(\n",
    "            lambda row: contains_tag(row, tag))\n",
    "    \n",
    "    final_truth_values = np.ones(df.shape[0], dtype=bool)\n",
    "    \n",
    "    if mode == \"or\" and len(tags) > 1:\n",
    "        final_truth_values = np.zeros(df.shape[0], dtype=bool)\n",
    "    \n",
    "    for column_name in column_names:\n",
    "        #final_truth_values = final_truth_values == df[column_name].to_numpy()\n",
    "        final_truth_values = f(final_truth_values, df[column_name].to_numpy())\n",
    "        df.drop(column_name, axis=1, inplace=True)\n",
    "    \n",
    "    final_column_name = \"\"\n",
    "    \n",
    "    for tag in tags:\n",
    "        final_column_name += tag\n",
    "        final_column_name += \"_\"\n",
    "    \n",
    "    final_column_name += mode\n",
    "    \n",
    "    df[final_column_name] = final_truth_values\n",
    "    \n",
    "    return df      "
   ]
  },
  {
   "cell_type": "code",
   "execution_count": 6,
   "id": "18164ced",
   "metadata": {},
   "outputs": [
    {
     "name": "stdout",
     "output_type": "stream",
     "text": [
      "\n"
     ]
    }
   ],
   "source": [
    "analyze_dataframe_for_tags(df,[\"ADJA.Comp\", \"ADJD.Comp\"],mode=\"or\")\n",
    "analyze_dataframe_for_tags(df,[\"ADJA.Sup\", \"ADJD.Sup\"],mode=\"or\")\n",
    "analyze_dataframe_for_tags(df,[\"ADJA\", \"ADJD\"],mode=\"or\")\n",
    "print()"
   ]
  },
  {
   "cell_type": "markdown",
   "id": "5612e8c2",
   "metadata": {},
   "source": [
    "Amount of statements for each of the tag combinations added above"
   ]
  },
  {
   "cell_type": "code",
   "execution_count": 234,
   "id": "e96c6c20",
   "metadata": {},
   "outputs": [
    {
     "data": {
      "text/plain": [
       "63909"
      ]
     },
     "execution_count": 234,
     "metadata": {},
     "output_type": "execute_result"
    }
   ],
   "source": [
    "df.shape[0]"
   ]
  },
  {
   "cell_type": "code",
   "execution_count": 7,
   "id": "d5a4a318",
   "metadata": {},
   "outputs": [
    {
     "data": {
      "text/plain": [
       "8697"
      ]
     },
     "execution_count": 7,
     "metadata": {},
     "output_type": "execute_result"
    }
   ],
   "source": [
    "df[df[\"ADJA.Comp_ADJD.Comp_or\"]].shape[0]"
   ]
  },
  {
   "cell_type": "code",
   "execution_count": 8,
   "id": "8b3fc1b0",
   "metadata": {},
   "outputs": [
    {
     "data": {
      "text/plain": [
       "5259"
      ]
     },
     "execution_count": 8,
     "metadata": {},
     "output_type": "execute_result"
    }
   ],
   "source": [
    "df[df[\"ADJA.Sup_ADJD.Sup_or\"]].shape[0]"
   ]
  },
  {
   "cell_type": "code",
   "execution_count": 236,
   "id": "34fe0ad7",
   "metadata": {},
   "outputs": [
    {
     "data": {
      "text/plain": [
       "44578"
      ]
     },
     "execution_count": 236,
     "metadata": {},
     "output_type": "execute_result"
    }
   ],
   "source": [
    "df[df[\"ADJA_ADJD_or\"] & ~df[\"ADJA.Sup_ADJD.Sup_or\"] & ~df[\"ADJA.Comp_ADJD.Comp_or\"]].shape[0]"
   ]
  },
  {
   "cell_type": "code",
   "execution_count": 488,
   "id": "4e293c38",
   "metadata": {},
   "outputs": [
    {
     "data": {
      "text/plain": [
       "57659"
      ]
     },
     "execution_count": 488,
     "metadata": {},
     "output_type": "execute_result"
    }
   ],
   "source": [
    "df[df[\"ADJA_ADJD_or\"]].shape[0]"
   ]
  },
  {
   "cell_type": "code",
   "execution_count": 237,
   "id": "794cc33a",
   "metadata": {},
   "outputs": [
    {
     "data": {
      "text/plain": [
       "6250"
      ]
     },
     "execution_count": 237,
     "metadata": {},
     "output_type": "execute_result"
    }
   ],
   "source": [
    "df[~df[\"ADJA_ADJD_or\"] & ~df[\"ADJA.Sup_ADJD.Sup_or\"] & ~df[\"ADJA.Comp_ADJD.Comp_or\"]].shape[0]"
   ]
  },
  {
   "cell_type": "markdown",
   "id": "f669fb27",
   "metadata": {},
   "source": [
    "### Evaluation of opinionated statements"
   ]
  },
  {
   "cell_type": "markdown",
   "id": "4c340e0d",
   "metadata": {},
   "source": [
    "First we define some functions that are used to analyze the words which were tagged with certain tags by the RFTagger"
   ]
  },
  {
   "cell_type": "code",
   "execution_count": 378,
   "id": "4fea349a",
   "metadata": {},
   "outputs": [],
   "source": [
    "def get_value_counts_of_tagged_words_by_postag(df_tagged, postag):\n",
    "    words = []\n",
    "    \n",
    "    words.extend(df_tagged[\"tagged\"].apply(lambda text: \n",
    "                             find_desired_words(text,postag)))\n",
    "    \n",
    "    words_flat = flatten_list_of_lists(words)\n",
    "    \n",
    "    column_name = postag.upper()\n",
    "    \n",
    "    return pd.DataFrame(words_flat, columns=[column_name]).value_counts()\n",
    "    \n",
    "\n",
    "def flatten_list_of_lists(list_of_lists):\n",
    "    return [item for sublist in list_of_lists for item in sublist]\n",
    "\n",
    "def find_desired_words(sentence, tag):\n",
    "    words = sentence.split(\" \")\n",
    "    res = []\n",
    "    \n",
    "    for word in words:\n",
    "        if tag in word:\n",
    "            res.append(word.split(\"\\t\")[0])\n",
    "    \n",
    "    return res\n",
    "\n",
    "def sentence_only_contains_words_that_should_be_ignored(sentence, tag, ignore_set):\n",
    "    relevant_words = find_desired_words(sentence,tag)\n",
    "    \n",
    "    res = []\n",
    "    \n",
    "    for word in relevant_words:\n",
    "        if word in ignore_set:\n",
    "            res.append(True)\n",
    "        else:\n",
    "            res.append(False)\n",
    "\n",
    "    return all(res)\n"
   ]
  },
  {
   "cell_type": "markdown",
   "id": "73b01d9b",
   "metadata": {},
   "source": [
    "#### First we want to display the words which were tagged with the ADJA and ADJD tags the most often"
   ]
  },
  {
   "cell_type": "code",
   "execution_count": 241,
   "id": "66898b2d",
   "metadata": {},
   "outputs": [],
   "source": [
    "df_adja_adjd = df[df[\"ADJA_ADJD_or\"] & ~df[\"ADJA.Sup_ADJD.Sup_or\"] & ~df[\"ADJA.Comp_ADJD.Comp_or\"]]"
   ]
  },
  {
   "cell_type": "markdown",
   "id": "2c47db4f",
   "metadata": {},
   "source": [
    "###### Analyze the words containing the ADJA tag"
   ]
  },
  {
   "cell_type": "markdown",
   "id": "dc80b911",
   "metadata": {},
   "source": [
    "The words 'geehrte', 'letzten', 'geehrter', 'Geschätzte', 'Liebe', 'Hohes', 'Werte', 'Geschätzter' and 'geschätzte'  are going to be added to the set of ignored words, as they might only have to do with greetings"
   ]
  },
  {
   "cell_type": "code",
   "execution_count": 374,
   "id": "c4d8aef5",
   "metadata": {},
   "outputs": [],
   "source": [
    "value_counts_adja = get_value_counts_of_tagged_words_by_postag(df_adja_adjd,\"ADJA\")"
   ]
  },
  {
   "cell_type": "code",
   "execution_count": 375,
   "id": "f6ee8afc",
   "metadata": {},
   "outputs": [
    {
     "data": {
      "text/plain": [
       "ADJA      \n",
       "geehrte       3096\n",
       "letzten       1959\n",
       "geehrter      1929\n",
       "anderen       1833\n",
       "Geschätzte    1712\n",
       "dtype: int64"
      ]
     },
     "execution_count": 375,
     "metadata": {},
     "output_type": "execute_result"
    }
   ],
   "source": [
    "value_counts_adja.head(5)"
   ]
  },
  {
   "cell_type": "markdown",
   "id": "72434364",
   "metadata": {},
   "source": [
    "##### Analyze words containing the ADJD tag"
   ]
  },
  {
   "cell_type": "markdown",
   "id": "820fbfc4",
   "metadata": {},
   "source": [
    "Here we cannot see a word that should clearly be added to the set of ignored words"
   ]
  },
  {
   "cell_type": "code",
   "execution_count": 376,
   "id": "8e00c0d8",
   "metadata": {},
   "outputs": [],
   "source": [
    "value_counts_adjd = get_value_counts_of_tagged_words_by_postag(df_adja_adjd,\"ADJD\")"
   ]
  },
  {
   "cell_type": "code",
   "execution_count": 379,
   "id": "896afb07",
   "metadata": {},
   "outputs": [
    {
     "data": {
      "text/plain": [
       "ADJD     \n",
       "wirklich     4370\n",
       "wichtig      3221\n",
       "gut          3034\n",
       "genau        1920\n",
       "gemeinsam    1853\n",
       "dtype: int64"
      ]
     },
     "execution_count": 379,
     "metadata": {},
     "output_type": "execute_result"
    }
   ],
   "source": [
    "value_counts_adjd.head(5)"
   ]
  },
  {
   "cell_type": "markdown",
   "id": "66b41a63",
   "metadata": {},
   "source": [
    "Defining the set of words that should be ignored "
   ]
  },
  {
   "cell_type": "code",
   "execution_count": 289,
   "id": "486aea7d",
   "metadata": {},
   "outputs": [],
   "source": [
    "adja_set_of_words_to_ignore = set(['geehrte', \n",
    "                                   'letzten', \n",
    "                                   'geehrter', \n",
    "                                   'Geschätzte', \n",
    "                                   'Liebe', \n",
    "                                   'Hohes',\n",
    "                                   'Werte', \n",
    "                                   'Geschätzter',\n",
    "                                   'geschätzte'\n",
    "                                  'geehrten',\n",
    "                                   '„'])"
   ]
  },
  {
   "cell_type": "markdown",
   "id": "df771713",
   "metadata": {},
   "source": [
    "Create new columns that are used to filter out texts with words that should be ignored, where no other ADJA or ADJD tag is present"
   ]
  },
  {
   "cell_type": "code",
   "execution_count": 380,
   "id": "cfb15335",
   "metadata": {},
   "outputs": [],
   "source": [
    "df[\"adja_to_ignore\"] = df_adja_adjd[\"tagged\"].apply(lambda sentence: \n",
    "            sentence_only_contains_words_that_should_be_ignored(sentence, 'ADJA', adja_set_of_words_to_ignore))"
   ]
  },
  {
   "cell_type": "code",
   "execution_count": 381,
   "id": "e63dc609",
   "metadata": {},
   "outputs": [],
   "source": [
    "df[\"adjd_to_ignore\"] = df_adja_adjd[\"tagged\"].apply(lambda sentence: \n",
    "            sentence_only_contains_words_that_should_be_ignored(sentence, 'ADJD', adja_set_of_words_to_ignore))"
   ]
  },
  {
   "cell_type": "markdown",
   "id": "75bb10d2",
   "metadata": {},
   "source": [
    "Replacing Nan with True as True is the value that is given to the texts that should be ignored"
   ]
  },
  {
   "cell_type": "code",
   "execution_count": 382,
   "id": "a4fdd274",
   "metadata": {},
   "outputs": [],
   "source": [
    "df[\"adja_to_ignore\"] = df[\"adja_to_ignore\"].fillna(True)\n",
    "df[\"adjd_to_ignore\"] = df[\"adjd_to_ignore\"].fillna(True)"
   ]
  },
  {
   "cell_type": "markdown",
   "id": "dc66f8da",
   "metadata": {},
   "source": [
    "Total amount of statements left after filtering out words that should be ignored"
   ]
  },
  {
   "cell_type": "code",
   "execution_count": 383,
   "id": "b2b51711",
   "metadata": {},
   "outputs": [
    {
     "data": {
      "text/plain": [
       "44070"
      ]
     },
     "execution_count": 383,
     "metadata": {},
     "output_type": "execute_result"
    }
   ],
   "source": [
    "df[~df[\"adja_to_ignore\"] | ~df[\"adjd_to_ignore\"]].shape[0]"
   ]
  },
  {
   "cell_type": "markdown",
   "id": "f12108fd",
   "metadata": {},
   "source": [
    "#### Now the same approach as above is implemented for ADJA.Comp and ADJD.Comp"
   ]
  },
  {
   "cell_type": "code",
   "execution_count": 298,
   "id": "3475c82a",
   "metadata": {},
   "outputs": [],
   "source": [
    "df_comp = df[df[\"ADJA.Comp_ADJD.Comp_or\"]]"
   ]
  },
  {
   "cell_type": "markdown",
   "id": "35d521a9",
   "metadata": {},
   "source": [
    "'weitere', 'weiteren', 'weiterer' and 'weiteres' would not be classified as comparative according to https://de.wiktionary.org/wiki/weiter - They are added to the set of ignored words"
   ]
  },
  {
   "cell_type": "code",
   "execution_count": 390,
   "id": "5073872f",
   "metadata": {},
   "outputs": [],
   "source": [
    "value_counts_adja_comp = get_value_counts_of_tagged_words_by_postag(df_comp,\"ADJA.Comp\")"
   ]
  },
  {
   "cell_type": "code",
   "execution_count": 391,
   "id": "7b3253a8",
   "metadata": {},
   "outputs": [
    {
     "data": {
      "text/plain": [
       "ADJA.COMP\n",
       "weitere      831\n",
       "weiteren     407\n",
       "weiterer     293\n",
       "bessere      280\n",
       "höhere       195\n",
       "weiteres     132\n",
       "höheren      131\n",
       "ältere       121\n",
       "größeren     109\n",
       "besseren      98\n",
       "dtype: int64"
      ]
     },
     "execution_count": 391,
     "metadata": {},
     "output_type": "execute_result"
    }
   ],
   "source": [
    "value_counts_adja_comp.head(10)"
   ]
  },
  {
   "cell_type": "code",
   "execution_count": 310,
   "id": "74d39c28",
   "metadata": {},
   "outputs": [],
   "source": [
    "adja_comp_set_of_words_to_ignore = set(['weitere', 'weiteren', 'weiterer','weiteres'])"
   ]
  },
  {
   "cell_type": "markdown",
   "id": "7ef18d25",
   "metadata": {},
   "source": [
    "Now the same is done for the ADJD.Comp tag"
   ]
  },
  {
   "cell_type": "markdown",
   "id": "bebd516b",
   "metadata": {},
   "source": [
    "Here we cannot see a word that should clearly be added to the set of ignored words"
   ]
  },
  {
   "cell_type": "code",
   "execution_count": 392,
   "id": "14a0d178",
   "metadata": {},
   "outputs": [],
   "source": [
    "value_counts_adjd_comp = get_value_counts_of_tagged_words_by_postag(df_comp,\"ADJD.Comp\")"
   ]
  },
  {
   "cell_type": "code",
   "execution_count": 398,
   "id": "a506a7a9",
   "metadata": {},
   "outputs": [
    {
     "data": {
      "text/plain": [
       "ADJD.COMP\n",
       "besser       1178\n",
       "später        409\n",
       "länger        404\n",
       "stärker       311\n",
       "wichtiger     265\n",
       "dtype: int64"
      ]
     },
     "execution_count": 398,
     "metadata": {},
     "output_type": "execute_result"
    }
   ],
   "source": [
    "value_counts_adjd_comp.head(5)"
   ]
  },
  {
   "cell_type": "code",
   "execution_count": 394,
   "id": "efbefacd",
   "metadata": {},
   "outputs": [],
   "source": [
    "df[\"adja_comp_to_ignore\"] = df_comp[\"tagged\"].apply(lambda sentence: sentence_only_contains_words_that_should_be_ignored(sentence, 'ADJA.Comp', adja_comp_set_of_words_to_ignore))"
   ]
  },
  {
   "cell_type": "code",
   "execution_count": 395,
   "id": "9526a2fd",
   "metadata": {},
   "outputs": [],
   "source": [
    "df[\"adjd_comp_to_ignore\"] = df_comp[\"tagged\"].apply(lambda sentence: sentence_only_contains_words_that_should_be_ignored(sentence, 'ADJD.Comp', adja_comp_set_of_words_to_ignore))"
   ]
  },
  {
   "cell_type": "code",
   "execution_count": 396,
   "id": "549e0c59",
   "metadata": {},
   "outputs": [],
   "source": [
    "df[\"adja_comp_to_ignore\"] = df[\"adja_comp_to_ignore\"].fillna(True)\n",
    "df[\"adjd_comp_to_ignore\"] = df[\"adjd_comp_to_ignore\"].fillna(True)"
   ]
  },
  {
   "cell_type": "code",
   "execution_count": 397,
   "id": "347145f1",
   "metadata": {},
   "outputs": [
    {
     "data": {
      "text/plain": [
       "7343"
      ]
     },
     "execution_count": 397,
     "metadata": {},
     "output_type": "execute_result"
    }
   ],
   "source": [
    "df[~df[\"adjd_comp_to_ignore\"] | ~df[\"adja_comp_to_ignore\"]].shape[0]"
   ]
  },
  {
   "cell_type": "markdown",
   "id": "85070f14",
   "metadata": {},
   "source": [
    "#### Now the same approach as above is implemented for ADJA.Sup and ADJD.Sup"
   ]
  },
  {
   "cell_type": "code",
   "execution_count": 361,
   "id": "d6278cc7",
   "metadata": {},
   "outputs": [],
   "source": [
    "df_sup = df[df[\"ADJA.Sup_ADJD.Sup_or\"]]"
   ]
  },
  {
   "cell_type": "code",
   "execution_count": 400,
   "id": "622c9b71",
   "metadata": {},
   "outputs": [],
   "source": [
    "value_counts_adja_sup = get_value_counts_of_tagged_words_by_postag(df_sup,\"ADJA.Sup\")"
   ]
  },
  {
   "cell_type": "code",
   "execution_count": 401,
   "id": "b37ad787",
   "metadata": {},
   "outputs": [
    {
     "data": {
      "text/plain": [
       "ADJA.SUP\n",
       "nächsten    1327\n",
       "nächste      449\n",
       "größte       355\n",
       "größten      313\n",
       "beste        223\n",
       "dtype: int64"
      ]
     },
     "execution_count": 401,
     "metadata": {},
     "output_type": "execute_result"
    }
   ],
   "source": [
    "value_counts_adja_sup.head(5)"
   ]
  },
  {
   "cell_type": "code",
   "execution_count": 402,
   "id": "9e8b09c9",
   "metadata": {},
   "outputs": [],
   "source": [
    "value_counts_adjd_sup = get_value_counts_of_tagged_words_by_postag(df_sup, \"ADJD.Sup\")"
   ]
  },
  {
   "cell_type": "code",
   "execution_count": 403,
   "id": "c5866e0e",
   "metadata": {},
   "outputs": [
    {
     "data": {
      "text/plain": [
       "ADJD.SUP \n",
       "besten       146\n",
       "liebsten      28\n",
       "stärksten     21\n",
       "schwerst      17\n",
       "wenigsten     16\n",
       "dtype: int64"
      ]
     },
     "execution_count": 403,
     "metadata": {},
     "output_type": "execute_result"
    }
   ],
   "source": [
    "value_counts_adjd_sup.head(5)"
   ]
  },
  {
   "cell_type": "code",
   "execution_count": 404,
   "id": "3307239e",
   "metadata": {},
   "outputs": [],
   "source": [
    "superlatives_to_ignore = set([\n",
    "'nendsten',\n",
    "'herumzutesten',\n",
    "'freitesten',\n",
    "'dritthöchste',\n",
    "'übernächsten',\n",
    "'übernächstes',\n",
    "'nächster',\n",
    "'nächstes',\n",
    "'nächste',\n",
    "'nächsten',\n",
    "'Nächstes',\n",
    "'Nächste',\n",
    "'Obersten',\n",
    "'Oberstes',\n",
    "'Nächster',\n",
    "'Oberste',\n",
    "'Letztes',\n",
    "'Allerehrenwerteste',\n",
    "'Hochgeschätzter',\n",
    "'Wertgeschätzter',\n",
    "'Liebsten',\n",
    "'Bedarfsorientierten',\n",
    "'Ex-Innenminister',\n",
    "'Gespielte'\n",
    "])"
   ]
  },
  {
   "cell_type": "code",
   "execution_count": 405,
   "id": "188627d8",
   "metadata": {},
   "outputs": [],
   "source": [
    "df[\"adja_sup_to_ignore\"] = df_sup[\"tagged\"].apply(lambda sentence: \n",
    "        sentence_only_contains_words_that_should_be_ignored(sentence, 'ADJA.Sup', superlatives_to_ignore))"
   ]
  },
  {
   "cell_type": "code",
   "execution_count": 406,
   "id": "05837a35",
   "metadata": {},
   "outputs": [],
   "source": [
    "df[\"adjd_sup_to_ignore\"] = df_sup[\"tagged\"].apply(lambda sentence: \n",
    "        sentence_only_contains_words_that_should_be_ignored(sentence, 'ADJD.Sup', superlatives_to_ignore))"
   ]
  },
  {
   "cell_type": "code",
   "execution_count": 407,
   "id": "4dd00e7f",
   "metadata": {},
   "outputs": [],
   "source": [
    "df[\"adja_sup_to_ignore\"] = df[\"adja_sup_to_ignore\"].fillna(True)\n",
    "df[\"adjd_sup_to_ignore\"] = df[\"adjd_sup_to_ignore\"].fillna(True)"
   ]
  },
  {
   "cell_type": "code",
   "execution_count": 408,
   "id": "16dbe843",
   "metadata": {},
   "outputs": [
    {
     "data": {
      "text/plain": [
       "3543"
      ]
     },
     "execution_count": 408,
     "metadata": {},
     "output_type": "execute_result"
    }
   ],
   "source": [
    "df[~df[\"adjd_sup_to_ignore\"] | ~df[\"adja_sup_to_ignore\"]].shape[0]"
   ]
  },
  {
   "cell_type": "markdown",
   "id": "f5f848ac",
   "metadata": {},
   "source": [
    "Finding the number of non-opinionated statements after the cleaning process with the sets of words that should be ignored in each case"
   ]
  },
  {
   "cell_type": "code",
   "execution_count": 410,
   "id": "fd43a641",
   "metadata": {},
   "outputs": [
    {
     "data": {
      "text/plain": [
       "9422"
      ]
     },
     "execution_count": 410,
     "metadata": {},
     "output_type": "execute_result"
    }
   ],
   "source": [
    "df[df[\"adjd_sup_to_ignore\"] & df[\"adja_sup_to_ignore\"] & df[\"adjd_comp_to_ignore\"] \n",
    "   & df[\"adja_comp_to_ignore\"] & df[\"adjd_to_ignore\"] & df[\"adja_to_ignore\"]].shape[0]"
   ]
  },
  {
   "cell_type": "markdown",
   "id": "044ec7cf",
   "metadata": {},
   "source": [
    "### Trying additional methods for finding sentences containing adjectives"
   ]
  },
  {
   "cell_type": "markdown",
   "id": "ebc0f574",
   "metadata": {},
   "source": [
    "A dataset which was extracted from wiktionary containing nearly all adjectives that are listed on wiktionary, including the comparative and superlative form if available. Some special cases were not included, as they would not be relevant to our analysis"
   ]
  },
  {
   "cell_type": "code",
   "execution_count": null,
   "id": "d941280f",
   "metadata": {},
   "outputs": [],
   "source": [
    "PATH_TO_ADJECTIVES_DATASET = \"adjektive/nearly_all.csv\""
   ]
  },
  {
   "cell_type": "code",
   "execution_count": null,
   "id": "8fdc9bd9",
   "metadata": {},
   "outputs": [],
   "source": [
    "df_adjectives = pd.read_csv(PATH_TO_ADJECTIVES_DATASET)"
   ]
  },
  {
   "cell_type": "markdown",
   "id": "bc716ecf",
   "metadata": {},
   "source": [
    "Creating a set containing all the positive adjectives from the dataset above"
   ]
  },
  {
   "cell_type": "code",
   "execution_count": 462,
   "id": "57989251",
   "metadata": {},
   "outputs": [],
   "source": [
    "set_positives = set(df_adjectives[\"positiv\"].dropna().to_list())"
   ]
  },
  {
   "cell_type": "code",
   "execution_count": 422,
   "id": "ccf9ff3c",
   "metadata": {},
   "outputs": [],
   "source": [
    "def add_deklination(set_adjectives):\n",
    "    \n",
    "    res = []\n",
    "    \n",
    "    for word in set_adjectives:\n",
    "        res.append(word)\n",
    "        res.append(word+\"e\")\n",
    "        res.append(word+\"er\")\n",
    "        res.append(word+\"en\")\n",
    "        res.append(word+\"em\")\n",
    "        res.append(word+\"es\")\n",
    "    \n",
    "    return set(res)"
   ]
  },
  {
   "cell_type": "code",
   "execution_count": 427,
   "id": "a992b699",
   "metadata": {},
   "outputs": [],
   "source": [
    "set_positives_with_deklination = add_deklination(set_positives)"
   ]
  },
  {
   "cell_type": "code",
   "execution_count": 444,
   "id": "53680142",
   "metadata": {},
   "outputs": [
    {
     "data": {
      "text/plain": [
       "13702"
      ]
     },
     "execution_count": 444,
     "metadata": {},
     "output_type": "execute_result"
    }
   ],
   "source": [
    "len(set_positives)"
   ]
  },
  {
   "cell_type": "code",
   "execution_count": 467,
   "id": "d3444a77",
   "metadata": {},
   "outputs": [
    {
     "data": {
      "text/plain": [
       "13702"
      ]
     },
     "execution_count": 467,
     "metadata": {},
     "output_type": "execute_result"
    }
   ],
   "source": [
    "len(set_positives.difference(adja_set_of_words_to_ignore))"
   ]
  },
  {
   "cell_type": "code",
   "execution_count": 469,
   "id": "f3dc1be6",
   "metadata": {},
   "outputs": [],
   "source": [
    "set_positives_with_deklination = set_positives_with_deklination.difference(adja_set_of_words_to_ignore)"
   ]
  },
  {
   "cell_type": "code",
   "execution_count": 428,
   "id": "5f25b7b0",
   "metadata": {},
   "outputs": [
    {
     "data": {
      "text/plain": [
       "82170"
      ]
     },
     "execution_count": 428,
     "metadata": {},
     "output_type": "execute_result"
    }
   ],
   "source": [
    "len(set_positives_with_deklination)"
   ]
  },
  {
   "cell_type": "code",
   "execution_count": 468,
   "id": "13aca72f",
   "metadata": {},
   "outputs": [
    {
     "data": {
      "text/plain": [
       "82168"
      ]
     },
     "execution_count": 468,
     "metadata": {},
     "output_type": "execute_result"
    }
   ],
   "source": [
    "set_positives_with_deklination.difference(adja_set_of_words_to_ignore)"
   ]
  },
  {
   "cell_type": "code",
   "execution_count": 434,
   "id": "acd0705c",
   "metadata": {},
   "outputs": [],
   "source": [
    "def contains_positive(sentence, set_positives):\n",
    "    \n",
    "    res_list = []\n",
    "\n",
    "    words = nltk.tokenize.word_tokenize(sentence,language='german')\n",
    "        \n",
    "    for word in words:\n",
    "        if word in set_positives:\n",
    "            res_list.append(True)\n",
    "            break\n",
    "    \n",
    "    return True in res_list"
   ]
  },
  {
   "cell_type": "code",
   "execution_count": 440,
   "id": "de2ecf2f",
   "metadata": {},
   "outputs": [],
   "source": [
    "df[\"contains_positive_with_set\"] = df[\"speech\"].apply(lambda sentence: contains_positive(sentence, set_positives))"
   ]
  },
  {
   "cell_type": "code",
   "execution_count": 470,
   "id": "fee240a0",
   "metadata": {},
   "outputs": [],
   "source": [
    "df[\"contains_positive_with_deklination_set\"] = df[\"speech\"].apply(lambda sentence: contains_positive(sentence, set_positives_with_deklination))"
   ]
  },
  {
   "cell_type": "code",
   "execution_count": 442,
   "id": "1d83e254",
   "metadata": {},
   "outputs": [
    {
     "data": {
      "text/plain": [
       "56012"
      ]
     },
     "execution_count": 442,
     "metadata": {},
     "output_type": "execute_result"
    }
   ],
   "source": [
    "df[df[\"contains_positive_with_set\"]].shape[0]"
   ]
  },
  {
   "cell_type": "code",
   "execution_count": 471,
   "id": "5a03b3a5",
   "metadata": {},
   "outputs": [
    {
     "data": {
      "text/plain": [
       "58587"
      ]
     },
     "execution_count": 471,
     "metadata": {},
     "output_type": "execute_result"
    }
   ],
   "source": [
    "df[df[\"contains_positive_with_deklination_set\"]].shape[0]"
   ]
  },
  {
   "cell_type": "code",
   "execution_count": 489,
   "id": "b34faef2",
   "metadata": {},
   "outputs": [
    {
     "data": {
      "text/plain": [
       "44578"
      ]
     },
     "execution_count": 489,
     "metadata": {},
     "output_type": "execute_result"
    }
   ],
   "source": [
    "df[df[\"ADJA_ADJD_or\"] & ~df[\"ADJA.Sup_ADJD.Sup_or\"] & ~df[\"ADJA.Comp_ADJD.Comp_or\"]].shape[0]"
   ]
  },
  {
   "cell_type": "code",
   "execution_count": 494,
   "id": "6c6eaa67",
   "metadata": {},
   "outputs": [
    {
     "data": {
      "text/plain": [
       "58862"
      ]
     },
     "execution_count": 494,
     "metadata": {},
     "output_type": "execute_result"
    }
   ],
   "source": [
    "df[(df[\"ADJA_ADJD_or\"] & ~df[\"ADJA.Sup_ADJD.Sup_or\"] & ~df[\"ADJA.Comp_ADJD.Comp_or\"]) | df[\"contains_positive_with_set\"]].shape[0]"
   ]
  },
  {
   "cell_type": "markdown",
   "id": "03bcea3e",
   "metadata": {},
   "source": [
    "### Trying additional methods for finding sentences containing comparative statements"
   ]
  },
  {
   "cell_type": "markdown",
   "id": "990fd7ff",
   "metadata": {},
   "source": [
    "Creating a set containing all the comparative forms from the dataset. A clean-up is performed so that special characters are removed from the set"
   ]
  },
  {
   "cell_type": "code",
   "execution_count": 12,
   "id": "d72c226e",
   "metadata": {},
   "outputs": [],
   "source": [
    "set_comparative = set(df_adjectives[\"komparativ\"].to_list())\n",
    "\n",
    "words_to_remove = []\n",
    "\n",
    "for word in set_comparative:\n",
    "    if len(word) < 3:\n",
    "        words_to_remove.append(word)\n",
    "\n",
    "for word in words_to_remove:\n",
    "    set_comparative.remove(word)"
   ]
  },
  {
   "cell_type": "code",
   "execution_count": 411,
   "id": "648d4498",
   "metadata": {},
   "outputs": [],
   "source": [
    "set_comparative_and_deklinations = add_deklination(set_comparative)"
   ]
  },
  {
   "cell_type": "code",
   "execution_count": 456,
   "id": "37c5ad20",
   "metadata": {},
   "outputs": [
    {
     "data": {
      "text/plain": [
       "5705"
      ]
     },
     "execution_count": 456,
     "metadata": {},
     "output_type": "execute_result"
    }
   ],
   "source": [
    "len(set_comparative)"
   ]
  },
  {
   "cell_type": "code",
   "execution_count": 472,
   "id": "98e65de2",
   "metadata": {},
   "outputs": [],
   "source": [
    "set_comparative_and_deklinations = set_comparative_and_deklinations.difference(adja_comp_set_of_words_to_ignore)"
   ]
  },
  {
   "cell_type": "code",
   "execution_count": 473,
   "id": "2b04b37c",
   "metadata": {},
   "outputs": [
    {
     "data": {
      "text/plain": [
       "34225"
      ]
     },
     "execution_count": 473,
     "metadata": {},
     "output_type": "execute_result"
    }
   ],
   "source": [
    "len(set_comparative_and_deklinations)"
   ]
  },
  {
   "cell_type": "markdown",
   "id": "f260078b",
   "metadata": {},
   "source": [
    "Defining a function which is then used to return True if the text contains a comparative statement or False otherwise"
   ]
  },
  {
   "cell_type": "code",
   "execution_count": 549,
   "id": "7c7678ef",
   "metadata": {},
   "outputs": [],
   "source": [
    "def contains_comparative(sentence, comparative_words = None, execute_set_based_approach=False):\n",
    "    \n",
    "    res_list = []\n",
    "    \n",
    "    # First case: so ... wie\n",
    "    res_case_1 = re.search('(So|so) [a-zäöüß ]* wie',sentence)\n",
    "    res_list.append(bool(res_case_1))\n",
    "    \n",
    "    # Second case: nicht so ... wie\n",
    "    res_case_2 = re.search('(Nicht|nicht) so [a-zäöüß ]* wie',sentence)\n",
    "    res_list.append(bool(res_case_2))\n",
    "    \n",
    "    # Third case: immer ...\n",
    "    res_case_3 = re.search('(Immer|immer) [a-zäöüß]{2,60}er',sentence)\n",
    "    \n",
    "    if bool(res_case_3) and comparative_words is not None:\n",
    "        res_case_3_improved = res_case_3.group(0).split(\" \")[1] in comparative_words\n",
    "        res_list.append(res_case_3_improved)\n",
    "    else:\n",
    "        res_list.append(bool(res_case_3))\n",
    "    \n",
    "    # Fourth case: als\n",
    "    res_case_4 = re.search('[A-ZÄÖÜßa-zäöüß]+er als [a-zäöüß]+',sentence)\n",
    "    \n",
    "    if bool(res_case_4) and comparative_words is not None:\n",
    "        res_case_4_improved = res_case_4.group(0).split(\" \")[0] in comparative_words\n",
    "        res_list.append(res_case_4_improved)\n",
    "    else:\n",
    "        res_list.append(bool(res_case_4))\n",
    "    \n",
    "    # Fifth case: je ... desto or je ... umso\n",
    "    res_case_5 = re.search('(Je|je) [a-zäöüß ,]+(desto|umso)',sentence)\n",
    "    res_list.append(bool(res_case_5))\n",
    "    \n",
    "    # Sixth case: text contains any word that is specified in the set of comparative words\n",
    "    # optional, as the set of comparative words is an optional parameter\n",
    "    if comparative_words is not None and execute_set_based_approach:\n",
    "        words = nltk.tokenize.word_tokenize(sentence,language='german')\n",
    "        \n",
    "        for word in words:\n",
    "            if word in comparative_words:\n",
    "                res_list.append(True)\n",
    "                break\n",
    "    \n",
    "    \n",
    "    return True in res_list"
   ]
  },
  {
   "cell_type": "markdown",
   "id": "7e1226b9",
   "metadata": {},
   "source": [
    "Applying the function defined above to our dataframe. Once without the set of comparative adjectives and once including the set "
   ]
  },
  {
   "cell_type": "code",
   "execution_count": 516,
   "id": "a1af9085",
   "metadata": {},
   "outputs": [],
   "source": [
    "df[\"contains_comparative\"] = df[\"speech\"].apply(lambda row: contains_comparative(row))"
   ]
  },
  {
   "cell_type": "code",
   "execution_count": 15,
   "id": "1061f12b",
   "metadata": {},
   "outputs": [],
   "source": [
    "df[\"contains_comparative_with_set\"] = df[\"speech\"].apply(lambda row: contains_comparative(row,set_comparative))"
   ]
  },
  {
   "cell_type": "code",
   "execution_count": 474,
   "id": "378dbcf4",
   "metadata": {},
   "outputs": [],
   "source": [
    "df[\"contains_comparative_with_deklination_set\"] = df[\"speech\"].apply(lambda row: contains_comparative(row,set_comparative_and_deklinations))"
   ]
  },
  {
   "cell_type": "code",
   "execution_count": 550,
   "id": "77112121",
   "metadata": {},
   "outputs": [],
   "source": [
    "df[\"contains_comparative_new_no_set\"] = df[\"speech\"].apply(lambda row: contains_comparative(row))"
   ]
  },
  {
   "cell_type": "code",
   "execution_count": 551,
   "id": "19a5f87f",
   "metadata": {},
   "outputs": [],
   "source": [
    "df[\"contains_comparative_new_with_set\"] = df[\"speech\"].apply(lambda row: contains_comparative(row,set_comparative))"
   ]
  },
  {
   "cell_type": "code",
   "execution_count": 552,
   "id": "5fd9b81d",
   "metadata": {},
   "outputs": [],
   "source": [
    "df[\"contains_comparative_new_with_declension_set\"] = df[\"speech\"].apply(lambda row: contains_comparative(row,set_comparative_and_deklinations))"
   ]
  },
  {
   "cell_type": "code",
   "execution_count": 546,
   "id": "d318c7ca",
   "metadata": {},
   "outputs": [],
   "source": [
    "df[\"contains_comparative_new_with_declension_set_and_approach\"] = df[\"speech\"].apply(lambda row: contains_comparative(row,set_comparative_and_deklinations,True))"
   ]
  },
  {
   "cell_type": "code",
   "execution_count": 553,
   "id": "ddd84f89",
   "metadata": {
    "scrolled": true
   },
   "outputs": [
    {
     "data": {
      "text/plain": [
       "1426"
      ]
     },
     "execution_count": 553,
     "metadata": {},
     "output_type": "execute_result"
    }
   ],
   "source": [
    "df[df[\"contains_comparative\"]].shape[0]"
   ]
  },
  {
   "cell_type": "code",
   "execution_count": 545,
   "id": "9e6335b1",
   "metadata": {},
   "outputs": [
    {
     "data": {
      "text/plain": [
       "1722"
      ]
     },
     "execution_count": 545,
     "metadata": {},
     "output_type": "execute_result"
    }
   ],
   "source": [
    "df[df[\"contains_comparative_new_with_declension_set\"]].shape[0]"
   ]
  },
  {
   "cell_type": "code",
   "execution_count": 556,
   "id": "5f93cec8",
   "metadata": {},
   "outputs": [
    {
     "data": {
      "text/plain": [
       "1533"
      ]
     },
     "execution_count": 556,
     "metadata": {},
     "output_type": "execute_result"
    }
   ],
   "source": [
    "df[df[\"contains_comparative_new_with_set\"]].shape[0]"
   ]
  },
  {
   "cell_type": "code",
   "execution_count": 547,
   "id": "eac19c05",
   "metadata": {},
   "outputs": [
    {
     "data": {
      "text/plain": [
       "19383"
      ]
     },
     "execution_count": 547,
     "metadata": {},
     "output_type": "execute_result"
    }
   ],
   "source": [
    "df[df[\"contains_comparative_new_with_declension_set_and_approach\"]].shape[0]"
   ]
  },
  {
   "cell_type": "code",
   "execution_count": 563,
   "id": "d357e6b3",
   "metadata": {},
   "outputs": [
    {
     "data": {
      "text/plain": [
       "748"
      ]
     },
     "execution_count": 563,
     "metadata": {},
     "output_type": "execute_result"
    }
   ],
   "source": [
    "df[df[\"contains_comparative_new_with_declension_set\"] & df[\"ADJA.Comp_ADJD.Comp_or\"]].shape[0]"
   ]
  },
  {
   "cell_type": "code",
   "execution_count": 525,
   "id": "90d8af9f",
   "metadata": {},
   "outputs": [
    {
     "data": {
      "text/plain": [
       "'Weiters stellen wir für das kommende Jahr und für das Jahr 2022 700 Millionen Euro für Arbeitsstiftungen ein. Da geht es genau darum, dass wir umschulen, dass wir qualifizieren, dass wir jene Menschen, die durch die Krise den Job verloren haben, wieder in den Arbeitsmarkt zurückbekommen viele Unternehmen und Unternehmer brauchen und suchen trotz der schwierigen Krisensituation Leute , und es geht darum, dass wir diese Menschen so schnell wie möglich dorthin bringen. Das geht nur mit Umschulung und Qualifizierung, und dafür stellen wir in den nächsten beiden Jahren 700 Millionen Euro zur Verfügung.'"
      ]
     },
     "execution_count": 525,
     "metadata": {},
     "output_type": "execute_result"
    }
   ],
   "source": [
    "df[df[\"contains_comparative\"]].iloc[26][\"speech\"]"
   ]
  },
  {
   "cell_type": "code",
   "execution_count": 536,
   "id": "4958f246",
   "metadata": {},
   "outputs": [
    {
     "data": {
      "text/plain": [
       "'wieder'"
      ]
     },
     "execution_count": 536,
     "metadata": {},
     "output_type": "execute_result"
    }
   ],
   "source": [
    "sentence = 'Auch in meiner Zeit als Finanzminister wurden öffentliche Informationen in Form von Zeitungsinseraten vorgenommen und auch immer wieder Studien beauftragt, vor allem um aktuelle Maßnahmen zu bewerten, internationale Vergleichbarkeit zu erzielen und Handlungsnotwendigkeiten abzuleiten. Alle Studien in meiner Amtszeit sind übrigens öffentlich einsehbar.'\n",
    "re.search('(Immer|immer) [a-zäöüß]{2,60}er',sentence).group(0).split(\" \")[1]"
   ]
  },
  {
   "cell_type": "code",
   "execution_count": 524,
   "id": "b58d1e75",
   "metadata": {},
   "outputs": [
    {
     "data": {
      "text/plain": [
       "'Frau Ministerin, ich ersuche Sie, geben Sie dem Bundesheer die Möglichkeit, im Falle eines Blackouts die Bevölkerung so gut wie möglich zu unterstützen, schaffen Sie die dafür notwendigen Voraussetzungen und statten Sie die Kasernen entsprechend aus!'"
      ]
     },
     "execution_count": 524,
     "metadata": {},
     "output_type": "execute_result"
    }
   ],
   "source": [
    "sentence"
   ]
  },
  {
   "cell_type": "markdown",
   "id": "d769eca7",
   "metadata": {},
   "source": [
    "##### The different methods are compared per amount of statements marked by each method"
   ]
  },
  {
   "cell_type": "markdown",
   "id": "53a6c8b1",
   "metadata": {},
   "source": [
    "Amount of statements marked by tags"
   ]
  },
  {
   "cell_type": "code",
   "execution_count": 16,
   "id": "e7724a7f",
   "metadata": {},
   "outputs": [
    {
     "data": {
      "text/plain": [
       "8697"
      ]
     },
     "execution_count": 16,
     "metadata": {},
     "output_type": "execute_result"
    }
   ],
   "source": [
    "df[df[\"ADJA.Comp_ADJD.Comp_or\"]].shape[0]"
   ]
  },
  {
   "cell_type": "markdown",
   "id": "99504d5a",
   "metadata": {},
   "source": [
    "Amount of statements marked using comparative rules without a set of comparative adjectives"
   ]
  },
  {
   "cell_type": "code",
   "execution_count": 17,
   "id": "b5ca883b",
   "metadata": {},
   "outputs": [
    {
     "data": {
      "text/plain": [
       "3130"
      ]
     },
     "execution_count": 17,
     "metadata": {},
     "output_type": "execute_result"
    }
   ],
   "source": [
    "df[df[\"contains_comparative\"]].shape[0]"
   ]
  },
  {
   "cell_type": "markdown",
   "id": "e1e72efb",
   "metadata": {},
   "source": [
    "Amount of statements marked using comparative rules and the set of comparative statements"
   ]
  },
  {
   "cell_type": "code",
   "execution_count": 18,
   "id": "eb5187ef",
   "metadata": {},
   "outputs": [
    {
     "data": {
      "text/plain": [
       "19076"
      ]
     },
     "execution_count": 18,
     "metadata": {},
     "output_type": "execute_result"
    }
   ],
   "source": [
    "df[df[\"contains_comparative_with_set\"]].shape[0]"
   ]
  },
  {
   "cell_type": "markdown",
   "id": "bf9db79e",
   "metadata": {},
   "source": [
    "Amount of statements marked using comparative rules and the set of comparative statements (with deklinations as well)"
   ]
  },
  {
   "cell_type": "code",
   "execution_count": 475,
   "id": "88aedced",
   "metadata": {},
   "outputs": [
    {
     "data": {
      "text/plain": [
       "20275"
      ]
     },
     "execution_count": 475,
     "metadata": {},
     "output_type": "execute_result"
    }
   ],
   "source": [
    "df[df[\"contains_comparative_with_deklination_set\"]].shape[0]"
   ]
  },
  {
   "cell_type": "markdown",
   "id": "a463de10",
   "metadata": {},
   "source": [
    "Amount of statements which are marked by all three methods at the same time"
   ]
  },
  {
   "cell_type": "code",
   "execution_count": 19,
   "id": "684d2330",
   "metadata": {},
   "outputs": [
    {
     "data": {
      "text/plain": [
       "1039"
      ]
     },
     "execution_count": 19,
     "metadata": {},
     "output_type": "execute_result"
    }
   ],
   "source": [
    "df[df[\"ADJA.Comp_ADJD.Comp_or\"] & \n",
    "   df[\"contains_comparative\"] & \n",
    "   df[\"contains_comparative_with_set\"]\n",
    "].shape[0]"
   ]
  },
  {
   "cell_type": "markdown",
   "id": "68fb8980",
   "metadata": {},
   "source": [
    "Amount of statements which are marked by at least one of the three methods"
   ]
  },
  {
   "cell_type": "code",
   "execution_count": 20,
   "id": "57ecedcc",
   "metadata": {},
   "outputs": [
    {
     "data": {
      "text/plain": [
       "21489"
      ]
     },
     "execution_count": 20,
     "metadata": {},
     "output_type": "execute_result"
    }
   ],
   "source": [
    "df[df[\"ADJA.Comp_ADJD.Comp_or\"] | \n",
    "   df[\"contains_comparative\"] | \n",
    "   df[\"contains_comparative_with_set\"]\n",
    "].shape[0]"
   ]
  },
  {
   "cell_type": "code",
   "execution_count": 476,
   "id": "81349a7f",
   "metadata": {},
   "outputs": [
    {
     "data": {
      "text/plain": [
       "21567"
      ]
     },
     "execution_count": 476,
     "metadata": {},
     "output_type": "execute_result"
    }
   ],
   "source": [
    "df[df[\"ADJA.Comp_ADJD.Comp_or\"] | \n",
    "   df[\"contains_comparative\"] | \n",
    "   df[\"contains_comparative_with_set\"] |\n",
    "   df[\"contains_comparative_with_deklination_set\"]\n",
    "].shape[0]"
   ]
  },
  {
   "cell_type": "code",
   "execution_count": 478,
   "id": "6f70e5ed",
   "metadata": {},
   "outputs": [
    {
     "data": {
      "text/plain": [
       "7405"
      ]
     },
     "execution_count": 478,
     "metadata": {},
     "output_type": "execute_result"
    }
   ],
   "source": [
    "df[df[\"ADJA.Comp_ADJD.Comp_or\"] & \n",
    "   df[\"contains_comparative_with_deklination_set\"]\n",
    "].shape[0]"
   ]
  },
  {
   "cell_type": "code",
   "execution_count": 454,
   "id": "cd0afaf7",
   "metadata": {},
   "outputs": [
    {
     "data": {
      "text/plain": [
       "21489"
      ]
     },
     "execution_count": 454,
     "metadata": {},
     "output_type": "execute_result"
    }
   ],
   "source": [
    "df[df[\"ADJA.Comp_ADJD.Comp_or\"] | \n",
    "   df[\"contains_comparative_with_set\"]\n",
    "].shape[0]"
   ]
  },
  {
   "cell_type": "code",
   "execution_count": 417,
   "id": "fd5bf80d",
   "metadata": {},
   "outputs": [
    {
     "data": {
      "text/plain": [
       "8697"
      ]
     },
     "execution_count": 417,
     "metadata": {},
     "output_type": "execute_result"
    }
   ],
   "source": [
    "df[df[\"ADJA.Comp_ADJD.Comp_or\"]].shape[0]"
   ]
  },
  {
   "cell_type": "markdown",
   "id": "874f9b8c",
   "metadata": {},
   "source": [
    "#### Trying additional methods for finding sentences containing superlative statements"
   ]
  },
  {
   "cell_type": "markdown",
   "id": "eef0aa07",
   "metadata": {},
   "source": [
    "In this first method a simple regular expression is used to detect the patterns \"am ....sten\" and \"am ....ßten\", examples are \"am besten\", \"am höchsten\" or \"am größten\""
   ]
  },
  {
   "cell_type": "code",
   "execution_count": 21,
   "id": "6a939f72",
   "metadata": {},
   "outputs": [],
   "source": [
    "def contains_superlative(sentence):\n",
    "    res = re.search('am [a-zäöüß]+(s|ß)ten',sentence)\n",
    "    \n",
    "    return bool(res)"
   ]
  },
  {
   "cell_type": "code",
   "execution_count": 22,
   "id": "54f7c130",
   "metadata": {},
   "outputs": [],
   "source": [
    "df[\"contains_superlative\"] = df[\"speech\"].apply(lambda row: contains_superlative(row))"
   ]
  },
  {
   "cell_type": "code",
   "execution_count": 23,
   "id": "31faf82f",
   "metadata": {},
   "outputs": [
    {
     "data": {
      "text/plain": [
       "5259"
      ]
     },
     "execution_count": 23,
     "metadata": {},
     "output_type": "execute_result"
    }
   ],
   "source": [
    "df[df[\"ADJA.Sup_ADJD.Sup_or\"]].shape[0]"
   ]
  },
  {
   "cell_type": "markdown",
   "id": "dd5d40ff",
   "metadata": {},
   "source": [
    "Here we can see, that the amount of detected superlatives using the simple regular expression method alone leads to less than a tenth of cases that we had with the tagging method (477 vs 5259)"
   ]
  },
  {
   "cell_type": "code",
   "execution_count": 564,
   "id": "d6fa386c",
   "metadata": {},
   "outputs": [
    {
     "data": {
      "text/plain": [
       "477"
      ]
     },
     "execution_count": 564,
     "metadata": {},
     "output_type": "execute_result"
    }
   ],
   "source": [
    "df[df[\"contains_superlative\"]].shape[0]"
   ]
  },
  {
   "cell_type": "markdown",
   "id": "c872d494",
   "metadata": {},
   "source": [
    "Only 383 statements contain superlatives if both methods (regular expression and tagging) need to detect a superlative for it to count"
   ]
  },
  {
   "cell_type": "code",
   "execution_count": 565,
   "id": "659c61bf",
   "metadata": {},
   "outputs": [
    {
     "data": {
      "text/plain": [
       "5353"
      ]
     },
     "execution_count": 565,
     "metadata": {},
     "output_type": "execute_result"
    }
   ],
   "source": [
    "df[df[\"contains_supe\n",
    "      rlative\"] | \n",
    "   df[\"ADJA.Sup_ADJD.Sup_or\"]\n",
    "].shape[0]"
   ]
  },
  {
   "cell_type": "code",
   "execution_count": 26,
   "id": "12123bc8",
   "metadata": {},
   "outputs": [
    {
     "data": {
      "text/plain": [
       "4876"
      ]
     },
     "execution_count": 26,
     "metadata": {},
     "output_type": "execute_result"
    }
   ],
   "source": [
    "df[~df[\"contains_superlative\"] & \n",
    "   df[\"ADJA.Sup_ADJD.Sup_or\"]\n",
    "].shape[0]"
   ]
  },
  {
   "cell_type": "markdown",
   "id": "ee3152da",
   "metadata": {},
   "source": [
    "The next section is dedicated to finding the words that are most commonly tagged as a superlative. This is helpful as it might show cases that lead to wrong classifications, for example 'nächste', which might be date-related in many cases and therefore should not lead to the statement being classified as an opinionated statement with a superlative"
   ]
  },
  {
   "cell_type": "code",
   "execution_count": 29,
   "id": "a47c1683",
   "metadata": {},
   "outputs": [],
   "source": [
    "def find_desired_words(sentence, tag):\n",
    "    words = sentence.split(\" \")\n",
    "    res = []\n",
    "    \n",
    "    for word in words:\n",
    "        if tag in word:\n",
    "            res.append(word.split(\"\\t\")[0])\n",
    "    \n",
    "    return res"
   ]
  },
  {
   "cell_type": "code",
   "execution_count": 30,
   "id": "a8f167b5",
   "metadata": {},
   "outputs": [],
   "source": [
    "test_df = df[~df[\"contains_superlative\"] & \n",
    "   df[\"ADJA.Sup_ADJD.Sup_or\"]\n",
    "][\"tagged\"]"
   ]
  },
  {
   "cell_type": "code",
   "execution_count": 31,
   "id": "0f721781",
   "metadata": {},
   "outputs": [],
   "source": [
    "all_res = []\n",
    "\n",
    "for elem in test_df.values:\n",
    "    res = find_desired_words(elem,\"ADJA.Sup\")\n",
    "    all_res.append(res)\n",
    "\n",
    "for elem in test_df.values:\n",
    "    res = find_desired_words(elem,\"ADJD.Sup\")\n",
    "    all_res.append(res)"
   ]
  },
  {
   "cell_type": "code",
   "execution_count": 32,
   "id": "051fdaa6",
   "metadata": {},
   "outputs": [],
   "source": [
    "res_dict = {}\n",
    "\n",
    "for res in all_res:\n",
    "    for word in res:\n",
    "        if word not in res_dict.keys():\n",
    "            res_dict[word] = 1\n",
    "        else:\n",
    "            res_dict[word] = res_dict[word] + 1"
   ]
  },
  {
   "cell_type": "markdown",
   "id": "4ae48393",
   "metadata": {},
   "source": [
    "The following line of code creates a sorted (descending order) dictionary where the keys are sorted according to the values. The result is used to get a list of the most common superlatives which are found using the tagging method "
   ]
  },
  {
   "cell_type": "code",
   "execution_count": 33,
   "id": "1f8115f2",
   "metadata": {},
   "outputs": [],
   "source": [
    "sorted_d = dict( sorted(res_dict.items(), key=operator.itemgetter(1),reverse=True))"
   ]
  },
  {
   "cell_type": "code",
   "execution_count": 34,
   "id": "e3b41f7e",
   "metadata": {
    "scrolled": true
   },
   "outputs": [
    {
     "data": {
      "text/plain": [
       "['nächsten',\n",
       " 'nächste',\n",
       " 'größte',\n",
       " 'größten',\n",
       " 'beste',\n",
       " 'besten',\n",
       " 'letzten',\n",
       " 'nächstes',\n",
       " 'höchste',\n",
       " 'wichtigsten']"
      ]
     },
     "execution_count": 34,
     "metadata": {},
     "output_type": "execute_result"
    }
   ],
   "source": [
    "list(sorted_d.keys())[0:10]"
   ]
  },
  {
   "cell_type": "code",
   "execution_count": 35,
   "id": "fdceec91",
   "metadata": {},
   "outputs": [],
   "source": [
    "test_df_2 = df[~df[\"contains_superlative\"] & \n",
    "   df[\"ADJA.Sup_ADJD.Sup_or\"]\n",
    "][\"speech\"]"
   ]
  },
  {
   "cell_type": "code",
   "execution_count": 36,
   "id": "984ee4d2",
   "metadata": {},
   "outputs": [
    {
     "data": {
      "text/plain": [
       "153"
      ]
     },
     "execution_count": 36,
     "metadata": {},
     "output_type": "execute_result"
    }
   ],
   "source": [
    "count = 0\n",
    "for value in test_df_2.values:\n",
    "\n",
    "    if \"der größten\" in value:\n",
    "        count += 1\n",
    "count"
   ]
  },
  {
   "cell_type": "code",
   "execution_count": 37,
   "id": "8466f5d4",
   "metadata": {},
   "outputs": [],
   "source": [
    "naechsten_ind = test_df_2.apply(lambda row: \"nächsten\" in row)"
   ]
  },
  {
   "cell_type": "code",
   "execution_count": 38,
   "id": "2f48b302",
   "metadata": {},
   "outputs": [
    {
     "data": {
      "text/plain": [
       "16       Ich habe eine Tochter, die ebenfalls sehr star...\n",
       "19       Frau Ministerin! Sie wissen vielleicht, wir ha...\n",
       "32       Liebe Kolleginnen und Kollegen von ÖVP und Grü...\n",
       "263      Frau Präsidentin! Frau Bundesministerin! Gesch...\n",
       "288      Genauso wichtig ist es uns aber, dass die Ents...\n",
       "                               ...                        \n",
       "63747    Die Mutter hat dann auf Oberösterreich impft n...\n",
       "63764    Meine Damen und Herren, das halte ich für den ...\n",
       "63765    Gehen wir weiter zu dieser Impfung! Wir wissen...\n",
       "63799    Frau Präsidentin! Geschätzte Kolleginnen und K...\n",
       "63821    Gerade im Bereich der Schweinehaltung ist uns ...\n",
       "Name: speech, Length: 1205, dtype: object"
      ]
     },
     "execution_count": 38,
     "metadata": {},
     "output_type": "execute_result"
    }
   ],
   "source": [
    "test_df_2[naechsten_ind]"
   ]
  },
  {
   "cell_type": "code",
   "execution_count": 39,
   "id": "f70a0cb4",
   "metadata": {},
   "outputs": [
    {
     "data": {
      "text/plain": [
       "True"
      ]
     },
     "execution_count": 39,
     "metadata": {},
     "output_type": "execute_result"
    }
   ],
   "source": [
    "df.loc[19][\"ADJA_ADJD_or\"]"
   ]
  },
  {
   "cell_type": "markdown",
   "id": "a6579358",
   "metadata": {},
   "source": [
    "In the next block the following steps are implemented:\n",
    "\n",
    "* Create a set of superlative words that should be ignored, for example 'nächste'\n",
    "* Find statements where at least one of the tagged superlatives is not part of the set of words that should be ignored"
   ]
  },
  {
   "cell_type": "code",
   "execution_count": 45,
   "id": "601611aa",
   "metadata": {},
   "outputs": [],
   "source": [
    "superlatives_to_ignore = set([\n",
    "'nendsten',\n",
    "'herumzutesten',\n",
    "'freitesten',\n",
    "'dritthöchste',\n",
    "'übernächsten',\n",
    "'übernächstes',\n",
    "'nächster',\n",
    "'nächstes',\n",
    "'nächste',\n",
    "'nächsten',\n",
    "'Nächstes',\n",
    "'Nächste',\n",
    "'Obersten',\n",
    "'Oberstes',\n",
    "'Nächster',\n",
    "'Oberste',\n",
    "'Letztes',\n",
    "'Allerehrenwerteste',\n",
    "'Hochgeschätzter',\n",
    "'Wertgeschätzter',\n",
    "'Liebsten',\n",
    "'Bedarfsorientierten',\n",
    "'Ex-Innenminister',\n",
    "'Gespielte'\n",
    "])"
   ]
  },
  {
   "cell_type": "markdown",
   "id": "7b9fbb7d",
   "metadata": {},
   "source": [
    "Definition of two regular expressions which are used to find the tagged superlatives in the tagged texts."
   ]
  },
  {
   "cell_type": "code",
   "execution_count": 91,
   "id": "1e8063bc",
   "metadata": {},
   "outputs": [],
   "source": [
    "# (ADJA|ADJD) did not work in python but worked on regexr.com\n",
    "regx_adja = r'[A-Za-zÖÄÜßöäü]{2,100}\\tADJA.Sup[.A-Za-z]*'\n",
    "regx_adjd = r'[A-Za-zÖÄÜßöäü]{2,100}\\tADJD.Sup[.A-Za-z]*'"
   ]
  },
  {
   "cell_type": "code",
   "execution_count": 97,
   "id": "b1031722",
   "metadata": {},
   "outputs": [],
   "source": [
    "regx_list = [regx_adja, regx_adjd]"
   ]
  },
  {
   "cell_type": "code",
   "execution_count": 110,
   "id": "a0883773",
   "metadata": {},
   "outputs": [],
   "source": [
    "def all_tagged_superlatives_should_be_ignored(text, regx_list, ignore_set):\n",
    "    all_tagged = get_all_tagged_superlatives(text, regx_list)\n",
    "    \n",
    "    res = []\n",
    "    \n",
    "    for tagged in all_tagged:\n",
    "        word = tagged.split(\"\\t\")[0]\n",
    "        \n",
    "        if word in ignore_set:\n",
    "            res.append(True)\n",
    "        else:\n",
    "            res.append(False)\n",
    "    \n",
    "    # all values must be true to return true\n",
    "    # returns true if list is empty, which is useful in this case\n",
    "    return all(res)\n",
    "\n",
    "def get_all_tagged_superlatives(text, regx_list):\n",
    "    res = []\n",
    "    \n",
    "    for regx in regx_list:\n",
    "        res.extend(re.findall(regx, text))\n",
    "    \n",
    "    return res"
   ]
  },
  {
   "cell_type": "code",
   "execution_count": 111,
   "id": "d59da7cc",
   "metadata": {},
   "outputs": [],
   "source": [
    "df[\"has_no_real_superlative\"] = df[\"tagged\"].apply(lambda text: all_tagged_superlatives_should_be_ignored(text, regx_list, superlatives_to_ignore))"
   ]
  },
  {
   "cell_type": "code",
   "execution_count": 121,
   "id": "bfb234d8",
   "metadata": {},
   "outputs": [
    {
     "data": {
      "text/html": [
       "<div>\n",
       "<style scoped>\n",
       "    .dataframe tbody tr th:only-of-type {\n",
       "        vertical-align: middle;\n",
       "    }\n",
       "\n",
       "    .dataframe tbody tr th {\n",
       "        vertical-align: top;\n",
       "    }\n",
       "\n",
       "    .dataframe thead th {\n",
       "        text-align: right;\n",
       "    }\n",
       "</style>\n",
       "<table border=\"1\" class=\"dataframe\">\n",
       "  <thead>\n",
       "    <tr style=\"text-align: right;\">\n",
       "      <th></th>\n",
       "      <th>speaker</th>\n",
       "      <th>speech</th>\n",
       "      <th>file</th>\n",
       "      <th>tagged</th>\n",
       "      <th>ADJA.Comp_ADJD.Comp_or</th>\n",
       "      <th>ADJA.Sup_ADJD.Sup_or</th>\n",
       "      <th>ADJA_ADJD_or</th>\n",
       "      <th>contains_comparative</th>\n",
       "      <th>contains_comparative_with_set</th>\n",
       "      <th>contains_superlative</th>\n",
       "      <th>has_no_real_superlative</th>\n",
       "    </tr>\n",
       "  </thead>\n",
       "  <tbody>\n",
       "    <tr>\n",
       "      <th>43</th>\n",
       "      <td>Abgeordnete Edith Mühlberghuber</td>\n",
       "      <td>Frau Präsident! Sehr geehrte Damen und Herren ...</td>\n",
       "      <td>NRSITZ_00087_PARSED</td>\n",
       "      <td>Frau\\tN.Reg.Nom.Sg.Fem Präsident\\tN.Reg.Nom.Sg...</td>\n",
       "      <td>False</td>\n",
       "      <td>True</td>\n",
       "      <td>True</td>\n",
       "      <td>False</td>\n",
       "      <td>True</td>\n",
       "      <td>False</td>\n",
       "      <td>False</td>\n",
       "    </tr>\n",
       "    <tr>\n",
       "      <th>62</th>\n",
       "      <td>Abgeordnete Barbara Neßler</td>\n",
       "      <td>Wir sind seit einem Jahr dabei, die größten Hä...</td>\n",
       "      <td>NRSITZ_00087_PARSED</td>\n",
       "      <td>Wir\\tPRO.Pers.Subst.1.Nom.Pl.* sind\\tVFIN.Sein...</td>\n",
       "      <td>False</td>\n",
       "      <td>True</td>\n",
       "      <td>True</td>\n",
       "      <td>True</td>\n",
       "      <td>True</td>\n",
       "      <td>False</td>\n",
       "      <td>False</td>\n",
       "    </tr>\n",
       "    <tr>\n",
       "      <th>80</th>\n",
       "      <td>Abgeordnete Pia Philippa Strache</td>\n",
       "      <td>Die Politik muss heute 110 Jahre später mehr d...</td>\n",
       "      <td>NRSITZ_00087_PARSED</td>\n",
       "      <td>Die\\tART.Def.Nom.Sg.Fem Politik\\tN.Reg.Nom.Sg....</td>\n",
       "      <td>True</td>\n",
       "      <td>True</td>\n",
       "      <td>True</td>\n",
       "      <td>False</td>\n",
       "      <td>True</td>\n",
       "      <td>False</td>\n",
       "      <td>False</td>\n",
       "    </tr>\n",
       "    <tr>\n",
       "      <th>84</th>\n",
       "      <td>Abgeordnete Pia Philippa Strache</td>\n",
       "      <td>Am Weltfrauentag muss man unter den momentanen...</td>\n",
       "      <td>NRSITZ_00087_PARSED</td>\n",
       "      <td>Am\\tAPPRART.Dat.Sg.Masc Weltfrauentag\\tN.Reg.D...</td>\n",
       "      <td>False</td>\n",
       "      <td>True</td>\n",
       "      <td>True</td>\n",
       "      <td>False</td>\n",
       "      <td>False</td>\n",
       "      <td>False</td>\n",
       "      <td>False</td>\n",
       "    </tr>\n",
       "    <tr>\n",
       "      <th>113</th>\n",
       "      <td>Abgeordneter Ing. Reinhold Einwallner (SPÖ)</td>\n",
       "      <td>unsere Kritikpunkte und da sehen wir die große...</td>\n",
       "      <td>NRSITZ_00137_PARSED</td>\n",
       "      <td>unsere\\tPRO.Poss.Attr.-.Nom.Pl.Masc Kritikpunk...</td>\n",
       "      <td>False</td>\n",
       "      <td>True</td>\n",
       "      <td>True</td>\n",
       "      <td>False</td>\n",
       "      <td>False</td>\n",
       "      <td>False</td>\n",
       "      <td>False</td>\n",
       "    </tr>\n",
       "    <tr>\n",
       "      <th>...</th>\n",
       "      <td>...</td>\n",
       "      <td>...</td>\n",
       "      <td>...</td>\n",
       "      <td>...</td>\n",
       "      <td>...</td>\n",
       "      <td>...</td>\n",
       "      <td>...</td>\n",
       "      <td>...</td>\n",
       "      <td>...</td>\n",
       "      <td>...</td>\n",
       "      <td>...</td>\n",
       "    </tr>\n",
       "    <tr>\n",
       "      <th>63801</th>\n",
       "      <td>Abgeordnete Dipl.-Ing. Andrea Holzner (ÖVP)</td>\n",
       "      <td>Dennoch verstehe ich die Ängste, Zweifel und S...</td>\n",
       "      <td>NRSITZ_00135_PARSED</td>\n",
       "      <td>Dennoch\\tADV verstehe\\tVFIN.Full.1.Sg.Pres.Ind...</td>\n",
       "      <td>False</td>\n",
       "      <td>True</td>\n",
       "      <td>True</td>\n",
       "      <td>False</td>\n",
       "      <td>False</td>\n",
       "      <td>False</td>\n",
       "      <td>False</td>\n",
       "    </tr>\n",
       "    <tr>\n",
       "      <th>63814</th>\n",
       "      <td>Abgeordneter Mag. Gerald Hauser</td>\n",
       "      <td>Abschließend, geschätzte Kolleginnen und Kolle...</td>\n",
       "      <td>NRSITZ_00135_PARSED</td>\n",
       "      <td>Abschließend\\tADJD.Pos ,\\tSYM.Pun.Comma geschä...</td>\n",
       "      <td>False</td>\n",
       "      <td>True</td>\n",
       "      <td>True</td>\n",
       "      <td>False</td>\n",
       "      <td>False</td>\n",
       "      <td>False</td>\n",
       "      <td>False</td>\n",
       "    </tr>\n",
       "    <tr>\n",
       "      <th>63815</th>\n",
       "      <td>Abgeordnete Dipl.-Ing. Olga Voglauer</td>\n",
       "      <td>Frau Präsidentin! Spoštovana Visoka Hiša! Sehr...</td>\n",
       "      <td>NRSITZ_00135_PARSED</td>\n",
       "      <td>Frau\\tN.Reg.Nom.Sg.Fem Präsidentin\\tN.Reg.Nom....</td>\n",
       "      <td>False</td>\n",
       "      <td>True</td>\n",
       "      <td>True</td>\n",
       "      <td>False</td>\n",
       "      <td>False</td>\n",
       "      <td>False</td>\n",
       "      <td>False</td>\n",
       "    </tr>\n",
       "    <tr>\n",
       "      <th>63882</th>\n",
       "      <td>Abgeordnete MMag. Katharina Werner, Bakk.</td>\n",
       "      <td>Doppelbauer aufgreifen: Es ist nicht verständl...</td>\n",
       "      <td>NRSITZ_00135_PARSED</td>\n",
       "      <td>Doppelbauer\\tN.Reg.Acc.Sg.Masc aufgreifen\\tVIN...</td>\n",
       "      <td>False</td>\n",
       "      <td>True</td>\n",
       "      <td>True</td>\n",
       "      <td>False</td>\n",
       "      <td>True</td>\n",
       "      <td>False</td>\n",
       "      <td>False</td>\n",
       "    </tr>\n",
       "    <tr>\n",
       "      <th>63891</th>\n",
       "      <td>Abgeordnete Mag. Faika El-Nagashi</td>\n",
       "      <td>Als Tierschutzsprecherin kann ich mit dem Erge...</td>\n",
       "      <td>NRSITZ_00135_PARSED</td>\n",
       "      <td>Als\\tAPPR.Als Tierschutzsprecherin\\tN.Reg.Acc....</td>\n",
       "      <td>False</td>\n",
       "      <td>True</td>\n",
       "      <td>True</td>\n",
       "      <td>False</td>\n",
       "      <td>True</td>\n",
       "      <td>False</td>\n",
       "      <td>False</td>\n",
       "    </tr>\n",
       "  </tbody>\n",
       "</table>\n",
       "<p>3544 rows × 11 columns</p>\n",
       "</div>"
      ],
      "text/plain": [
       "                                           speaker  \\\n",
       "43                 Abgeordnete Edith Mühlberghuber   \n",
       "62                      Abgeordnete Barbara Neßler   \n",
       "80                Abgeordnete Pia Philippa Strache   \n",
       "84                Abgeordnete Pia Philippa Strache   \n",
       "113    Abgeordneter Ing. Reinhold Einwallner (SPÖ)   \n",
       "...                                            ...   \n",
       "63801  Abgeordnete Dipl.-Ing. Andrea Holzner (ÖVP)   \n",
       "63814              Abgeordneter Mag. Gerald Hauser   \n",
       "63815         Abgeordnete Dipl.-Ing. Olga Voglauer   \n",
       "63882    Abgeordnete MMag. Katharina Werner, Bakk.   \n",
       "63891            Abgeordnete Mag. Faika El-Nagashi   \n",
       "\n",
       "                                                  speech                 file  \\\n",
       "43     Frau Präsident! Sehr geehrte Damen und Herren ...  NRSITZ_00087_PARSED   \n",
       "62     Wir sind seit einem Jahr dabei, die größten Hä...  NRSITZ_00087_PARSED   \n",
       "80     Die Politik muss heute 110 Jahre später mehr d...  NRSITZ_00087_PARSED   \n",
       "84     Am Weltfrauentag muss man unter den momentanen...  NRSITZ_00087_PARSED   \n",
       "113    unsere Kritikpunkte und da sehen wir die große...  NRSITZ_00137_PARSED   \n",
       "...                                                  ...                  ...   \n",
       "63801  Dennoch verstehe ich die Ängste, Zweifel und S...  NRSITZ_00135_PARSED   \n",
       "63814  Abschließend, geschätzte Kolleginnen und Kolle...  NRSITZ_00135_PARSED   \n",
       "63815  Frau Präsidentin! Spoštovana Visoka Hiša! Sehr...  NRSITZ_00135_PARSED   \n",
       "63882  Doppelbauer aufgreifen: Es ist nicht verständl...  NRSITZ_00135_PARSED   \n",
       "63891  Als Tierschutzsprecherin kann ich mit dem Erge...  NRSITZ_00135_PARSED   \n",
       "\n",
       "                                                  tagged  \\\n",
       "43     Frau\\tN.Reg.Nom.Sg.Fem Präsident\\tN.Reg.Nom.Sg...   \n",
       "62     Wir\\tPRO.Pers.Subst.1.Nom.Pl.* sind\\tVFIN.Sein...   \n",
       "80     Die\\tART.Def.Nom.Sg.Fem Politik\\tN.Reg.Nom.Sg....   \n",
       "84     Am\\tAPPRART.Dat.Sg.Masc Weltfrauentag\\tN.Reg.D...   \n",
       "113    unsere\\tPRO.Poss.Attr.-.Nom.Pl.Masc Kritikpunk...   \n",
       "...                                                  ...   \n",
       "63801  Dennoch\\tADV verstehe\\tVFIN.Full.1.Sg.Pres.Ind...   \n",
       "63814  Abschließend\\tADJD.Pos ,\\tSYM.Pun.Comma geschä...   \n",
       "63815  Frau\\tN.Reg.Nom.Sg.Fem Präsidentin\\tN.Reg.Nom....   \n",
       "63882  Doppelbauer\\tN.Reg.Acc.Sg.Masc aufgreifen\\tVIN...   \n",
       "63891  Als\\tAPPR.Als Tierschutzsprecherin\\tN.Reg.Acc....   \n",
       "\n",
       "       ADJA.Comp_ADJD.Comp_or  ADJA.Sup_ADJD.Sup_or  ADJA_ADJD_or  \\\n",
       "43                      False                  True          True   \n",
       "62                      False                  True          True   \n",
       "80                       True                  True          True   \n",
       "84                      False                  True          True   \n",
       "113                     False                  True          True   \n",
       "...                       ...                   ...           ...   \n",
       "63801                   False                  True          True   \n",
       "63814                   False                  True          True   \n",
       "63815                   False                  True          True   \n",
       "63882                   False                  True          True   \n",
       "63891                   False                  True          True   \n",
       "\n",
       "       contains_comparative  contains_comparative_with_set  \\\n",
       "43                    False                           True   \n",
       "62                     True                           True   \n",
       "80                    False                           True   \n",
       "84                    False                          False   \n",
       "113                   False                          False   \n",
       "...                     ...                            ...   \n",
       "63801                 False                          False   \n",
       "63814                 False                          False   \n",
       "63815                 False                          False   \n",
       "63882                 False                           True   \n",
       "63891                 False                           True   \n",
       "\n",
       "       contains_superlative  has_no_real_superlative  \n",
       "43                    False                    False  \n",
       "62                    False                    False  \n",
       "80                    False                    False  \n",
       "84                    False                    False  \n",
       "113                   False                    False  \n",
       "...                     ...                      ...  \n",
       "63801                 False                    False  \n",
       "63814                 False                    False  \n",
       "63815                 False                    False  \n",
       "63882                 False                    False  \n",
       "63891                 False                    False  \n",
       "\n",
       "[3544 rows x 11 columns]"
      ]
     },
     "execution_count": 121,
     "metadata": {},
     "output_type": "execute_result"
    }
   ],
   "source": [
    "df[~df[\"has_no_real_superlative\"]]"
   ]
  },
  {
   "cell_type": "markdown",
   "id": "2e01835b",
   "metadata": {},
   "source": [
    "Make use of the superlatives from the wiktionary dataset"
   ]
  },
  {
   "cell_type": "code",
   "execution_count": 122,
   "id": "eddba692",
   "metadata": {},
   "outputs": [],
   "source": [
    "set_superlative = set(df_adjectives[\"superlativ\"].to_list())"
   ]
  },
  {
   "cell_type": "code",
   "execution_count": 170,
   "id": "e795f0b0",
   "metadata": {},
   "outputs": [],
   "source": [
    "def clean_superlatives(input_set):\n",
    "    list_superlatives = list(input_set)\n",
    "    \n",
    "    # remove nan\n",
    "    cleaned_list = [x for x in list_superlatives if str(x) != 'nan']\n",
    "    \n",
    "    # regex to find entries with two superlatives at once\n",
    "    # this is the case if there are multiple forms\n",
    "    r = re.compile(\"am [A-Za-zöäßüÖÄÜ]+[ A-Za-zöäüßÖÄÜ]*am [A-Za-zöäüßÖÄÜ]+\")\n",
    "\n",
    "    index = 0\n",
    "    \n",
    "    # used for special case\n",
    "    faulty_index = 0\n",
    "    \n",
    "    while index < len(cleaned_list):\n",
    "        \n",
    "        current_elem = cleaned_list[index]\n",
    "        \n",
    "        if bool(r.match(current_elem)):\n",
    "            cleaned_list[index] = \"am \" + current_elem.split(\"am \")[1]\n",
    "        # special case\n",
    "        elif current_elem == \"am allerliebsten allerliebst\":\n",
    "            cleaned_list[index] = \"am allerliebsten\"\n",
    "        # special case\n",
    "        elif current_elem == \"most stupid stupidest\":\n",
    "            faulty_index = index\n",
    "            \n",
    "        index += 1\n",
    "        \n",
    "    del cleaned_list[faulty_index]\n",
    "    \n",
    "    return cleaned_list"
   ]
  },
  {
   "cell_type": "code",
   "execution_count": 182,
   "id": "f22fbee7",
   "metadata": {},
   "outputs": [],
   "source": [
    "cleaned_superlatives = clean_superlatives(set_superlative)"
   ]
  },
  {
   "cell_type": "code",
   "execution_count": 183,
   "id": "899056c7",
   "metadata": {},
   "outputs": [
    {
     "data": {
      "text/plain": [
       "5729"
      ]
     },
     "execution_count": 183,
     "metadata": {},
     "output_type": "execute_result"
    }
   ],
   "source": [
    "len(cleaned_superlatives)"
   ]
  },
  {
   "cell_type": "code",
   "execution_count": 231,
   "id": "6e417856",
   "metadata": {},
   "outputs": [
    {
     "data": {
      "text/plain": [
       "['höchst kompliziert',\n",
       " '-',\n",
       " 'weltgrößte',\n",
       " 'rapidest',\n",
       " 'most liquid',\n",
       " 'besterhalten',\n",
       " 'gänzlichsten',\n",
       " 'bestgelaunt',\n",
       " 'stiefst',\n",
       " 'bestbesucht',\n",
       " '—']"
      ]
     },
     "execution_count": 231,
     "metadata": {},
     "output_type": "execute_result"
    }
   ],
   "source": [
    "[x for x in cleaned_superlatives if not x.startswith(\"am\")]"
   ]
  },
  {
   "cell_type": "code",
   "execution_count": 217,
   "id": "9ab8e28a",
   "metadata": {},
   "outputs": [
    {
     "data": {
      "text/plain": [
       "['-', '—']"
      ]
     },
     "execution_count": 217,
     "metadata": {},
     "output_type": "execute_result"
    }
   ],
   "source": [
    "[x for x in superlatives_without_am if len(x) == 1]"
   ]
  },
  {
   "cell_type": "markdown",
   "id": "a4372b1d",
   "metadata": {},
   "source": [
    "The following approach removes the 'am' from all the superlatives to simplify the computational effort and to get additional results when looking for these superlatives in the texts.\n",
    "\n",
    "It simplifies the computation because we only need to split the text into words and then check whether they are in the set of superlatives without 'am' at the beginning. This would not be possible if the string would have a structure like 'am besten' as there would be a whitespace in the string, the logic for splitting the text into words would not consider this. Therefore we would need a solution with multiple loops, which would be way more inefficient."
   ]
  },
  {
   "cell_type": "code",
   "execution_count": 218,
   "id": "3b2240c1",
   "metadata": {},
   "outputs": [],
   "source": [
    "superlatives_without_am = []\n",
    "\n",
    "for elem in cleaned_superlatives:\n",
    "    if elem.startswith(\"am\"):\n",
    "        superlatives_without_am.append(elem.split(\" \",1)[1])\n",
    "    else:\n",
    "        superlatives_without_am.append(elem)"
   ]
  },
  {
   "cell_type": "markdown",
   "id": "e10d3817",
   "metadata": {},
   "source": [
    "There are some additional superlatives with whitespace in them (which did not have 'am' at the beginning) - These will be removed using the list below"
   ]
  },
  {
   "cell_type": "code",
   "execution_count": 192,
   "id": "c2d908cc",
   "metadata": {},
   "outputs": [],
   "source": [
    "to_remove = [x for x in superlatives_without_am if len(x.split(\" \")) > 1]"
   ]
  },
  {
   "cell_type": "markdown",
   "id": "bada82dd",
   "metadata": {},
   "source": [
    "In this block all the superlatives that we want to ignore are removed from the previously created list"
   ]
  },
  {
   "cell_type": "code",
   "execution_count": 220,
   "id": "b0290ec8",
   "metadata": {},
   "outputs": [],
   "source": [
    "for elem in superlatives_without_am:\n",
    "    if elem in to_remove or elem in superlatives_to_ignore or len(elem) == 1:\n",
    "        superlatives_without_am.remove(elem)\n",
    "    "
   ]
  },
  {
   "cell_type": "markdown",
   "id": "41c0e889",
   "metadata": {},
   "source": [
    "The final set which is used for the search of superlatives in the texts"
   ]
  },
  {
   "cell_type": "code",
   "execution_count": 221,
   "id": "2b0eede6",
   "metadata": {},
   "outputs": [],
   "source": [
    "superlatives_without_am = set(superlatives_without_am)"
   ]
  },
  {
   "cell_type": "code",
   "execution_count": 201,
   "id": "d7007182",
   "metadata": {},
   "outputs": [],
   "source": [
    "def contains_superlative_word(sentence, superlatives_without_am):\n",
    "\n",
    "    words = nltk.tokenize.word_tokenize(sentence,language='german')\n",
    "    res_list = []\n",
    "    \n",
    "    for word in words:\n",
    "        if word in superlatives_without_am:\n",
    "            res_list.append(True)\n",
    "            break\n",
    "    \n",
    "    return any(res_list)"
   ]
  },
  {
   "cell_type": "code",
   "execution_count": 223,
   "id": "3bfd9058",
   "metadata": {},
   "outputs": [],
   "source": [
    "df[\"has_superlative_word\"] = df[\"speech\"].apply(lambda sentence: contains_superlative_word(sentence, superlatives_without_am))"
   ]
  },
  {
   "cell_type": "code",
   "execution_count": 487,
   "id": "7a5c385a",
   "metadata": {},
   "outputs": [
    {
     "data": {
      "text/plain": [
       "5717"
      ]
     },
     "execution_count": 487,
     "metadata": {},
     "output_type": "execute_result"
    }
   ],
   "source": [
    "len(superlatives_without_am)"
   ]
  },
  {
   "cell_type": "markdown",
   "id": "8a08600f",
   "metadata": {},
   "source": [
    "At the beginning there were around 3.700 cases, after the removal of the words that were defined as 'superlatives to ignore' only around 2.600 cases were left. After some final dataset clean-up (removal of '-') 1973 cases with superlatives were found using this method "
   ]
  },
  {
   "cell_type": "code",
   "execution_count": 232,
   "id": "d336467e",
   "metadata": {},
   "outputs": [
    {
     "data": {
      "text/html": [
       "<div>\n",
       "<style scoped>\n",
       "    .dataframe tbody tr th:only-of-type {\n",
       "        vertical-align: middle;\n",
       "    }\n",
       "\n",
       "    .dataframe tbody tr th {\n",
       "        vertical-align: top;\n",
       "    }\n",
       "\n",
       "    .dataframe thead th {\n",
       "        text-align: right;\n",
       "    }\n",
       "</style>\n",
       "<table border=\"1\" class=\"dataframe\">\n",
       "  <thead>\n",
       "    <tr style=\"text-align: right;\">\n",
       "      <th></th>\n",
       "      <th>speaker</th>\n",
       "      <th>speech</th>\n",
       "      <th>file</th>\n",
       "      <th>tagged</th>\n",
       "      <th>ADJA.Comp_ADJD.Comp_or</th>\n",
       "      <th>ADJA.Sup_ADJD.Sup_or</th>\n",
       "      <th>ADJA_ADJD_or</th>\n",
       "      <th>contains_comparative</th>\n",
       "      <th>contains_comparative_with_set</th>\n",
       "      <th>contains_superlative</th>\n",
       "      <th>has_no_real_superlative</th>\n",
       "      <th>has_superlative_word</th>\n",
       "    </tr>\n",
       "  </thead>\n",
       "  <tbody>\n",
       "    <tr>\n",
       "      <th>43</th>\n",
       "      <td>Abgeordnete Edith Mühlberghuber</td>\n",
       "      <td>Frau Präsident! Sehr geehrte Damen und Herren ...</td>\n",
       "      <td>NRSITZ_00087_PARSED</td>\n",
       "      <td>Frau\\tN.Reg.Nom.Sg.Fem Präsident\\tN.Reg.Nom.Sg...</td>\n",
       "      <td>False</td>\n",
       "      <td>True</td>\n",
       "      <td>True</td>\n",
       "      <td>False</td>\n",
       "      <td>True</td>\n",
       "      <td>False</td>\n",
       "      <td>False</td>\n",
       "      <td>True</td>\n",
       "    </tr>\n",
       "    <tr>\n",
       "      <th>62</th>\n",
       "      <td>Abgeordnete Barbara Neßler</td>\n",
       "      <td>Wir sind seit einem Jahr dabei, die größten Hä...</td>\n",
       "      <td>NRSITZ_00087_PARSED</td>\n",
       "      <td>Wir\\tPRO.Pers.Subst.1.Nom.Pl.* sind\\tVFIN.Sein...</td>\n",
       "      <td>False</td>\n",
       "      <td>True</td>\n",
       "      <td>True</td>\n",
       "      <td>True</td>\n",
       "      <td>True</td>\n",
       "      <td>False</td>\n",
       "      <td>False</td>\n",
       "      <td>True</td>\n",
       "    </tr>\n",
       "    <tr>\n",
       "      <th>80</th>\n",
       "      <td>Abgeordnete Pia Philippa Strache</td>\n",
       "      <td>Die Politik muss heute 110 Jahre später mehr d...</td>\n",
       "      <td>NRSITZ_00087_PARSED</td>\n",
       "      <td>Die\\tART.Def.Nom.Sg.Fem Politik\\tN.Reg.Nom.Sg....</td>\n",
       "      <td>True</td>\n",
       "      <td>True</td>\n",
       "      <td>True</td>\n",
       "      <td>False</td>\n",
       "      <td>True</td>\n",
       "      <td>False</td>\n",
       "      <td>False</td>\n",
       "      <td>True</td>\n",
       "    </tr>\n",
       "    <tr>\n",
       "      <th>131</th>\n",
       "      <td>Abgeordnete Katharina Kucharowits (SPÖ)</td>\n",
       "      <td>Jährlich verschwinden Kinder und Jugendliche m...</td>\n",
       "      <td>NRSITZ_00137_PARSED</td>\n",
       "      <td>Jährlich\\tADJD.Pos verschwinden\\tVFIN.Full.3.P...</td>\n",
       "      <td>False</td>\n",
       "      <td>False</td>\n",
       "      <td>True</td>\n",
       "      <td>False</td>\n",
       "      <td>False</td>\n",
       "      <td>False</td>\n",
       "      <td>True</td>\n",
       "      <td>True</td>\n",
       "    </tr>\n",
       "    <tr>\n",
       "      <th>132</th>\n",
       "      <td>Abgeordnete Katharina Kucharowits (SPÖ)</td>\n",
       "      <td>Immer noch gelten Missing Children, obwohl man...</td>\n",
       "      <td>NRSITZ_00137_PARSED</td>\n",
       "      <td>Immer\\tADV noch\\tADV gelten\\tVFIN.Full.3.Pl.Pr...</td>\n",
       "      <td>False</td>\n",
       "      <td>True</td>\n",
       "      <td>True</td>\n",
       "      <td>True</td>\n",
       "      <td>True</td>\n",
       "      <td>False</td>\n",
       "      <td>False</td>\n",
       "      <td>True</td>\n",
       "    </tr>\n",
       "    <tr>\n",
       "      <th>...</th>\n",
       "      <td>...</td>\n",
       "      <td>...</td>\n",
       "      <td>...</td>\n",
       "      <td>...</td>\n",
       "      <td>...</td>\n",
       "      <td>...</td>\n",
       "      <td>...</td>\n",
       "      <td>...</td>\n",
       "      <td>...</td>\n",
       "      <td>...</td>\n",
       "      <td>...</td>\n",
       "      <td>...</td>\n",
       "    </tr>\n",
       "    <tr>\n",
       "      <th>63771</th>\n",
       "      <td>Abgeordnete Dr. Dagmar Belakowitsch (FPÖ)</td>\n",
       "      <td>Auffallend war heute auch: Es ist kein Land me...</td>\n",
       "      <td>NRSITZ_00135_PARSED</td>\n",
       "      <td>Auffallend\\tADJD.Pos war\\tVFIN.Sein.3.Sg.Past....</td>\n",
       "      <td>True</td>\n",
       "      <td>True</td>\n",
       "      <td>True</td>\n",
       "      <td>False</td>\n",
       "      <td>True</td>\n",
       "      <td>False</td>\n",
       "      <td>False</td>\n",
       "      <td>True</td>\n",
       "    </tr>\n",
       "    <tr>\n",
       "      <th>63799</th>\n",
       "      <td>Abgeordnete Dipl.-Ing. Andrea Holzner (ÖVP)</td>\n",
       "      <td>Frau Präsidentin! Geschätzte Kolleginnen und K...</td>\n",
       "      <td>NRSITZ_00135_PARSED</td>\n",
       "      <td>Frau\\tN.Reg.Nom.Sg.Fem Präsidentin\\tN.Reg.Nom....</td>\n",
       "      <td>False</td>\n",
       "      <td>True</td>\n",
       "      <td>True</td>\n",
       "      <td>False</td>\n",
       "      <td>False</td>\n",
       "      <td>False</td>\n",
       "      <td>False</td>\n",
       "      <td>True</td>\n",
       "    </tr>\n",
       "    <tr>\n",
       "      <th>63800</th>\n",
       "      <td>Abgeordnete Dipl.-Ing. Andrea Holzner (ÖVP)</td>\n",
       "      <td>Ich komme aus dem Innviertel, dem Bezirk Braun...</td>\n",
       "      <td>NRSITZ_00135_PARSED</td>\n",
       "      <td>Ich\\tPRO.Pers.Subst.1.Nom.Sg.* komme\\tVFIN.Ful...</td>\n",
       "      <td>False</td>\n",
       "      <td>True</td>\n",
       "      <td>True</td>\n",
       "      <td>False</td>\n",
       "      <td>True</td>\n",
       "      <td>True</td>\n",
       "      <td>False</td>\n",
       "      <td>True</td>\n",
       "    </tr>\n",
       "    <tr>\n",
       "      <th>63815</th>\n",
       "      <td>Abgeordnete Dipl.-Ing. Olga Voglauer</td>\n",
       "      <td>Frau Präsidentin! Spoštovana Visoka Hiša! Sehr...</td>\n",
       "      <td>NRSITZ_00135_PARSED</td>\n",
       "      <td>Frau\\tN.Reg.Nom.Sg.Fem Präsidentin\\tN.Reg.Nom....</td>\n",
       "      <td>False</td>\n",
       "      <td>True</td>\n",
       "      <td>True</td>\n",
       "      <td>False</td>\n",
       "      <td>False</td>\n",
       "      <td>False</td>\n",
       "      <td>False</td>\n",
       "      <td>True</td>\n",
       "    </tr>\n",
       "    <tr>\n",
       "      <th>63891</th>\n",
       "      <td>Abgeordnete Mag. Faika El-Nagashi</td>\n",
       "      <td>Als Tierschutzsprecherin kann ich mit dem Erge...</td>\n",
       "      <td>NRSITZ_00135_PARSED</td>\n",
       "      <td>Als\\tAPPR.Als Tierschutzsprecherin\\tN.Reg.Acc....</td>\n",
       "      <td>False</td>\n",
       "      <td>True</td>\n",
       "      <td>True</td>\n",
       "      <td>False</td>\n",
       "      <td>True</td>\n",
       "      <td>False</td>\n",
       "      <td>False</td>\n",
       "      <td>True</td>\n",
       "    </tr>\n",
       "  </tbody>\n",
       "</table>\n",
       "<p>1973 rows × 12 columns</p>\n",
       "</div>"
      ],
      "text/plain": [
       "                                           speaker  \\\n",
       "43                 Abgeordnete Edith Mühlberghuber   \n",
       "62                      Abgeordnete Barbara Neßler   \n",
       "80                Abgeordnete Pia Philippa Strache   \n",
       "131        Abgeordnete Katharina Kucharowits (SPÖ)   \n",
       "132        Abgeordnete Katharina Kucharowits (SPÖ)   \n",
       "...                                            ...   \n",
       "63771    Abgeordnete Dr. Dagmar Belakowitsch (FPÖ)   \n",
       "63799  Abgeordnete Dipl.-Ing. Andrea Holzner (ÖVP)   \n",
       "63800  Abgeordnete Dipl.-Ing. Andrea Holzner (ÖVP)   \n",
       "63815         Abgeordnete Dipl.-Ing. Olga Voglauer   \n",
       "63891            Abgeordnete Mag. Faika El-Nagashi   \n",
       "\n",
       "                                                  speech                 file  \\\n",
       "43     Frau Präsident! Sehr geehrte Damen und Herren ...  NRSITZ_00087_PARSED   \n",
       "62     Wir sind seit einem Jahr dabei, die größten Hä...  NRSITZ_00087_PARSED   \n",
       "80     Die Politik muss heute 110 Jahre später mehr d...  NRSITZ_00087_PARSED   \n",
       "131    Jährlich verschwinden Kinder und Jugendliche m...  NRSITZ_00137_PARSED   \n",
       "132    Immer noch gelten Missing Children, obwohl man...  NRSITZ_00137_PARSED   \n",
       "...                                                  ...                  ...   \n",
       "63771  Auffallend war heute auch: Es ist kein Land me...  NRSITZ_00135_PARSED   \n",
       "63799  Frau Präsidentin! Geschätzte Kolleginnen und K...  NRSITZ_00135_PARSED   \n",
       "63800  Ich komme aus dem Innviertel, dem Bezirk Braun...  NRSITZ_00135_PARSED   \n",
       "63815  Frau Präsidentin! Spoštovana Visoka Hiša! Sehr...  NRSITZ_00135_PARSED   \n",
       "63891  Als Tierschutzsprecherin kann ich mit dem Erge...  NRSITZ_00135_PARSED   \n",
       "\n",
       "                                                  tagged  \\\n",
       "43     Frau\\tN.Reg.Nom.Sg.Fem Präsident\\tN.Reg.Nom.Sg...   \n",
       "62     Wir\\tPRO.Pers.Subst.1.Nom.Pl.* sind\\tVFIN.Sein...   \n",
       "80     Die\\tART.Def.Nom.Sg.Fem Politik\\tN.Reg.Nom.Sg....   \n",
       "131    Jährlich\\tADJD.Pos verschwinden\\tVFIN.Full.3.P...   \n",
       "132    Immer\\tADV noch\\tADV gelten\\tVFIN.Full.3.Pl.Pr...   \n",
       "...                                                  ...   \n",
       "63771  Auffallend\\tADJD.Pos war\\tVFIN.Sein.3.Sg.Past....   \n",
       "63799  Frau\\tN.Reg.Nom.Sg.Fem Präsidentin\\tN.Reg.Nom....   \n",
       "63800  Ich\\tPRO.Pers.Subst.1.Nom.Sg.* komme\\tVFIN.Ful...   \n",
       "63815  Frau\\tN.Reg.Nom.Sg.Fem Präsidentin\\tN.Reg.Nom....   \n",
       "63891  Als\\tAPPR.Als Tierschutzsprecherin\\tN.Reg.Acc....   \n",
       "\n",
       "       ADJA.Comp_ADJD.Comp_or  ADJA.Sup_ADJD.Sup_or  ADJA_ADJD_or  \\\n",
       "43                      False                  True          True   \n",
       "62                      False                  True          True   \n",
       "80                       True                  True          True   \n",
       "131                     False                 False          True   \n",
       "132                     False                  True          True   \n",
       "...                       ...                   ...           ...   \n",
       "63771                    True                  True          True   \n",
       "63799                   False                  True          True   \n",
       "63800                   False                  True          True   \n",
       "63815                   False                  True          True   \n",
       "63891                   False                  True          True   \n",
       "\n",
       "       contains_comparative  contains_comparative_with_set  \\\n",
       "43                    False                           True   \n",
       "62                     True                           True   \n",
       "80                    False                           True   \n",
       "131                   False                          False   \n",
       "132                    True                           True   \n",
       "...                     ...                            ...   \n",
       "63771                 False                           True   \n",
       "63799                 False                          False   \n",
       "63800                 False                           True   \n",
       "63815                 False                          False   \n",
       "63891                 False                           True   \n",
       "\n",
       "       contains_superlative  has_no_real_superlative  has_superlative_word  \n",
       "43                    False                    False                  True  \n",
       "62                    False                    False                  True  \n",
       "80                    False                    False                  True  \n",
       "131                   False                     True                  True  \n",
       "132                   False                    False                  True  \n",
       "...                     ...                      ...                   ...  \n",
       "63771                 False                    False                  True  \n",
       "63799                 False                    False                  True  \n",
       "63800                  True                    False                  True  \n",
       "63815                 False                    False                  True  \n",
       "63891                 False                    False                  True  \n",
       "\n",
       "[1973 rows x 12 columns]"
      ]
     },
     "execution_count": 232,
     "metadata": {},
     "output_type": "execute_result"
    }
   ],
   "source": [
    "df[df[\"has_superlative_word\"]]"
   ]
  },
  {
   "cell_type": "code",
   "execution_count": 453,
   "id": "f26290d9",
   "metadata": {},
   "outputs": [
    {
     "data": {
      "text/plain": [
       "5542"
      ]
     },
     "execution_count": 453,
     "metadata": {},
     "output_type": "execute_result"
    }
   ],
   "source": [
    "df[df[\"has_superlative_word\"] | df[\"ADJA.Sup_ADJD.Sup_or\"]].shape[0]"
   ]
  },
  {
   "cell_type": "code",
   "execution_count": 451,
   "id": "349fd514",
   "metadata": {},
   "outputs": [
    {
     "data": {
      "text/plain": [
       "Index(['speaker', 'speech', 'file', 'tagged', 'ADJA.Comp_ADJD.Comp_or',\n",
       "       'ADJA.Sup_ADJD.Sup_or', 'ADJA_ADJD_or', 'contains_comparative',\n",
       "       'contains_comparative_with_set', 'contains_superlative',\n",
       "       'has_no_real_superlative', 'has_superlative_word', 'adja_to_ignore',\n",
       "       'adja_comp_to_ignore', 'adjd_comp_to_ignore', 'adjd_to_ignore',\n",
       "       'adja_sup_to_ignore', 'adjd_sup_to_ignore',\n",
       "       'contains_comparative_with_deklination_set',\n",
       "       'contains_positive_with_set', 'contains_positive_with_deklination_set'],\n",
       "      dtype='object')"
      ]
     },
     "execution_count": 451,
     "metadata": {},
     "output_type": "execute_result"
    }
   ],
   "source": [
    "df.columns"
   ]
  },
  {
   "cell_type": "markdown",
   "id": "67308357",
   "metadata": {},
   "source": [
    "### Evaluation"
   ]
  },
  {
   "cell_type": "code",
   "execution_count": 567,
   "id": "7dba93b7",
   "metadata": {},
   "outputs": [],
   "source": [
    "#df[\"ADJA_SUP_LEN\"] = df[df[\"ADJA.Sup_ADJD.Sup_or\"]][\"speech\"].apply(lambda text: len(text))"
   ]
  },
  {
   "cell_type": "code",
   "execution_count": 577,
   "id": "e07337e4",
   "metadata": {},
   "outputs": [],
   "source": [
    "sup_index = df[df[\"ADJA.Sup_ADJD.Sup_or\"]].sample(50).index"
   ]
  },
  {
   "cell_type": "code",
   "execution_count": 584,
   "id": "4b20e2de",
   "metadata": {},
   "outputs": [],
   "source": [
    "df.iloc[sup_index][[\"speech\",\"ADJA.Sup_ADJD.Sup_or\"]].to_csv(\"sup_eval_data.csv\",sep=\";\",quoting=csv.QUOTE_ALL,index=False)"
   ]
  },
  {
   "cell_type": "code",
   "execution_count": 590,
   "id": "c27ed6ee",
   "metadata": {},
   "outputs": [],
   "source": [
    "df_unique_speakers = pd.Series(df[\"speaker\"].unique()).to_frame()\n",
    "df_unique_speakers.columns = [\"speaker\"]\n",
    "df_unique_speakers.to_csv(\"speakers.csv\", index=False)"
   ]
  }
 ],
 "metadata": {
  "kernelspec": {
   "display_name": "Python 3 (ipykernel)",
   "language": "python",
   "name": "python3"
  },
  "language_info": {
   "codemirror_mode": {
    "name": "ipython",
    "version": 3
   },
   "file_extension": ".py",
   "mimetype": "text/x-python",
   "name": "python",
   "nbconvert_exporter": "python",
   "pygments_lexer": "ipython3",
   "version": "3.8.13"
  }
 },
 "nbformat": 4,
 "nbformat_minor": 5
}
