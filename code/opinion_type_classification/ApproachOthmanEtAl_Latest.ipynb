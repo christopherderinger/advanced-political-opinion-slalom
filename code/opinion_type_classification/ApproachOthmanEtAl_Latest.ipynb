{
 "cells": [
  {
   "cell_type": "code",
   "execution_count": null,
   "id": "7abfc6d4",
   "metadata": {},
   "outputs": [],
   "source": [
    "import pandas as pd\n",
    "import numpy as np\n",
    "import re\n",
    "import nltk\n",
    "import operator\n",
    "import csv"
   ]
  },
  {
   "cell_type": "code",
   "execution_count": null,
   "id": "d84c467b",
   "metadata": {},
   "outputs": [],
   "source": [
    "PATH_TO_TAGGED_STATEMENTS = \"all_tagged.csv\"\n",
    "PATH_SAMPLE_FOLDER = \"samples/\""
   ]
  },
  {
   "cell_type": "markdown",
   "id": "d5605a55",
   "metadata": {},
   "source": [
    "Importing the .csv file containing all the political statements and the pos-tagged version of the statements. The RFTagger was used for tagging"
   ]
  },
  {
   "cell_type": "code",
   "execution_count": null,
   "id": "062815aa",
   "metadata": {},
   "outputs": [],
   "source": [
    "df = pd.read_csv(PATH_TO_TAGGED_STATEMENTS)"
   ]
  },
  {
   "cell_type": "markdown",
   "id": "cd6ac48c",
   "metadata": {},
   "source": [
    "This notebooks aims at reimplementing the approach followed by Othman et al. in the paper **Using NLP Approach for Opinion Types Classifier**.\n",
    "\n",
    "Four different categories are defined in the paper:\n",
    " - Non-Opinionated Statement\n",
    " - Comparative Opinionated Statement\n",
    " - Superlative Opinionated Statement \n",
    " - Opinionated Statement\n",
    " \n",
    "The table below shows which tags, if any, are relevant for a category:\n",
    " \n",
    "| Sentimental Category | POS Tags  |\n",
    "| --- | --- |\n",
    "| Non-Opinionated Statement |  -- |\n",
    "| Comparative Opinionated Statement |  JJR, RBR |\n",
    "| Superlative Opinionated Statement |  JJS, RBS |\n",
    "| Opinionated Statement |  JJ |\n",
    "\n",
    "The next table shows what each tag stands for in the tagger that was used in the paper:\n",
    "\n",
    "| POS Tag | Description  | Example |\n",
    "| --- | --- | --- |\n",
    "| JJ | Adjective  | Big |\n",
    "| JJR | Adjective comparative  | Bigger |\n",
    "| JJS | Adjective superlative  | Biggest |\n",
    "| RBR | Adverb comparative  | Better |\n",
    "| RBS | Adverb superlative  | Best |\n",
    "\n",
    "The RFTagger provides the following tags:\n",
    "\n",
    "| POS Tag (Paper) | POS Tag (RFTagger)  | \n",
    "| --- | --- |\n",
    "| JJ | ADJA, ADJD  |\n",
    "| JJR | ADJA.Comp, ADJD.Comp  |\n",
    "| JJS | ADJA.Sup, ADJD.Sup | \n",
    "| RBR | Am ehesten ADJD.Comp | \n",
    "| RBS | Am ehesten ADJD.Sup |"
   ]
  },
  {
   "cell_type": "code",
   "execution_count": null,
   "id": "66259d2c",
   "metadata": {},
   "outputs": [],
   "source": [
    "df.shape[0]"
   ]
  },
  {
   "cell_type": "code",
   "execution_count": null,
   "id": "e0b324f7",
   "metadata": {},
   "outputs": [],
   "source": [
    "def contains_tag(sentence, tag):\n",
    "    return tag in sentence\n",
    "\n",
    "def analyze_dataframe_for_tags(df, tags, mode=\"and\"):\n",
    "    column_names = []\n",
    "    modes = [\"and\", \"or\"]\n",
    "    \n",
    "    if mode not in modes:\n",
    "        print(\"Please use either 'and' or 'or' as mode\")\n",
    "        return\n",
    "    \n",
    "    # define the output of the function 'f' based on the input parameter\n",
    "    # 'mode'\n",
    "    if mode == 'and' or len(tags) == 1:\n",
    "        def f(x,y):\n",
    "            return x & y\n",
    "    else:\n",
    "        def f(x,y):\n",
    "            return x | y\n",
    "    \n",
    "    for tag in tags:\n",
    "        column_name = \"contains_tag_{tag}\".format(tag=tag)\n",
    "        column_names.append(column_name)\n",
    "        df[column_name] = df[\"tagged\"].apply(\n",
    "            lambda row: contains_tag(row, tag))\n",
    "    \n",
    "    final_truth_values = np.ones(df.shape[0], dtype=bool)\n",
    "    \n",
    "    if mode == \"or\" and len(tags) > 1:\n",
    "        final_truth_values = np.zeros(df.shape[0], dtype=bool)\n",
    "    \n",
    "    for column_name in column_names:\n",
    "        #final_truth_values = final_truth_values == df[column_name].to_numpy()\n",
    "        final_truth_values = f(final_truth_values, df[column_name].to_numpy())\n",
    "        df.drop(column_name, axis=1, inplace=True)\n",
    "    \n",
    "    final_column_name = \"\"\n",
    "    \n",
    "    for tag in tags:\n",
    "        final_column_name += tag\n",
    "        final_column_name += \"_\"\n",
    "    \n",
    "    final_column_name += mode\n",
    "    \n",
    "    df[final_column_name] = final_truth_values\n",
    "    \n",
    "    return df      "
   ]
  },
  {
   "cell_type": "code",
   "execution_count": null,
   "id": "18164ced",
   "metadata": {},
   "outputs": [],
   "source": [
    "analyze_dataframe_for_tags(df,[\"ADJA.Comp\", \"ADJD.Comp\"],mode=\"or\")\n",
    "analyze_dataframe_for_tags(df,[\"ADJA.Sup\", \"ADJD.Sup\"],mode=\"or\")\n",
    "analyze_dataframe_for_tags(df,[\"ADJA\", \"ADJD\"],mode=\"or\")\n",
    "print()"
   ]
  },
  {
   "cell_type": "markdown",
   "id": "5612e8c2",
   "metadata": {},
   "source": [
    "Amount of statements for each of the tag combinations added above"
   ]
  },
  {
   "cell_type": "code",
   "execution_count": null,
   "id": "e96c6c20",
   "metadata": {},
   "outputs": [],
   "source": [
    "df.shape[0]"
   ]
  },
  {
   "cell_type": "code",
   "execution_count": null,
   "id": "d5a4a318",
   "metadata": {},
   "outputs": [],
   "source": [
    "df[df[\"ADJA.Comp_ADJD.Comp_or\"]].shape[0]"
   ]
  },
  {
   "cell_type": "code",
   "execution_count": null,
   "id": "209e6f19",
   "metadata": {},
   "outputs": [],
   "source": [
    "df[df[\"ADJA.Comp_ADJD.Comp_or\"]].sample(200).to_csv(PATH_SAMPLE_FOLDER + \"samples_pos_comp.csv\")"
   ]
  },
  {
   "cell_type": "code",
   "execution_count": null,
   "id": "8b3fc1b0",
   "metadata": {},
   "outputs": [],
   "source": [
    "df[df[\"ADJA.Sup_ADJD.Sup_or\"]].shape[0]"
   ]
  },
  {
   "cell_type": "code",
   "execution_count": null,
   "id": "9d84c93a",
   "metadata": {},
   "outputs": [],
   "source": [
    "df[df[\"ADJA.Sup_ADJD.Sup_or\"]].sample(200).to_csv(PATH_SAMPLE_FOLDER + \"samples_pos_sup.csv\")"
   ]
  },
  {
   "cell_type": "code",
   "execution_count": null,
   "id": "34fe0ad7",
   "metadata": {},
   "outputs": [],
   "source": [
    "df[df[\"ADJA_ADJD_or\"] & ~df[\"ADJA.Sup_ADJD.Sup_or\"] & ~df[\"ADJA.Comp_ADJD.Comp_or\"]].shape[0]"
   ]
  },
  {
   "cell_type": "code",
   "execution_count": null,
   "id": "606790ab",
   "metadata": {},
   "outputs": [],
   "source": [
    "df[df[\"ADJA_ADJD_or\"] & ~df[\"ADJA.Sup_ADJD.Sup_or\"] & ~df[\"ADJA.Comp_ADJD.Comp_or\"]].sample(200).to_csv(PATH_SAMPLE_FOLDER + \"samples_pos.csv\")"
   ]
  },
  {
   "cell_type": "code",
   "execution_count": null,
   "id": "4e293c38",
   "metadata": {},
   "outputs": [],
   "source": [
    "df[df[\"ADJA_ADJD_or\"]].shape[0]"
   ]
  },
  {
   "cell_type": "code",
   "execution_count": null,
   "id": "794cc33a",
   "metadata": {},
   "outputs": [],
   "source": [
    "df[~df[\"ADJA_ADJD_or\"] & ~df[\"ADJA.Sup_ADJD.Sup_or\"] & ~df[\"ADJA.Comp_ADJD.Comp_or\"]].shape[0]"
   ]
  },
  {
   "cell_type": "markdown",
   "id": "f669fb27",
   "metadata": {},
   "source": [
    "### Evaluation of opinionated statements"
   ]
  },
  {
   "cell_type": "markdown",
   "id": "4c340e0d",
   "metadata": {},
   "source": [
    "First we define some functions that are used to analyze the words which were tagged with certain tags by the RFTagger"
   ]
  },
  {
   "cell_type": "code",
   "execution_count": null,
   "id": "4fea349a",
   "metadata": {},
   "outputs": [],
   "source": [
    "def get_value_counts_of_tagged_words_by_postag(df_tagged, postag):\n",
    "    words = []\n",
    "    \n",
    "    words.extend(df_tagged[\"tagged\"].apply(lambda text: \n",
    "                             find_desired_words(text,postag)))\n",
    "    \n",
    "    words_flat = flatten_list_of_lists(words)\n",
    "    \n",
    "    column_name = postag.upper()\n",
    "    \n",
    "    return pd.DataFrame(words_flat, columns=[column_name]).value_counts()\n",
    "    \n",
    "\n",
    "def flatten_list_of_lists(list_of_lists):\n",
    "    return [item for sublist in list_of_lists for item in sublist]\n",
    "\n",
    "def find_desired_words(sentence, tag):\n",
    "    words = sentence.split(\" \")\n",
    "    res = []\n",
    "    \n",
    "    for word in words:\n",
    "        if tag in word:\n",
    "            res.append(word.split(\"\\t\")[0])\n",
    "    \n",
    "    return res\n",
    "\n",
    "def sentence_only_contains_words_that_should_be_ignored(sentence, tag, ignore_set):\n",
    "    relevant_words = find_desired_words(sentence,tag)\n",
    "    \n",
    "    res = []\n",
    "    \n",
    "    for word in relevant_words:\n",
    "        if word in ignore_set:\n",
    "            res.append(True)\n",
    "        else:\n",
    "            res.append(False)\n",
    "\n",
    "    return all(res)\n"
   ]
  },
  {
   "cell_type": "markdown",
   "id": "73b01d9b",
   "metadata": {},
   "source": [
    "#### First we want to display the words which were tagged with the ADJA and ADJD tags the most often"
   ]
  },
  {
   "cell_type": "code",
   "execution_count": null,
   "id": "66898b2d",
   "metadata": {},
   "outputs": [],
   "source": [
    "df_adja_adjd = df[df[\"ADJA_ADJD_or\"] & ~df[\"ADJA.Sup_ADJD.Sup_or\"] & ~df[\"ADJA.Comp_ADJD.Comp_or\"]]"
   ]
  },
  {
   "cell_type": "markdown",
   "id": "2c47db4f",
   "metadata": {},
   "source": [
    "###### Analyze the words containing the ADJA tag"
   ]
  },
  {
   "cell_type": "markdown",
   "id": "dc80b911",
   "metadata": {},
   "source": [
    "The words 'geehrte', 'letzten', 'geehrter', 'Geschätzte', 'Liebe', 'Hohes', 'Werte', 'Geschätzter' and 'geschätzte'  are going to be added to the set of ignored words, as they might only have to do with greetings"
   ]
  },
  {
   "cell_type": "code",
   "execution_count": null,
   "id": "c4d8aef5",
   "metadata": {},
   "outputs": [],
   "source": [
    "value_counts_adja = get_value_counts_of_tagged_words_by_postag(df_adja_adjd,\"ADJA\")"
   ]
  },
  {
   "cell_type": "code",
   "execution_count": null,
   "id": "f6ee8afc",
   "metadata": {},
   "outputs": [],
   "source": [
    "value_counts_adja.head(5)"
   ]
  },
  {
   "cell_type": "markdown",
   "id": "72434364",
   "metadata": {},
   "source": [
    "##### Analyze words containing the ADJD tag"
   ]
  },
  {
   "cell_type": "markdown",
   "id": "820fbfc4",
   "metadata": {},
   "source": [
    "Here we cannot see a word that should clearly be added to the set of ignored words"
   ]
  },
  {
   "cell_type": "code",
   "execution_count": null,
   "id": "8e00c0d8",
   "metadata": {},
   "outputs": [],
   "source": [
    "value_counts_adjd = get_value_counts_of_tagged_words_by_postag(df_adja_adjd,\"ADJD\")"
   ]
  },
  {
   "cell_type": "code",
   "execution_count": null,
   "id": "896afb07",
   "metadata": {},
   "outputs": [],
   "source": [
    "value_counts_adjd.head(5)"
   ]
  },
  {
   "cell_type": "markdown",
   "id": "66b41a63",
   "metadata": {},
   "source": [
    "Defining the set of words that should be ignored "
   ]
  },
  {
   "cell_type": "code",
   "execution_count": null,
   "id": "486aea7d",
   "metadata": {},
   "outputs": [],
   "source": [
    "adja_set_of_words_to_ignore = set(['geehrte', \n",
    "                                   'letzten', \n",
    "                                   'geehrter', \n",
    "                                   'Geschätzte', \n",
    "                                   'Liebe', \n",
    "                                   'Hohes',\n",
    "                                   'Werte', \n",
    "                                   'Geschätzter',\n",
    "                                   'geschätzte'\n",
    "                                  'geehrten',\n",
    "                                   '„'])"
   ]
  },
  {
   "cell_type": "markdown",
   "id": "df771713",
   "metadata": {},
   "source": [
    "Create new columns that are used to filter out texts with words that should be ignored, where no other ADJA or ADJD tag is present"
   ]
  },
  {
   "cell_type": "code",
   "execution_count": null,
   "id": "cfb15335",
   "metadata": {},
   "outputs": [],
   "source": [
    "df[\"adja_to_ignore\"] = df_adja_adjd[\"tagged\"].apply(lambda sentence: \n",
    "            sentence_only_contains_words_that_should_be_ignored(sentence, 'ADJA', adja_set_of_words_to_ignore))"
   ]
  },
  {
   "cell_type": "code",
   "execution_count": null,
   "id": "e63dc609",
   "metadata": {},
   "outputs": [],
   "source": [
    "df[\"adjd_to_ignore\"] = df_adja_adjd[\"tagged\"].apply(lambda sentence: \n",
    "            sentence_only_contains_words_that_should_be_ignored(sentence, 'ADJD', adja_set_of_words_to_ignore))"
   ]
  },
  {
   "cell_type": "markdown",
   "id": "75bb10d2",
   "metadata": {},
   "source": [
    "Replacing Nan with True as True is the value that is given to the texts that should be ignored"
   ]
  },
  {
   "cell_type": "code",
   "execution_count": null,
   "id": "a4fdd274",
   "metadata": {},
   "outputs": [],
   "source": [
    "df[\"adja_to_ignore\"] = df[\"adja_to_ignore\"].fillna(True)\n",
    "df[\"adjd_to_ignore\"] = df[\"adjd_to_ignore\"].fillna(True)"
   ]
  },
  {
   "cell_type": "markdown",
   "id": "dc66f8da",
   "metadata": {},
   "source": [
    "Total amount of statements left after filtering out words that should be ignored"
   ]
  },
  {
   "cell_type": "code",
   "execution_count": null,
   "id": "b2b51711",
   "metadata": {},
   "outputs": [],
   "source": [
    "df[~df[\"adja_to_ignore\"] | ~df[\"adjd_to_ignore\"]].shape[0]"
   ]
  },
  {
   "cell_type": "markdown",
   "id": "f12108fd",
   "metadata": {},
   "source": [
    "#### Now the same approach as above is implemented for ADJA.Comp and ADJD.Comp"
   ]
  },
  {
   "cell_type": "code",
   "execution_count": null,
   "id": "3475c82a",
   "metadata": {},
   "outputs": [],
   "source": [
    "df_comp = df[df[\"ADJA.Comp_ADJD.Comp_or\"]]"
   ]
  },
  {
   "cell_type": "markdown",
   "id": "35d521a9",
   "metadata": {},
   "source": [
    "'weitere', 'weiteren', 'weiterer' and 'weiteres' would not be classified as comparative according to https://de.wiktionary.org/wiki/weiter - They are added to the set of ignored words"
   ]
  },
  {
   "cell_type": "code",
   "execution_count": null,
   "id": "5073872f",
   "metadata": {},
   "outputs": [],
   "source": [
    "value_counts_adja_comp = get_value_counts_of_tagged_words_by_postag(df_comp,\"ADJA.Comp\")"
   ]
  },
  {
   "cell_type": "code",
   "execution_count": null,
   "id": "7b3253a8",
   "metadata": {},
   "outputs": [],
   "source": [
    "value_counts_adja_comp.head(10)"
   ]
  },
  {
   "cell_type": "code",
   "execution_count": null,
   "id": "74d39c28",
   "metadata": {},
   "outputs": [],
   "source": [
    "adja_comp_set_of_words_to_ignore = set(['weitere', 'weiteren', 'weiterer','weiteres'])"
   ]
  },
  {
   "cell_type": "markdown",
   "id": "7ef18d25",
   "metadata": {},
   "source": [
    "Now the same is done for the ADJD.Comp tag"
   ]
  },
  {
   "cell_type": "markdown",
   "id": "bebd516b",
   "metadata": {},
   "source": [
    "Here we cannot see a word that should clearly be added to the set of ignored words"
   ]
  },
  {
   "cell_type": "code",
   "execution_count": null,
   "id": "14a0d178",
   "metadata": {},
   "outputs": [],
   "source": [
    "value_counts_adjd_comp = get_value_counts_of_tagged_words_by_postag(df_comp,\"ADJD.Comp\")"
   ]
  },
  {
   "cell_type": "code",
   "execution_count": null,
   "id": "a506a7a9",
   "metadata": {},
   "outputs": [],
   "source": [
    "value_counts_adjd_comp.head(5)"
   ]
  },
  {
   "cell_type": "code",
   "execution_count": null,
   "id": "efbefacd",
   "metadata": {},
   "outputs": [],
   "source": [
    "df[\"adja_comp_to_ignore\"] = df_comp[\"tagged\"].apply(lambda sentence: sentence_only_contains_words_that_should_be_ignored(sentence, 'ADJA.Comp', adja_comp_set_of_words_to_ignore))"
   ]
  },
  {
   "cell_type": "code",
   "execution_count": null,
   "id": "9526a2fd",
   "metadata": {},
   "outputs": [],
   "source": [
    "df[\"adjd_comp_to_ignore\"] = df_comp[\"tagged\"].apply(lambda sentence: sentence_only_contains_words_that_should_be_ignored(sentence, 'ADJD.Comp', adja_comp_set_of_words_to_ignore))"
   ]
  },
  {
   "cell_type": "code",
   "execution_count": null,
   "id": "549e0c59",
   "metadata": {},
   "outputs": [],
   "source": [
    "df[\"adja_comp_to_ignore\"] = df[\"adja_comp_to_ignore\"].fillna(True)\n",
    "df[\"adjd_comp_to_ignore\"] = df[\"adjd_comp_to_ignore\"].fillna(True)"
   ]
  },
  {
   "cell_type": "code",
   "execution_count": null,
   "id": "347145f1",
   "metadata": {},
   "outputs": [],
   "source": [
    "df[~df[\"adjd_comp_to_ignore\"] | ~df[\"adja_comp_to_ignore\"]].shape[0]"
   ]
  },
  {
   "cell_type": "markdown",
   "id": "85070f14",
   "metadata": {},
   "source": [
    "#### Now the same approach as above is implemented for ADJA.Sup and ADJD.Sup"
   ]
  },
  {
   "cell_type": "code",
   "execution_count": null,
   "id": "d6278cc7",
   "metadata": {},
   "outputs": [],
   "source": [
    "df_sup = df[df[\"ADJA.Sup_ADJD.Sup_or\"]]"
   ]
  },
  {
   "cell_type": "code",
   "execution_count": null,
   "id": "622c9b71",
   "metadata": {},
   "outputs": [],
   "source": [
    "value_counts_adja_sup = get_value_counts_of_tagged_words_by_postag(df_sup,\"ADJA.Sup\")"
   ]
  },
  {
   "cell_type": "code",
   "execution_count": null,
   "id": "b37ad787",
   "metadata": {},
   "outputs": [],
   "source": [
    "value_counts_adja_sup.head(5)"
   ]
  },
  {
   "cell_type": "code",
   "execution_count": null,
   "id": "9e8b09c9",
   "metadata": {},
   "outputs": [],
   "source": [
    "value_counts_adjd_sup = get_value_counts_of_tagged_words_by_postag(df_sup, \"ADJD.Sup\")"
   ]
  },
  {
   "cell_type": "code",
   "execution_count": null,
   "id": "c5866e0e",
   "metadata": {},
   "outputs": [],
   "source": [
    "value_counts_adjd_sup.head(5)"
   ]
  },
  {
   "cell_type": "code",
   "execution_count": null,
   "id": "3307239e",
   "metadata": {},
   "outputs": [],
   "source": [
    "superlatives_to_ignore = set([\n",
    "'nendsten',\n",
    "'herumzutesten',\n",
    "'freitesten',\n",
    "'dritthöchste',\n",
    "'übernächsten',\n",
    "'übernächstes',\n",
    "'nächster',\n",
    "'nächstes',\n",
    "'nächste',\n",
    "'nächsten',\n",
    "'Nächstes',\n",
    "'Nächste',\n",
    "'Obersten',\n",
    "'Oberstes',\n",
    "'Nächster',\n",
    "'Oberste',\n",
    "'Letztes',\n",
    "'Allerehrenwerteste',\n",
    "'Hochgeschätzter',\n",
    "'Wertgeschätzter',\n",
    "'Liebsten',\n",
    "'Bedarfsorientierten',\n",
    "'Ex-Innenminister',\n",
    "'Gespielte'\n",
    "])"
   ]
  },
  {
   "cell_type": "code",
   "execution_count": null,
   "id": "188627d8",
   "metadata": {},
   "outputs": [],
   "source": [
    "df[\"adja_sup_to_ignore\"] = df_sup[\"tagged\"].apply(lambda sentence: \n",
    "        sentence_only_contains_words_that_should_be_ignored(sentence, 'ADJA.Sup', superlatives_to_ignore))"
   ]
  },
  {
   "cell_type": "code",
   "execution_count": null,
   "id": "05837a35",
   "metadata": {},
   "outputs": [],
   "source": [
    "df[\"adjd_sup_to_ignore\"] = df_sup[\"tagged\"].apply(lambda sentence: \n",
    "        sentence_only_contains_words_that_should_be_ignored(sentence, 'ADJD.Sup', superlatives_to_ignore))"
   ]
  },
  {
   "cell_type": "code",
   "execution_count": null,
   "id": "4dd00e7f",
   "metadata": {},
   "outputs": [],
   "source": [
    "df[\"adja_sup_to_ignore\"] = df[\"adja_sup_to_ignore\"].fillna(True)\n",
    "df[\"adjd_sup_to_ignore\"] = df[\"adjd_sup_to_ignore\"].fillna(True)"
   ]
  },
  {
   "cell_type": "code",
   "execution_count": null,
   "id": "16dbe843",
   "metadata": {},
   "outputs": [],
   "source": [
    "df[~df[\"adjd_sup_to_ignore\"] | ~df[\"adja_sup_to_ignore\"]].shape[0]"
   ]
  },
  {
   "cell_type": "markdown",
   "id": "f5f848ac",
   "metadata": {},
   "source": [
    "Finding the number of non-opinionated statements after the cleaning process with the sets of words that should be ignored in each case"
   ]
  },
  {
   "cell_type": "code",
   "execution_count": null,
   "id": "fd43a641",
   "metadata": {},
   "outputs": [],
   "source": [
    "df[df[\"adjd_sup_to_ignore\"] & df[\"adja_sup_to_ignore\"] & df[\"adjd_comp_to_ignore\"] \n",
    "   & df[\"adja_comp_to_ignore\"] & df[\"adjd_to_ignore\"] & df[\"adja_to_ignore\"]].shape[0]"
   ]
  },
  {
   "cell_type": "markdown",
   "id": "044ec7cf",
   "metadata": {},
   "source": [
    "### Trying additional methods for finding sentences containing adjectives"
   ]
  },
  {
   "cell_type": "markdown",
   "id": "ebc0f574",
   "metadata": {},
   "source": [
    "A dataset which was extracted from wiktionary containing nearly all adjectives that are listed on wiktionary, including the comparative and superlative form if available. Some special cases were not included, as they would not be relevant to our analysis"
   ]
  },
  {
   "cell_type": "code",
   "execution_count": null,
   "id": "d941280f",
   "metadata": {},
   "outputs": [],
   "source": [
    "PATH_TO_ADJECTIVES_DATASET = \"adjektive/nearly_all.csv\""
   ]
  },
  {
   "cell_type": "code",
   "execution_count": null,
   "id": "8fdc9bd9",
   "metadata": {},
   "outputs": [],
   "source": [
    "df_adjectives = pd.read_csv(PATH_TO_ADJECTIVES_DATASET)"
   ]
  },
  {
   "cell_type": "markdown",
   "id": "bc716ecf",
   "metadata": {},
   "source": [
    "Creating a set containing all the positive adjectives from the dataset above"
   ]
  },
  {
   "cell_type": "code",
   "execution_count": null,
   "id": "57989251",
   "metadata": {},
   "outputs": [],
   "source": [
    "set_positives = set(df_adjectives[\"positiv\"].dropna().to_list())"
   ]
  },
  {
   "cell_type": "code",
   "execution_count": null,
   "id": "ccf9ff3c",
   "metadata": {},
   "outputs": [],
   "source": [
    "def add_deklination(set_adjectives):\n",
    "    \n",
    "    res = []\n",
    "    \n",
    "    for word in set_adjectives:\n",
    "        res.append(word)\n",
    "        res.append(word+\"e\")\n",
    "        res.append(word+\"er\")\n",
    "        res.append(word+\"en\")\n",
    "        res.append(word+\"em\")\n",
    "        res.append(word+\"es\")\n",
    "    \n",
    "    return set(res)"
   ]
  },
  {
   "cell_type": "code",
   "execution_count": null,
   "id": "a992b699",
   "metadata": {},
   "outputs": [],
   "source": [
    "set_positives_with_deklination = add_deklination(set_positives)"
   ]
  },
  {
   "cell_type": "code",
   "execution_count": null,
   "id": "53680142",
   "metadata": {},
   "outputs": [],
   "source": [
    "len(set_positives)"
   ]
  },
  {
   "cell_type": "code",
   "execution_count": null,
   "id": "d3444a77",
   "metadata": {},
   "outputs": [],
   "source": [
    "len(set_positives.difference(adja_set_of_words_to_ignore))"
   ]
  },
  {
   "cell_type": "code",
   "execution_count": null,
   "id": "f3dc1be6",
   "metadata": {},
   "outputs": [],
   "source": [
    "set_positives_with_deklination = set_positives_with_deklination.difference(adja_set_of_words_to_ignore)"
   ]
  },
  {
   "cell_type": "code",
   "execution_count": null,
   "id": "5f25b7b0",
   "metadata": {},
   "outputs": [],
   "source": [
    "len(set_positives_with_deklination)"
   ]
  },
  {
   "cell_type": "code",
   "execution_count": null,
   "id": "13aca72f",
   "metadata": {},
   "outputs": [],
   "source": [
    "set_positives_with_deklination.difference(adja_set_of_words_to_ignore)"
   ]
  },
  {
   "cell_type": "code",
   "execution_count": null,
   "id": "acd0705c",
   "metadata": {},
   "outputs": [],
   "source": [
    "def contains_positive(sentence, set_positives):\n",
    "    \n",
    "    res_list = []\n",
    "\n",
    "    words = nltk.tokenize.word_tokenize(sentence,language='german')\n",
    "        \n",
    "    for word in words:\n",
    "        if word in set_positives:\n",
    "            res_list.append(True)\n",
    "            break\n",
    "    \n",
    "    return True in res_list"
   ]
  },
  {
   "cell_type": "code",
   "execution_count": null,
   "id": "de2ecf2f",
   "metadata": {},
   "outputs": [],
   "source": [
    "df[\"contains_positive_with_set\"] = df[\"speech\"].apply(lambda sentence: contains_positive(sentence, set_positives))"
   ]
  },
  {
   "cell_type": "code",
   "execution_count": null,
   "id": "fee240a0",
   "metadata": {},
   "outputs": [],
   "source": [
    "df[\"contains_positive_with_deklination_set\"] = df[\"speech\"].apply(lambda sentence: contains_positive(sentence, set_positives_with_deklination))"
   ]
  },
  {
   "cell_type": "code",
   "execution_count": null,
   "id": "1d83e254",
   "metadata": {},
   "outputs": [],
   "source": [
    "df[df[\"contains_positive_with_set\"]].shape[0]"
   ]
  },
  {
   "cell_type": "code",
   "execution_count": null,
   "id": "6178dc11",
   "metadata": {},
   "outputs": [],
   "source": [
    "df[df[\"contains_positive_with_set\"]].sample(200).to_csv(PATH_SAMPLE_FOLDER + \"sample_datadriven_positive.csv\")"
   ]
  },
  {
   "cell_type": "code",
   "execution_count": null,
   "id": "5a03b3a5",
   "metadata": {},
   "outputs": [],
   "source": [
    "df[df[\"contains_positive_with_deklination_set\"]].shape[0]"
   ]
  },
  {
   "cell_type": "code",
   "execution_count": null,
   "id": "b34faef2",
   "metadata": {},
   "outputs": [],
   "source": [
    "df[df[\"ADJA_ADJD_or\"] & ~df[\"ADJA.Sup_ADJD.Sup_or\"] & ~df[\"ADJA.Comp_ADJD.Comp_or\"]].shape[0]"
   ]
  },
  {
   "cell_type": "code",
   "execution_count": null,
   "id": "6c6eaa67",
   "metadata": {},
   "outputs": [],
   "source": [
    "df[(df[\"ADJA_ADJD_or\"] & ~df[\"ADJA.Sup_ADJD.Sup_or\"] & ~df[\"ADJA.Comp_ADJD.Comp_or\"]) | df[\"contains_positive_with_set\"]].shape[0]"
   ]
  },
  {
   "cell_type": "markdown",
   "id": "03bcea3e",
   "metadata": {},
   "source": [
    "### Trying additional methods for finding sentences containing comparative statements"
   ]
  },
  {
   "cell_type": "markdown",
   "id": "990fd7ff",
   "metadata": {},
   "source": [
    "Creating a set containing all the comparative forms from the dataset. A clean-up is performed so that special characters are removed from the set"
   ]
  },
  {
   "cell_type": "code",
   "execution_count": null,
   "id": "d72c226e",
   "metadata": {},
   "outputs": [],
   "source": [
    "set_comparative = set(df_adjectives[\"komparativ\"].to_list())\n",
    "\n",
    "words_to_remove = []\n",
    "\n",
    "for word in set_comparative:\n",
    "    if len(word) < 3:\n",
    "        words_to_remove.append(word)\n",
    "\n",
    "for word in words_to_remove:\n",
    "    set_comparative.remove(word)"
   ]
  },
  {
   "cell_type": "code",
   "execution_count": null,
   "id": "648d4498",
   "metadata": {},
   "outputs": [],
   "source": [
    "set_comparative_and_deklinations = add_deklination(set_comparative)"
   ]
  },
  {
   "cell_type": "code",
   "execution_count": null,
   "id": "37c5ad20",
   "metadata": {},
   "outputs": [],
   "source": [
    "len(set_comparative)"
   ]
  },
  {
   "cell_type": "code",
   "execution_count": null,
   "id": "98e65de2",
   "metadata": {},
   "outputs": [],
   "source": [
    "set_comparative_and_deklinations = set_comparative_and_deklinations.difference(adja_comp_set_of_words_to_ignore)"
   ]
  },
  {
   "cell_type": "code",
   "execution_count": null,
   "id": "2b04b37c",
   "metadata": {},
   "outputs": [],
   "source": [
    "len(set_comparative_and_deklinations)"
   ]
  },
  {
   "cell_type": "markdown",
   "id": "f260078b",
   "metadata": {},
   "source": [
    "Defining a function which is then used to return True if the text contains a comparative statement or False otherwise"
   ]
  },
  {
   "cell_type": "code",
   "execution_count": null,
   "id": "7c7678ef",
   "metadata": {},
   "outputs": [],
   "source": [
    "def contains_comparative(sentence, comparative_words = None, execute_set_based_approach=False):\n",
    "    \n",
    "    res_list = []\n",
    "    \n",
    "    # First case: so ... wie\n",
    "    res_case_1 = re.search('(So|so) [a-zäöüß ]* wie',sentence)\n",
    "    res_list.append(bool(res_case_1))\n",
    "    \n",
    "    # Second case: nicht so ... wie\n",
    "    res_case_2 = re.search('(Nicht|nicht) so [a-zäöüß ]* wie',sentence)\n",
    "    res_list.append(bool(res_case_2))\n",
    "    \n",
    "    # Third case: immer ...\n",
    "    res_case_3 = re.search('(Immer|immer) [a-zäöüß]{2,60}er',sentence)\n",
    "    \n",
    "    if bool(res_case_3) and comparative_words is not None:\n",
    "        res_case_3_improved = res_case_3.group(0).split(\" \")[1] in comparative_words\n",
    "        res_list.append(res_case_3_improved)\n",
    "    else:\n",
    "        res_list.append(bool(res_case_3))\n",
    "    \n",
    "    # Fourth case: als\n",
    "    res_case_4 = re.search('[A-ZÄÖÜßa-zäöüß]+er als [a-zäöüß]+',sentence)\n",
    "    \n",
    "    if bool(res_case_4) and comparative_words is not None:\n",
    "        res_case_4_improved = res_case_4.group(0).split(\" \")[0] in comparative_words\n",
    "        res_list.append(res_case_4_improved)\n",
    "    else:\n",
    "        res_list.append(bool(res_case_4))\n",
    "    \n",
    "    # Fifth case: je ... desto or je ... umso\n",
    "    res_case_5 = re.search('(Je|je) [a-zäöüß ,]+(desto|umso)',sentence)\n",
    "    res_list.append(bool(res_case_5))\n",
    "    \n",
    "    # Sixth case: text contains any word that is specified in the set of comparative words\n",
    "    # optional, as the set of comparative words is an optional parameter\n",
    "    if comparative_words is not None and execute_set_based_approach:\n",
    "        words = nltk.tokenize.word_tokenize(sentence,language='german')\n",
    "        \n",
    "        for word in words:\n",
    "            if word in comparative_words:\n",
    "                res_list.append(True)\n",
    "                break\n",
    "    \n",
    "    \n",
    "    return True in res_list\n",
    "\n",
    "def contains_comparative_set_only(sentence, comparative_words):\n",
    "    res_list = []\n",
    "    \n",
    "    words = nltk.tokenize.word_tokenize(sentence,language='german')\n",
    "        \n",
    "    for word in words:\n",
    "        if word in comparative_words:\n",
    "            res_list.append(True)\n",
    "            break\n",
    "    return True in res_list"
   ]
  },
  {
   "cell_type": "markdown",
   "id": "7e1226b9",
   "metadata": {},
   "source": [
    "Applying the function defined above to our dataframe. Once without the set of comparative adjectives and once including the set "
   ]
  },
  {
   "cell_type": "code",
   "execution_count": null,
   "id": "976d33be",
   "metadata": {},
   "outputs": [],
   "source": [
    "df[\"comparative_set_only\"] = df[\"speech\"].apply(lambda row: contains_comparative_set_only(row, set_comparative))"
   ]
  },
  {
   "cell_type": "code",
   "execution_count": null,
   "id": "545c9805",
   "metadata": {},
   "outputs": [],
   "source": [
    "df[df[\"comparative_set_only\"]].shape[0]"
   ]
  },
  {
   "cell_type": "code",
   "execution_count": null,
   "id": "43014fb8",
   "metadata": {},
   "outputs": [],
   "source": [
    "df[df[\"comparative_set_only\"]].sample(200).to_csv(PATH_SAMPLE_FOLDER+\"sample_datadriven_comp.csv\")"
   ]
  },
  {
   "cell_type": "code",
   "execution_count": null,
   "id": "a1af9085",
   "metadata": {},
   "outputs": [],
   "source": [
    "df[\"contains_comparative\"] = df[\"speech\"].apply(lambda row: contains_comparative(row))"
   ]
  },
  {
   "cell_type": "code",
   "execution_count": null,
   "id": "1061f12b",
   "metadata": {},
   "outputs": [],
   "source": [
    "df[\"contains_comparative_with_set\"] = df[\"speech\"].apply(lambda row: contains_comparative(row,set_comparative))"
   ]
  },
  {
   "cell_type": "code",
   "execution_count": null,
   "id": "378dbcf4",
   "metadata": {},
   "outputs": [],
   "source": [
    "df[\"contains_comparative_with_deklination_set\"] = df[\"speech\"].apply(lambda row: contains_comparative(row,set_comparative_and_deklinations))"
   ]
  },
  {
   "cell_type": "code",
   "execution_count": null,
   "id": "77112121",
   "metadata": {},
   "outputs": [],
   "source": [
    "df[\"contains_comparative_new_no_set\"] = df[\"speech\"].apply(lambda row: contains_comparative(row))"
   ]
  },
  {
   "cell_type": "code",
   "execution_count": null,
   "id": "19a5f87f",
   "metadata": {},
   "outputs": [],
   "source": [
    "df[\"contains_comparative_new_with_set\"] = df[\"speech\"].apply(lambda row: contains_comparative(row,set_comparative))"
   ]
  },
  {
   "cell_type": "code",
   "execution_count": null,
   "id": "5fd9b81d",
   "metadata": {},
   "outputs": [],
   "source": [
    "df[\"contains_comparative_new_with_declension_set\"] = df[\"speech\"].apply(lambda row: contains_comparative(row,set_comparative_and_deklinations))"
   ]
  },
  {
   "cell_type": "code",
   "execution_count": null,
   "id": "d318c7ca",
   "metadata": {},
   "outputs": [],
   "source": [
    "df[\"contains_comparative_new_with_declension_set_and_approach\"] = df[\"speech\"].apply(lambda row: contains_comparative(row,set_comparative_and_deklinations,True))"
   ]
  },
  {
   "cell_type": "code",
   "execution_count": null,
   "id": "ddd84f89",
   "metadata": {
    "scrolled": true
   },
   "outputs": [],
   "source": [
    "df[df[\"contains_comparative\"]].shape[0]"
   ]
  },
  {
   "cell_type": "code",
   "execution_count": null,
   "id": "4dd2f8e8",
   "metadata": {},
   "outputs": [],
   "source": [
    "df[df[\"contains_comparative\"]].sample(200).to_csv(PATH_SAMPLE_FOLDER + \"sample_rule_comp.csv\")"
   ]
  },
  {
   "cell_type": "code",
   "execution_count": null,
   "id": "9e6335b1",
   "metadata": {},
   "outputs": [],
   "source": [
    "df[df[\"contains_comparative_new_with_declension_set\"]].shape[0]"
   ]
  },
  {
   "cell_type": "code",
   "execution_count": null,
   "id": "5f93cec8",
   "metadata": {},
   "outputs": [],
   "source": [
    "df[df[\"contains_comparative_new_with_set\"]].shape[0]"
   ]
  },
  {
   "cell_type": "code",
   "execution_count": null,
   "id": "eac19c05",
   "metadata": {},
   "outputs": [],
   "source": [
    "df[df[\"contains_comparative_new_with_declension_set_and_approach\"]].shape[0]"
   ]
  },
  {
   "cell_type": "code",
   "execution_count": null,
   "id": "d357e6b3",
   "metadata": {},
   "outputs": [],
   "source": [
    "df[df[\"contains_comparative_new_with_declension_set\"] & df[\"ADJA.Comp_ADJD.Comp_or\"]].shape[0]"
   ]
  },
  {
   "cell_type": "code",
   "execution_count": null,
   "id": "90d8af9f",
   "metadata": {},
   "outputs": [],
   "source": [
    "df[df[\"contains_comparative\"]].iloc[26][\"speech\"]"
   ]
  },
  {
   "cell_type": "code",
   "execution_count": null,
   "id": "4958f246",
   "metadata": {},
   "outputs": [],
   "source": [
    "sentence = 'Auch in meiner Zeit als Finanzminister wurden öffentliche Informationen in Form von Zeitungsinseraten vorgenommen und auch immer wieder Studien beauftragt, vor allem um aktuelle Maßnahmen zu bewerten, internationale Vergleichbarkeit zu erzielen und Handlungsnotwendigkeiten abzuleiten. Alle Studien in meiner Amtszeit sind übrigens öffentlich einsehbar.'\n",
    "re.search('(Immer|immer) [a-zäöüß]{2,60}er',sentence).group(0).split(\" \")[1]"
   ]
  },
  {
   "cell_type": "code",
   "execution_count": null,
   "id": "b58d1e75",
   "metadata": {},
   "outputs": [],
   "source": [
    "sentence"
   ]
  },
  {
   "cell_type": "markdown",
   "id": "d769eca7",
   "metadata": {},
   "source": [
    "##### The different methods are compared per amount of statements marked by each method"
   ]
  },
  {
   "cell_type": "markdown",
   "id": "53a6c8b1",
   "metadata": {},
   "source": [
    "Amount of statements marked by tags"
   ]
  },
  {
   "cell_type": "code",
   "execution_count": null,
   "id": "e7724a7f",
   "metadata": {},
   "outputs": [],
   "source": [
    "df[df[\"ADJA.Comp_ADJD.Comp_or\"]].shape[0]"
   ]
  },
  {
   "cell_type": "markdown",
   "id": "99504d5a",
   "metadata": {},
   "source": [
    "Amount of statements marked using comparative rules without a set of comparative adjectives"
   ]
  },
  {
   "cell_type": "code",
   "execution_count": null,
   "id": "b5ca883b",
   "metadata": {},
   "outputs": [],
   "source": [
    "df[df[\"contains_comparative\"]].shape[0]"
   ]
  },
  {
   "cell_type": "markdown",
   "id": "e1e72efb",
   "metadata": {},
   "source": [
    "Amount of statements marked using comparative rules and the set of comparative statements"
   ]
  },
  {
   "cell_type": "code",
   "execution_count": null,
   "id": "eb5187ef",
   "metadata": {},
   "outputs": [],
   "source": [
    "df[df[\"contains_comparative_with_set\"]].shape[0]"
   ]
  },
  {
   "cell_type": "markdown",
   "id": "bf9db79e",
   "metadata": {},
   "source": [
    "Amount of statements marked using comparative rules and the set of comparative statements (with deklinations as well)"
   ]
  },
  {
   "cell_type": "code",
   "execution_count": null,
   "id": "88aedced",
   "metadata": {},
   "outputs": [],
   "source": [
    "df[df[\"contains_comparative_with_deklination_set\"]].shape[0]"
   ]
  },
  {
   "cell_type": "markdown",
   "id": "a463de10",
   "metadata": {},
   "source": [
    "Amount of statements which are marked by all three methods at the same time"
   ]
  },
  {
   "cell_type": "code",
   "execution_count": null,
   "id": "684d2330",
   "metadata": {},
   "outputs": [],
   "source": [
    "df[df[\"ADJA.Comp_ADJD.Comp_or\"] & \n",
    "   df[\"contains_comparative\"] & \n",
    "   df[\"contains_comparative_with_set\"]\n",
    "].shape[0]"
   ]
  },
  {
   "cell_type": "markdown",
   "id": "68fb8980",
   "metadata": {},
   "source": [
    "Amount of statements which are marked by at least one of the three methods"
   ]
  },
  {
   "cell_type": "code",
   "execution_count": null,
   "id": "57ecedcc",
   "metadata": {},
   "outputs": [],
   "source": [
    "df[df[\"ADJA.Comp_ADJD.Comp_or\"] | \n",
    "   df[\"contains_comparative\"] | \n",
    "   df[\"contains_comparative_with_set\"]\n",
    "].shape[0]"
   ]
  },
  {
   "cell_type": "code",
   "execution_count": null,
   "id": "81349a7f",
   "metadata": {},
   "outputs": [],
   "source": [
    "df[df[\"ADJA.Comp_ADJD.Comp_or\"] | \n",
    "   df[\"contains_comparative\"] | \n",
    "   df[\"contains_comparative_with_set\"] |\n",
    "   df[\"contains_comparative_with_deklination_set\"]\n",
    "].shape[0]"
   ]
  },
  {
   "cell_type": "code",
   "execution_count": null,
   "id": "6f70e5ed",
   "metadata": {},
   "outputs": [],
   "source": [
    "df[df[\"ADJA.Comp_ADJD.Comp_or\"] & \n",
    "   df[\"contains_comparative_with_deklination_set\"]\n",
    "].shape[0]"
   ]
  },
  {
   "cell_type": "code",
   "execution_count": null,
   "id": "cd0afaf7",
   "metadata": {},
   "outputs": [],
   "source": [
    "df[df[\"ADJA.Comp_ADJD.Comp_or\"] | \n",
    "   df[\"contains_comparative_with_set\"]\n",
    "].shape[0]"
   ]
  },
  {
   "cell_type": "code",
   "execution_count": null,
   "id": "fd5bf80d",
   "metadata": {},
   "outputs": [],
   "source": [
    "df[df[\"ADJA.Comp_ADJD.Comp_or\"]].shape[0]"
   ]
  },
  {
   "cell_type": "markdown",
   "id": "874f9b8c",
   "metadata": {},
   "source": [
    "#### Trying additional methods for finding sentences containing superlative statements"
   ]
  },
  {
   "cell_type": "markdown",
   "id": "eef0aa07",
   "metadata": {},
   "source": [
    "In this first method a simple regular expression is used to detect the patterns \"am ....sten\" and \"am ....ßten\", examples are \"am besten\", \"am höchsten\" or \"am größten\""
   ]
  },
  {
   "cell_type": "code",
   "execution_count": null,
   "id": "6a939f72",
   "metadata": {},
   "outputs": [],
   "source": [
    "def contains_superlative(sentence):\n",
    "    res = re.search('am [a-zäöüß]+(s|ß)ten',sentence)\n",
    "    \n",
    "    return bool(res)"
   ]
  },
  {
   "cell_type": "code",
   "execution_count": null,
   "id": "54f7c130",
   "metadata": {},
   "outputs": [],
   "source": [
    "df[\"contains_superlative\"] = df[\"speech\"].apply(lambda row: contains_superlative(row))"
   ]
  },
  {
   "cell_type": "code",
   "execution_count": null,
   "id": "31faf82f",
   "metadata": {},
   "outputs": [],
   "source": [
    "df[df[\"ADJA.Sup_ADJD.Sup_or\"]].shape[0]"
   ]
  },
  {
   "cell_type": "markdown",
   "id": "dd5d40ff",
   "metadata": {},
   "source": [
    "Here we can see, that the amount of detected superlatives using the simple regular expression method alone leads to less than a tenth of cases that we had with the tagging method (477 vs 5259)"
   ]
  },
  {
   "cell_type": "code",
   "execution_count": null,
   "id": "d6fa386c",
   "metadata": {},
   "outputs": [],
   "source": [
    "df[df[\"contains_superlative\"]].shape[0]"
   ]
  },
  {
   "cell_type": "code",
   "execution_count": null,
   "id": "ca8c7444",
   "metadata": {},
   "outputs": [],
   "source": [
    "df[df[\"contains_superlative\"]].sample(200).to_csv(PATH_SAMPLE_FOLDER+\"sample_rule_sup.csv\")"
   ]
  },
  {
   "cell_type": "markdown",
   "id": "c872d494",
   "metadata": {},
   "source": [
    "Only 383 statements contain superlatives if both methods (regular expression and tagging) need to detect a superlative for it to count"
   ]
  },
  {
   "cell_type": "code",
   "execution_count": null,
   "id": "659c61bf",
   "metadata": {},
   "outputs": [],
   "source": [
    "df[df[\"contains_superlative\"] | \n",
    "   df[\"ADJA.Sup_ADJD.Sup_or\"]\n",
    "].shape[0]"
   ]
  },
  {
   "cell_type": "code",
   "execution_count": null,
   "id": "12123bc8",
   "metadata": {},
   "outputs": [],
   "source": [
    "df[~df[\"contains_superlative\"] & \n",
    "   df[\"ADJA.Sup_ADJD.Sup_or\"]\n",
    "].shape[0]"
   ]
  },
  {
   "cell_type": "markdown",
   "id": "ee3152da",
   "metadata": {},
   "source": [
    "The next section is dedicated to finding the words that are most commonly tagged as a superlative. This is helpful as it might show cases that lead to wrong classifications, for example 'nächste', which might be date-related in many cases and therefore should not lead to the statement being classified as an opinionated statement with a superlative"
   ]
  },
  {
   "cell_type": "code",
   "execution_count": null,
   "id": "a47c1683",
   "metadata": {},
   "outputs": [],
   "source": [
    "def find_desired_words(sentence, tag):\n",
    "    words = sentence.split(\" \")\n",
    "    res = []\n",
    "    \n",
    "    for word in words:\n",
    "        if tag in word:\n",
    "            res.append(word.split(\"\\t\")[0])\n",
    "    \n",
    "    return res"
   ]
  },
  {
   "cell_type": "code",
   "execution_count": null,
   "id": "a8f167b5",
   "metadata": {},
   "outputs": [],
   "source": [
    "test_df = df[~df[\"contains_superlative\"] & \n",
    "   df[\"ADJA.Sup_ADJD.Sup_or\"]\n",
    "][\"tagged\"]"
   ]
  },
  {
   "cell_type": "code",
   "execution_count": null,
   "id": "0f721781",
   "metadata": {},
   "outputs": [],
   "source": [
    "all_res = []\n",
    "\n",
    "for elem in test_df.values:\n",
    "    res = find_desired_words(elem,\"ADJA.Sup\")\n",
    "    all_res.append(res)\n",
    "\n",
    "for elem in test_df.values:\n",
    "    res = find_desired_words(elem,\"ADJD.Sup\")\n",
    "    all_res.append(res)"
   ]
  },
  {
   "cell_type": "code",
   "execution_count": null,
   "id": "051fdaa6",
   "metadata": {},
   "outputs": [],
   "source": [
    "res_dict = {}\n",
    "\n",
    "for res in all_res:\n",
    "    for word in res:\n",
    "        if word not in res_dict.keys():\n",
    "            res_dict[word] = 1\n",
    "        else:\n",
    "            res_dict[word] = res_dict[word] + 1"
   ]
  },
  {
   "cell_type": "markdown",
   "id": "4ae48393",
   "metadata": {},
   "source": [
    "The following line of code creates a sorted (descending order) dictionary where the keys are sorted according to the values. The result is used to get a list of the most common superlatives which are found using the tagging method "
   ]
  },
  {
   "cell_type": "code",
   "execution_count": null,
   "id": "1f8115f2",
   "metadata": {},
   "outputs": [],
   "source": [
    "sorted_d = dict( sorted(res_dict.items(), key=operator.itemgetter(1),reverse=True))"
   ]
  },
  {
   "cell_type": "code",
   "execution_count": null,
   "id": "e3b41f7e",
   "metadata": {
    "scrolled": true
   },
   "outputs": [],
   "source": [
    "list(sorted_d.keys())[0:10]"
   ]
  },
  {
   "cell_type": "code",
   "execution_count": null,
   "id": "fdceec91",
   "metadata": {},
   "outputs": [],
   "source": [
    "test_df_2 = df[~df[\"contains_superlative\"] & \n",
    "   df[\"ADJA.Sup_ADJD.Sup_or\"]\n",
    "][\"speech\"]"
   ]
  },
  {
   "cell_type": "code",
   "execution_count": null,
   "id": "984ee4d2",
   "metadata": {},
   "outputs": [],
   "source": [
    "count = 0\n",
    "for value in test_df_2.values:\n",
    "\n",
    "    if \"der größten\" in value:\n",
    "        count += 1\n",
    "count"
   ]
  },
  {
   "cell_type": "code",
   "execution_count": null,
   "id": "8466f5d4",
   "metadata": {},
   "outputs": [],
   "source": [
    "naechsten_ind = test_df_2.apply(lambda row: \"nächsten\" in row)"
   ]
  },
  {
   "cell_type": "code",
   "execution_count": null,
   "id": "2f48b302",
   "metadata": {},
   "outputs": [],
   "source": [
    "test_df_2[naechsten_ind]"
   ]
  },
  {
   "cell_type": "code",
   "execution_count": null,
   "id": "f70a0cb4",
   "metadata": {},
   "outputs": [],
   "source": [
    "df.loc[19][\"ADJA_ADJD_or\"]"
   ]
  },
  {
   "cell_type": "markdown",
   "id": "a6579358",
   "metadata": {},
   "source": [
    "In the next block the following steps are implemented:\n",
    "\n",
    "* Create a set of superlative words that should be ignored, for example 'nächste'\n",
    "* Find statements where at least one of the tagged superlatives is not part of the set of words that should be ignored"
   ]
  },
  {
   "cell_type": "code",
   "execution_count": null,
   "id": "601611aa",
   "metadata": {},
   "outputs": [],
   "source": [
    "superlatives_to_ignore = set([\n",
    "'nendsten',\n",
    "'herumzutesten',\n",
    "'freitesten',\n",
    "'dritthöchste',\n",
    "'übernächsten',\n",
    "'übernächstes',\n",
    "'nächster',\n",
    "'nächstes',\n",
    "'nächste',\n",
    "'nächsten',\n",
    "'Nächstes',\n",
    "'Nächste',\n",
    "'Obersten',\n",
    "'Oberstes',\n",
    "'Nächster',\n",
    "'Oberste',\n",
    "'Letztes',\n",
    "'Allerehrenwerteste',\n",
    "'Hochgeschätzter',\n",
    "'Wertgeschätzter',\n",
    "'Liebsten',\n",
    "'Bedarfsorientierten',\n",
    "'Ex-Innenminister',\n",
    "'Gespielte'\n",
    "])"
   ]
  },
  {
   "cell_type": "markdown",
   "id": "7b9fbb7d",
   "metadata": {},
   "source": [
    "Definition of two regular expressions which are used to find the tagged superlatives in the tagged texts."
   ]
  },
  {
   "cell_type": "code",
   "execution_count": null,
   "id": "1e8063bc",
   "metadata": {},
   "outputs": [],
   "source": [
    "# (ADJA|ADJD) did not work in python but worked on regexr.com\n",
    "regx_adja = r'[A-Za-zÖÄÜßöäü]{2,100}\\tADJA.Sup[.A-Za-z]*'\n",
    "regx_adjd = r'[A-Za-zÖÄÜßöäü]{2,100}\\tADJD.Sup[.A-Za-z]*'"
   ]
  },
  {
   "cell_type": "code",
   "execution_count": null,
   "id": "b1031722",
   "metadata": {},
   "outputs": [],
   "source": [
    "regx_list = [regx_adja, regx_adjd]"
   ]
  },
  {
   "cell_type": "code",
   "execution_count": null,
   "id": "a0883773",
   "metadata": {},
   "outputs": [],
   "source": [
    "def all_tagged_superlatives_should_be_ignored(text, regx_list, ignore_set):\n",
    "    all_tagged = get_all_tagged_superlatives(text, regx_list)\n",
    "    \n",
    "    res = []\n",
    "    \n",
    "    for tagged in all_tagged:\n",
    "        word = tagged.split(\"\\t\")[0]\n",
    "        \n",
    "        if word in ignore_set:\n",
    "            res.append(True)\n",
    "        else:\n",
    "            res.append(False)\n",
    "    \n",
    "    # all values must be true to return true\n",
    "    # returns true if list is empty, which is useful in this case\n",
    "    return all(res)\n",
    "\n",
    "def get_all_tagged_superlatives(text, regx_list):\n",
    "    res = []\n",
    "    \n",
    "    for regx in regx_list:\n",
    "        res.extend(re.findall(regx, text))\n",
    "    \n",
    "    return res"
   ]
  },
  {
   "cell_type": "code",
   "execution_count": null,
   "id": "d59da7cc",
   "metadata": {},
   "outputs": [],
   "source": [
    "df[\"has_no_real_superlative\"] = df[\"tagged\"].apply(lambda text: all_tagged_superlatives_should_be_ignored(text, regx_list, superlatives_to_ignore))"
   ]
  },
  {
   "cell_type": "code",
   "execution_count": null,
   "id": "bfb234d8",
   "metadata": {},
   "outputs": [],
   "source": [
    "df[~df[\"has_no_real_superlative\"]]"
   ]
  },
  {
   "cell_type": "markdown",
   "id": "2e01835b",
   "metadata": {},
   "source": [
    "Make use of the superlatives from the wiktionary dataset"
   ]
  },
  {
   "cell_type": "code",
   "execution_count": null,
   "id": "eddba692",
   "metadata": {},
   "outputs": [],
   "source": [
    "set_superlative = set(df_adjectives[\"superlativ\"].to_list())"
   ]
  },
  {
   "cell_type": "code",
   "execution_count": null,
   "id": "e795f0b0",
   "metadata": {},
   "outputs": [],
   "source": [
    "def clean_superlatives(input_set):\n",
    "    list_superlatives = list(input_set)\n",
    "    \n",
    "    # remove nan\n",
    "    cleaned_list = [x for x in list_superlatives if str(x) != 'nan']\n",
    "    \n",
    "    # regex to find entries with two superlatives at once\n",
    "    # this is the case if there are multiple forms\n",
    "    r = re.compile(\"am [A-Za-zöäßüÖÄÜ]+[ A-Za-zöäüßÖÄÜ]*am [A-Za-zöäüßÖÄÜ]+\")\n",
    "\n",
    "    index = 0\n",
    "    \n",
    "    # used for special case\n",
    "    faulty_index = 0\n",
    "    \n",
    "    while index < len(cleaned_list):\n",
    "        \n",
    "        current_elem = cleaned_list[index]\n",
    "        \n",
    "        if bool(r.match(current_elem)):\n",
    "            cleaned_list[index] = \"am \" + current_elem.split(\"am \")[1]\n",
    "        # special case\n",
    "        elif current_elem == \"am allerliebsten allerliebst\":\n",
    "            cleaned_list[index] = \"am allerliebsten\"\n",
    "        # special case\n",
    "        elif current_elem == \"most stupid stupidest\":\n",
    "            faulty_index = index\n",
    "            \n",
    "        index += 1\n",
    "        \n",
    "    del cleaned_list[faulty_index]\n",
    "    \n",
    "    return cleaned_list"
   ]
  },
  {
   "cell_type": "code",
   "execution_count": null,
   "id": "f22fbee7",
   "metadata": {},
   "outputs": [],
   "source": [
    "cleaned_superlatives = clean_superlatives(set_superlative)"
   ]
  },
  {
   "cell_type": "code",
   "execution_count": null,
   "id": "899056c7",
   "metadata": {},
   "outputs": [],
   "source": [
    "len(cleaned_superlatives)"
   ]
  },
  {
   "cell_type": "code",
   "execution_count": null,
   "id": "6e417856",
   "metadata": {},
   "outputs": [],
   "source": [
    "[x for x in cleaned_superlatives if not x.startswith(\"am\")]"
   ]
  },
  {
   "cell_type": "code",
   "execution_count": null,
   "id": "9ab8e28a",
   "metadata": {},
   "outputs": [],
   "source": [
    "[x for x in superlatives_without_am if len(x) == 1]"
   ]
  },
  {
   "cell_type": "markdown",
   "id": "a4372b1d",
   "metadata": {},
   "source": [
    "The following approach removes the 'am' from all the superlatives to simplify the computational effort and to get additional results when looking for these superlatives in the texts.\n",
    "\n",
    "It simplifies the computation because we only need to split the text into words and then check whether they are in the set of superlatives without 'am' at the beginning. This would not be possible if the string would have a structure like 'am besten' as there would be a whitespace in the string, the logic for splitting the text into words would not consider this. Therefore we would need a solution with multiple loops, which would be way more inefficient."
   ]
  },
  {
   "cell_type": "code",
   "execution_count": null,
   "id": "3b2240c1",
   "metadata": {},
   "outputs": [],
   "source": [
    "superlatives_without_am = []\n",
    "\n",
    "for elem in cleaned_superlatives:\n",
    "    if elem.startswith(\"am\"):\n",
    "        superlatives_without_am.append(elem.split(\" \",1)[1])\n",
    "    else:\n",
    "        superlatives_without_am.append(elem)"
   ]
  },
  {
   "cell_type": "markdown",
   "id": "e10d3817",
   "metadata": {},
   "source": [
    "There are some additional superlatives with whitespace in them (which did not have 'am' at the beginning) - These will be removed using the list below"
   ]
  },
  {
   "cell_type": "code",
   "execution_count": null,
   "id": "c2d908cc",
   "metadata": {},
   "outputs": [],
   "source": [
    "to_remove = [x for x in superlatives_without_am if len(x.split(\" \")) > 1]"
   ]
  },
  {
   "cell_type": "markdown",
   "id": "bada82dd",
   "metadata": {},
   "source": [
    "In this block all the superlatives that we want to ignore are removed from the previously created list"
   ]
  },
  {
   "cell_type": "code",
   "execution_count": null,
   "id": "b0290ec8",
   "metadata": {},
   "outputs": [],
   "source": [
    "for elem in superlatives_without_am:\n",
    "    if elem in to_remove or elem in superlatives_to_ignore or len(elem) == 1:\n",
    "        superlatives_without_am.remove(elem)\n",
    "    "
   ]
  },
  {
   "cell_type": "markdown",
   "id": "41c0e889",
   "metadata": {},
   "source": [
    "The final set which is used for the search of superlatives in the texts"
   ]
  },
  {
   "cell_type": "code",
   "execution_count": null,
   "id": "2b0eede6",
   "metadata": {},
   "outputs": [],
   "source": [
    "superlatives_without_am = set(superlatives_without_am)"
   ]
  },
  {
   "cell_type": "code",
   "execution_count": null,
   "id": "d7007182",
   "metadata": {},
   "outputs": [],
   "source": [
    "def contains_superlative_word(sentence, superlatives_without_am):\n",
    "\n",
    "    words = nltk.tokenize.word_tokenize(sentence,language='german')\n",
    "    res_list = []\n",
    "    \n",
    "    for word in words:\n",
    "        if word in superlatives_without_am:\n",
    "            res_list.append(True)\n",
    "            break\n",
    "    \n",
    "    return any(res_list)"
   ]
  },
  {
   "cell_type": "code",
   "execution_count": null,
   "id": "3bfd9058",
   "metadata": {},
   "outputs": [],
   "source": [
    "df[\"has_superlative_word\"] = df[\"speech\"].apply(lambda sentence: contains_superlative_word(sentence, superlatives_without_am))"
   ]
  },
  {
   "cell_type": "code",
   "execution_count": null,
   "id": "7a5c385a",
   "metadata": {},
   "outputs": [],
   "source": [
    "len(superlatives_without_am)"
   ]
  },
  {
   "cell_type": "markdown",
   "id": "8a08600f",
   "metadata": {},
   "source": [
    "At the beginning there were around 3.700 cases, after the removal of the words that were defined as 'superlatives to ignore' only around 2.600 cases were left. After some final dataset clean-up (removal of '-') 1973 cases with superlatives were found using this method "
   ]
  },
  {
   "cell_type": "code",
   "execution_count": null,
   "id": "d336467e",
   "metadata": {},
   "outputs": [],
   "source": [
    "df[df[\"has_superlative_word\"]].sample(200).to_csv(PATH_SAMPLE_FOLDER+\"sample_datadriven_sup.csv\")"
   ]
  },
  {
   "cell_type": "code",
   "execution_count": null,
   "id": "f26290d9",
   "metadata": {},
   "outputs": [],
   "source": [
    "df[df[\"has_superlative_word\"] | df[\"ADJA.Sup_ADJD.Sup_or\"]].shape[0]"
   ]
  },
  {
   "cell_type": "code",
   "execution_count": null,
   "id": "349fd514",
   "metadata": {},
   "outputs": [],
   "source": [
    "df.columns"
   ]
  },
  {
   "cell_type": "markdown",
   "id": "67308357",
   "metadata": {},
   "source": [
    "### Evaluation"
   ]
  },
  {
   "cell_type": "code",
   "execution_count": null,
   "id": "7dba93b7",
   "metadata": {},
   "outputs": [],
   "source": [
    "#df[\"ADJA_SUP_LEN\"] = df[df[\"ADJA.Sup_ADJD.Sup_or\"]][\"speech\"].apply(lambda text: len(text))"
   ]
  },
  {
   "cell_type": "code",
   "execution_count": null,
   "id": "e07337e4",
   "metadata": {},
   "outputs": [],
   "source": [
    "sup_index = df[df[\"ADJA.Sup_ADJD.Sup_or\"]].sample(50).index"
   ]
  },
  {
   "cell_type": "code",
   "execution_count": null,
   "id": "4b20e2de",
   "metadata": {},
   "outputs": [],
   "source": [
    "df.iloc[sup_index][[\"speech\",\"ADJA.Sup_ADJD.Sup_or\"]].to_csv(\"sup_eval_data.csv\",sep=\";\",quoting=csv.QUOTE_ALL,index=False)"
   ]
  },
  {
   "cell_type": "code",
   "execution_count": null,
   "id": "c27ed6ee",
   "metadata": {},
   "outputs": [],
   "source": [
    "df_unique_speakers = pd.Series(df[\"speaker\"].unique()).to_frame()\n",
    "df_unique_speakers.columns = [\"speaker\"]\n",
    "df_unique_speakers.to_csv(\"speakers.csv\", index=False)"
   ]
  }
 ],
 "metadata": {
  "kernelspec": {
   "display_name": "Python 3 (ipykernel)",
   "language": "python",
   "name": "python3"
  },
  "language_info": {
   "codemirror_mode": {
    "name": "ipython",
    "version": 3
   },
   "file_extension": ".py",
   "mimetype": "text/x-python",
   "name": "python",
   "nbconvert_exporter": "python",
   "pygments_lexer": "ipython3",
   "version": "3.8.13"
  }
 },
 "nbformat": 4,
 "nbformat_minor": 5
}
