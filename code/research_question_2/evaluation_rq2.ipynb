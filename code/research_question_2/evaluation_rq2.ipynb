{
 "cells": [
  {
   "cell_type": "code",
   "execution_count": null,
   "id": "a59bf7ba",
   "metadata": {},
   "outputs": [],
   "source": [
    "import pandas as pd\n",
    "import numpy as np\n",
    "import matplotlib.pyplot as plt\n",
    "import matplotlib.colors as mcolors\n",
    "import re"
   ]
  },
  {
   "cell_type": "markdown",
   "id": "3e902031",
   "metadata": {},
   "source": [
    "### Preparation"
   ]
  },
  {
   "cell_type": "markdown",
   "id": "6f5c59fb",
   "metadata": {},
   "source": [
    "#### Define the paths that are used throughout the notebook"
   ]
  },
  {
   "cell_type": "code",
   "execution_count": null,
   "id": "54e0b577",
   "metadata": {},
   "outputs": [],
   "source": [
    "PDF_FOLDER_CHOSEN = '../../plots/research_question_2/'\n",
    "DATA_FOLDER = \"../../data/research_question_2/thesis/\"\n",
    "PROTOCOL_FOLDER = \"../../data/protocol_obtainment/\""
   ]
  },
  {
   "cell_type": "code",
   "execution_count": null,
   "id": "56c78737",
   "metadata": {},
   "outputs": [],
   "source": [
    "DATA_POS = DATA_FOLDER + \"samples_pos_done.csv\"\n",
    "DATA_COMP = DATA_FOLDER + \"samples_pos_comp_done.csv\"\n",
    "DATA_SUP = DATA_FOLDER + \"samples_pos_sup_done.csv\"\n",
    "\n",
    "DATA_POS_D = DATA_FOLDER + \"sample_datadriven_positive_done.csv\"\n",
    "DATA_COMP_D = DATA_FOLDER + \"sample_datadriven_comp_done.csv\"\n",
    "DATA_SUP_D = DATA_FOLDER + \"samples_datadriven_sup_done.csv\"\n",
    "\n",
    "DATA_COMP_R = DATA_FOLDER + \"sample_rule_comp_done.csv\"\n",
    "DATA_SUP_R = DATA_FOLDER + \"sample_rule_sup_done.csv\"\n",
    "\n",
    "DATA_ADJECTIVES = DATA_FOLDER + \"german_adjectives.csv\"\n",
    "\n",
    "DATA_ALL = PROTOCOL_FOLDER + \"political_statements_thesis.csv\""
   ]
  },
  {
   "cell_type": "markdown",
   "id": "e61fa39c",
   "metadata": {},
   "source": [
    "#### Define the colors for the charts"
   ]
  },
  {
   "cell_type": "code",
   "execution_count": null,
   "id": "54a26835",
   "metadata": {},
   "outputs": [],
   "source": [
    "HEX_COLORS = ['#000000','#E69F00','#56B4E9','#009E73','#F0E442','#0072B2','#D55E00','#CC79A7']\n",
    "RGB_COLORS = [mcolors.hex2color(hex_color) for hex_color in HEX_COLORS]\n",
    "\n",
    "BAR_CHART_COLOR = RGB_COLORS[2]\n",
    "BAR_CHART_ORANGE = RGB_COLORS[1]"
   ]
  },
  {
   "cell_type": "markdown",
   "id": "81f5a278",
   "metadata": {},
   "source": [
    "#### Read the datasets"
   ]
  },
  {
   "cell_type": "code",
   "execution_count": null,
   "id": "0afc24dc",
   "metadata": {},
   "outputs": [],
   "source": [
    "df_pos = pd.read_csv(DATA_POS)\n",
    "df_comp = pd.read_csv(DATA_COMP)\n",
    "df_sup = pd.read_csv(DATA_SUP)\n",
    "\n",
    "df_pos_d = pd.read_csv(DATA_POS_D)\n",
    "df_comp_d = pd.read_csv(DATA_COMP_D)\n",
    "df_sup_d = pd.read_csv(DATA_SUP_D)\n",
    "\n",
    "df_comp_r = pd.read_csv(DATA_COMP_R)\n",
    "df_sup_r = pd.read_csv(DATA_SUP_R)\n",
    "\n",
    "df_adjectives = pd.read_csv(DATA_ADJECTIVES)\n",
    "\n",
    "df_all = pd.read_csv(DATA_ALL)"
   ]
  },
  {
   "cell_type": "markdown",
   "id": "27df215b",
   "metadata": {},
   "source": [
    "### Preprocessing"
   ]
  },
  {
   "cell_type": "markdown",
   "id": "8895ddc9",
   "metadata": {},
   "source": [
    "#### Labels"
   ]
  },
  {
   "cell_type": "code",
   "execution_count": null,
   "id": "ee8ba6d4",
   "metadata": {},
   "outputs": [],
   "source": [
    "def rename_labels(label):\n",
    "    \n",
    "    set_nonop = {\"Non Opinionated\", \"Non opinionated\", \"Non-Opinionated\", \"Non Oppinionated\"}\n",
    "    set_op = {\"Oppinionated\", \"Opinionated\"}\n",
    "    \n",
    "    if label in set_op:\n",
    "        return \"Opinionated\"\n",
    "    elif label in set_nonop:\n",
    "        return \"Non Opinionated\"\n",
    "    else:\n",
    "        print(label)\n",
    "        raise ValueError('A very specific bad thing happened')"
   ]
  },
  {
   "cell_type": "code",
   "execution_count": null,
   "id": "2b7713ee",
   "metadata": {},
   "outputs": [],
   "source": [
    "df_comp[\"label\"] = df_comp[\"label\"].fillna(\"Non Opinionated\")\n",
    "\n",
    "df_pos[\"label\"] = df_pos[\"label\"].apply(lambda x: rename_labels(x))\n",
    "df_comp[\"label\"] = df_comp[\"label\"].apply(lambda x: rename_labels(x))\n",
    "df_comp_d[\"label\"] = df_comp_d[\"label\"].apply(lambda x: rename_labels(x))"
   ]
  },
  {
   "cell_type": "markdown",
   "id": "07387a4b",
   "metadata": {},
   "source": [
    "#### Adjectives"
   ]
  },
  {
   "cell_type": "code",
   "execution_count": null,
   "id": "9a73911f",
   "metadata": {},
   "outputs": [],
   "source": [
    "def replace_word_if_shorter_than_n(word, n, replacement):\n",
    "    if len(word) < n:\n",
    "        return replacement\n",
    "    else:\n",
    "        return word"
   ]
  },
  {
   "cell_type": "markdown",
   "id": "fb09cc3f",
   "metadata": {},
   "source": [
    "Replace special characters like - and -_ with a certain word. It should be a word of the category as we are creating a set of these words afterwards"
   ]
  },
  {
   "cell_type": "code",
   "execution_count": null,
   "id": "8fbb7685",
   "metadata": {},
   "outputs": [],
   "source": [
    "df_adjectives[\"positiv\"] = df_adjectives[\"positiv\"].apply(lambda x: replace_word_if_shorter_than_n(str(x), 2, \"in\"))\n",
    "\n",
    "df_adjectives[\"komparativ\"] = df_adjectives[\"komparativ\"].apply(lambda x: replace_word_if_shorter_than_n(str(x), 4, \"mehr\"))\n",
    "\n",
    "df_adjectives[\"superlativ\"] = df_adjectives[\"superlativ\"].apply(lambda x: replace_word_if_shorter_than_n(str(x), 4, \"stiefst\"))\n",
    "\n",
    "df_adjectives[\"superlativ\"] = df_adjectives[\"superlativ\"].fillna(\"stiefst\")"
   ]
  },
  {
   "cell_type": "markdown",
   "id": "e4af5d73",
   "metadata": {},
   "source": [
    "Create set of words for each of the three categories"
   ]
  },
  {
   "cell_type": "code",
   "execution_count": null,
   "id": "b3950744",
   "metadata": {},
   "outputs": [],
   "source": [
    "set_positive = set(df_adjectives[\"positiv\"])\n",
    "set_comparative = set(df_adjectives[\"komparativ\"])\n",
    "set_superlative = set(df_adjectives[\"superlativ\"])"
   ]
  },
  {
   "cell_type": "code",
   "execution_count": null,
   "id": "cab2cb3d",
   "metadata": {},
   "outputs": [],
   "source": [
    "set_superlative_preprocessed = set()\n",
    "\n",
    "for elem in set_superlative:\n",
    "    words = elem.split(\" \")\n",
    "    \n",
    "    if len(words) > 1:\n",
    "        set_superlative_preprocessed.add(elem.split(\" \")[1])\n",
    "    else:\n",
    "        set_superlative_preprocessed.add(words[0])\n",
    "\n",
    "set_superlative_preprocessed.remove('Gewinn')\n",
    "set_superlative_preprocessed.remove('kompliziert')"
   ]
  },
  {
   "cell_type": "markdown",
   "id": "e7f6fdd2",
   "metadata": {},
   "source": [
    "### Draw value counts plots"
   ]
  },
  {
   "cell_type": "markdown",
   "id": "0ec94dbd",
   "metadata": {},
   "source": [
    "#### Define function to draw value counts plot"
   ]
  },
  {
   "cell_type": "code",
   "execution_count": null,
   "id": "586bddf1",
   "metadata": {},
   "outputs": [],
   "source": [
    "def draw_value_counts_bar_chart(df, color, title, destination, filename):\n",
    "    value_counts = df[\"label\"].value_counts()\n",
    "    desired_order = ['Opinionated', 'Non Opinionated']\n",
    "\n",
    "    # Sort the value counts based on the desired order\n",
    "    value_counts = value_counts.loc[desired_order]\n",
    "    \n",
    "    plt.bar(value_counts.index, value_counts.values, color=color)\n",
    "    plt.xlabel('Categories')\n",
    "    plt.ylabel('Amount')\n",
    "    plt.title(title)\n",
    "    plt.tight_layout()\n",
    "    plt.savefig(destination + filename + '.pdf', format='pdf')"
   ]
  },
  {
   "cell_type": "markdown",
   "id": "cc0dd1f8",
   "metadata": {},
   "source": [
    "#### POS Tags"
   ]
  },
  {
   "cell_type": "code",
   "execution_count": null,
   "id": "adbbde85",
   "metadata": {
    "scrolled": true
   },
   "outputs": [],
   "source": [
    "draw_value_counts_bar_chart(df_pos, \n",
    "                            BAR_CHART_COLOR, \n",
    "                            \"Opinionated vs Non Opinionated Samples (Positive - POS)\", \n",
    "                            PDF_FOLDER_CHOSEN, \n",
    "                            \"pos_value_counts\")"
   ]
  },
  {
   "cell_type": "code",
   "execution_count": null,
   "id": "dea2bf4f",
   "metadata": {
    "scrolled": true
   },
   "outputs": [],
   "source": [
    "draw_value_counts_bar_chart(df_comp, \n",
    "                            BAR_CHART_COLOR, \n",
    "                            \"Opinionated vs Non Opinionated Samples (Comparative - POS)\", \n",
    "                            PDF_FOLDER_CHOSEN, \n",
    "                            \"comp_value_counts\")"
   ]
  },
  {
   "cell_type": "code",
   "execution_count": null,
   "id": "0f5ef393",
   "metadata": {},
   "outputs": [],
   "source": [
    "draw_value_counts_bar_chart(df_sup, \n",
    "                            BAR_CHART_COLOR, \n",
    "                            \"Opinionated vs Non Opinionated Samples (Superlative - POS)\", \n",
    "                            PDF_FOLDER_CHOSEN, \n",
    "                            \"sup_value_counts\")"
   ]
  },
  {
   "cell_type": "markdown",
   "id": "74d8b136",
   "metadata": {},
   "source": [
    "#### Data-Driven"
   ]
  },
  {
   "cell_type": "code",
   "execution_count": null,
   "id": "e8cd627e",
   "metadata": {},
   "outputs": [],
   "source": [
    "draw_value_counts_bar_chart(df_pos_d, \n",
    "                            BAR_CHART_COLOR, \n",
    "                            \"Opinionated vs Non Opinionated Samples (Positive - Data)\", \n",
    "                            PDF_FOLDER_CHOSEN, \n",
    "                            \"pos_d_value_counts\")"
   ]
  },
  {
   "cell_type": "code",
   "execution_count": null,
   "id": "abafd2dc",
   "metadata": {},
   "outputs": [],
   "source": [
    "draw_value_counts_bar_chart(df_comp_d, \n",
    "                            BAR_CHART_COLOR, \n",
    "                            \"Opinionated vs Non Opinionated Samples (Comparative - Data)\", \n",
    "                            PDF_FOLDER_CHOSEN, \n",
    "                            \"comp_d_value_counts\")"
   ]
  },
  {
   "cell_type": "code",
   "execution_count": null,
   "id": "814cb56b",
   "metadata": {},
   "outputs": [],
   "source": [
    "draw_value_counts_bar_chart(df_sup_d, \n",
    "                            BAR_CHART_COLOR, \n",
    "                            \"Opinionated vs Non Opinionated Samples (Superlative - Data)\", \n",
    "                            PDF_FOLDER_CHOSEN, \n",
    "                            \"sup_d_value_counts\")"
   ]
  },
  {
   "cell_type": "markdown",
   "id": "3b6123be",
   "metadata": {},
   "source": [
    "#### Rule-based"
   ]
  },
  {
   "cell_type": "code",
   "execution_count": null,
   "id": "ebbf2787",
   "metadata": {},
   "outputs": [],
   "source": [
    "draw_value_counts_bar_chart(df_comp_r, \n",
    "                            BAR_CHART_COLOR, \n",
    "                            \"Opinionated vs Non Opinionated Samples (Comparative - Rule)\", \n",
    "                            PDF_FOLDER_CHOSEN, \n",
    "                            \"comp_r_value_counts\")"
   ]
  },
  {
   "cell_type": "code",
   "execution_count": null,
   "id": "53ab52a7",
   "metadata": {
    "scrolled": true
   },
   "outputs": [],
   "source": [
    "draw_value_counts_bar_chart(df_sup_r, \n",
    "                            BAR_CHART_COLOR, \n",
    "                            \"Opinionated vs Non Opinionated Samples (Superlative - Rule)\", \n",
    "                            PDF_FOLDER_CHOSEN, \n",
    "                            \"sup_r_value_counts\")"
   ]
  },
  {
   "cell_type": "markdown",
   "id": "bd4a3e75",
   "metadata": {},
   "source": [
    "### Draw word count plots (in eval dataset)"
   ]
  },
  {
   "cell_type": "markdown",
   "id": "14294882",
   "metadata": {},
   "source": [
    "#### General functions"
   ]
  },
  {
   "cell_type": "code",
   "execution_count": null,
   "id": "106cf5ff",
   "metadata": {},
   "outputs": [],
   "source": [
    "def sort_dict_desc(input_dict):\n",
    "    return dict(sorted(input_dict.items(), key=lambda item: item[1],reverse=True))\n",
    "\n",
    "def draw_word_count_plot(count_dict, color, title, destination, filename):\n",
    "    categories = list(count_dict.keys())[:10]\n",
    "    values = list(count_dict.values())[:10]\n",
    "\n",
    "    plt.bar(categories, values, color=color)\n",
    "    plt.xlabel('Words')\n",
    "    plt.ylabel('Amount')\n",
    "    plt.title(title)\n",
    "    plt.xticks(rotation=90)\n",
    "    plt.tight_layout()\n",
    "    plt.savefig(destination + filename + '.pdf', format='pdf')"
   ]
  },
  {
   "cell_type": "markdown",
   "id": "7a909c0e",
   "metadata": {},
   "source": [
    "#### Functions for POS-Tag word counts"
   ]
  },
  {
   "cell_type": "code",
   "execution_count": null,
   "id": "40707944",
   "metadata": {},
   "outputs": [],
   "source": [
    "def get_word_counts_for_pos_tags(df, tags):\n",
    "    counts = {}\n",
    "    \n",
    "    df[\"tagged\"].apply(lambda text: get_tagged_words_in_text(text, tags, counts))\n",
    "    \n",
    "    return counts\n",
    "\n",
    "def get_tagged_words_in_text(text, tags, count_dict):\n",
    "    words = text.split(\" \")\n",
    "    \n",
    "    for word in words:\n",
    "        for tag in tags:\n",
    "            if tag in word:\n",
    "                target_word = word.split(\"\\t\")[0]\n",
    "                \n",
    "                if target_word not in count_dict:\n",
    "                    count_dict[target_word] = 0\n",
    "                count_dict[target_word] += 1"
   ]
  },
  {
   "cell_type": "markdown",
   "id": "2c675bc1",
   "metadata": {},
   "source": [
    "#### Functions for Data-Driven word counts"
   ]
  },
  {
   "cell_type": "code",
   "execution_count": null,
   "id": "b1c0a5ae",
   "metadata": {},
   "outputs": [],
   "source": [
    "def get_word_counts_for_data_driven(df, set_words, column):\n",
    "    counts = {}\n",
    "\n",
    "    df[column].apply(lambda text: get_words_in_text_based_on_set(text, set_words, counts))\n",
    "    \n",
    "    return counts\n",
    "\n",
    "def get_words_in_text_based_on_set(text, set_words, count_dict):\n",
    "    words = text.split(\" \")\n",
    "    \n",
    "    for word in words:\n",
    "        if word in set_words:\n",
    "            if word not in count_dict:\n",
    "                count_dict[word] = 0\n",
    "            count_dict[word] += 1"
   ]
  },
  {
   "cell_type": "markdown",
   "id": "6e95058d",
   "metadata": {},
   "source": [
    "#### Functions for Rule-Based word counts"
   ]
  },
  {
   "cell_type": "code",
   "execution_count": null,
   "id": "3b8d3e07",
   "metadata": {},
   "outputs": [],
   "source": [
    "pattern_1 = r'(So|so) [a-zäöüß ]* wie'\n",
    "\n",
    "pattern_2 = r'(Nicht|nicht) so [a-zäöüß ]* wie'\n",
    "   \n",
    "pattern_3 = r'(Immer|immer) [a-zäöüß]{2,60}er'\n",
    "    \n",
    "pattern_4 = r'[A-ZÄÖÜßa-zäöüß]+er als [a-zäöüß]+ '\n",
    "\n",
    "pattern_5 = r'(Je|je) [a-zäöüß ,]+(desto|umso) '\n",
    "\n",
    "rules = [pattern_1, pattern_2, pattern_3, pattern_4, pattern_5]\n",
    "\n",
    "\n",
    "pattern_6 = r'am [a-zäöüß]+(s|ß)ten'\n",
    "\n",
    "rules_sup = [pattern_6]"
   ]
  },
  {
   "cell_type": "code",
   "execution_count": null,
   "id": "95b930a3",
   "metadata": {},
   "outputs": [],
   "source": [
    "text = df_comp_r[\"text\"].loc[0]"
   ]
  },
  {
   "cell_type": "code",
   "execution_count": null,
   "id": "2d58c88d",
   "metadata": {},
   "outputs": [],
   "source": [
    "def get_word_counts_for_rule_based(df, rules, column):\n",
    "    counts = {}\n",
    "\n",
    "    df[column].apply(lambda tx: get_words_in_text_based_on_rules(tx, rules, counts))\n",
    "    \n",
    "    return counts\n",
    "\n",
    "def get_words_in_text_based_on_rules(text, rules, count_dict):\n",
    "    \n",
    "    found_words = []\n",
    "    \n",
    "    for rule in rules:\n",
    "        res = re.search(rule,text)\n",
    "        \n",
    "        if res:\n",
    "            found_words.append(res.group())\n",
    "    \n",
    "    for word in found_words:\n",
    "        if word not in count_dict:\n",
    "            count_dict[word] = 0\n",
    "        count_dict[word] +=1"
   ]
  },
  {
   "cell_type": "markdown",
   "id": "7276f77b",
   "metadata": {},
   "source": [
    "#### Plots for POS-Tag word counts (Evaluation Set)"
   ]
  },
  {
   "cell_type": "code",
   "execution_count": null,
   "id": "d29cee6d",
   "metadata": {},
   "outputs": [],
   "source": [
    "tags_pos = [\"ADJA.Pos\", \"ADJD.Pos\"]\n",
    "tags_comp = [\"ADJA.Comp\", \"ADJD.Comp\"]\n",
    "tags_sup = [\"ADJA.Sup\", \"ADJD.Sup\"]"
   ]
  },
  {
   "cell_type": "code",
   "execution_count": null,
   "id": "2a28e83f",
   "metadata": {},
   "outputs": [],
   "source": [
    "counts_pos = get_word_counts_for_pos_tags(df_pos, tags_pos)\n",
    "counts_comp = get_word_counts_for_pos_tags(df_comp, tags_comp)\n",
    "counts_sup = get_word_counts_for_pos_tags(df_sup, tags_sup)"
   ]
  },
  {
   "cell_type": "code",
   "execution_count": null,
   "id": "dd6f678c",
   "metadata": {},
   "outputs": [],
   "source": [
    "counts_pos = sort_dict_desc(counts_pos)\n",
    "counts_comp = sort_dict_desc(counts_comp)\n",
    "counts_sup = sort_dict_desc(counts_sup)"
   ]
  },
  {
   "cell_type": "code",
   "execution_count": null,
   "id": "4e05decd",
   "metadata": {},
   "outputs": [],
   "source": [
    "draw_word_count_plot(counts_pos, BAR_CHART_COLOR, \"Word Counts Of Evaluation Dataset (Positive - POS)\", PDF_FOLDER_CHOSEN, \"pos_word_counts_eval\")"
   ]
  },
  {
   "cell_type": "code",
   "execution_count": null,
   "id": "ebbaa171",
   "metadata": {},
   "outputs": [],
   "source": [
    "draw_word_count_plot(counts_comp, BAR_CHART_COLOR, \"Word Counts Of Evaluation Dataset (Compartive - POS)\", PDF_FOLDER_CHOSEN, \"comp_word_counts_eval\")"
   ]
  },
  {
   "cell_type": "code",
   "execution_count": null,
   "id": "7ebcf67c",
   "metadata": {},
   "outputs": [],
   "source": [
    "draw_word_count_plot(counts_sup, BAR_CHART_COLOR, \"Word Counts Of Evaluation Dataset (Superlative - POS)\", PDF_FOLDER_CHOSEN, \"sup_word_counts_eval\")"
   ]
  },
  {
   "cell_type": "markdown",
   "id": "93e53016",
   "metadata": {},
   "source": [
    "#### Plots for Data-Driven word counts (Evaluation Set)"
   ]
  },
  {
   "cell_type": "code",
   "execution_count": null,
   "id": "09193cbd",
   "metadata": {},
   "outputs": [],
   "source": [
    "counts_pos_d = get_word_counts_for_data_driven(df_pos_d, set_positive, \"text\")\n",
    "counts_comp_d = get_word_counts_for_data_driven(df_comp_d, set_comparative, \"text\")\n",
    "counts_sup_d = get_word_counts_for_data_driven(df_sup_d, set_superlative_preprocessed, \"text\")"
   ]
  },
  {
   "cell_type": "code",
   "execution_count": null,
   "id": "5cbfcf5b",
   "metadata": {},
   "outputs": [],
   "source": [
    "counts_pos_d = sort_dict_desc(counts_pos_d)\n",
    "counts_comp_d = sort_dict_desc(counts_comp_d)\n",
    "counts_sup_d = sort_dict_desc(counts_sup_d)"
   ]
  },
  {
   "cell_type": "code",
   "execution_count": null,
   "id": "4d7358d2",
   "metadata": {},
   "outputs": [],
   "source": [
    "draw_word_count_plot(counts_pos_d, \n",
    "                     BAR_CHART_COLOR, \n",
    "                     \"Word Counts Of Evaluation Dataset (Positive - Data)\", \n",
    "                     PDF_FOLDER_CHOSEN, \n",
    "                     \"pos_d_word_counts_eval\")"
   ]
  },
  {
   "cell_type": "code",
   "execution_count": null,
   "id": "ab4fc99a",
   "metadata": {},
   "outputs": [],
   "source": [
    "draw_word_count_plot(counts_comp_d, \n",
    "                     BAR_CHART_COLOR, \n",
    "                     \"Word Counts Of Evaluation Dataset (Comparative - Data)\", \n",
    "                     PDF_FOLDER_CHOSEN, \n",
    "                     \"comp_d_word_counts_eval\")"
   ]
  },
  {
   "cell_type": "code",
   "execution_count": null,
   "id": "635bbb16",
   "metadata": {},
   "outputs": [],
   "source": [
    "draw_word_count_plot(counts_sup_d, \n",
    "                     BAR_CHART_COLOR, \n",
    "                     \"Word Counts Of Evaluation Dataset (Superlative - Data)\", \n",
    "                     PDF_FOLDER_CHOSEN, \n",
    "                     \"sup_d_word_counts_eval\")"
   ]
  },
  {
   "cell_type": "markdown",
   "id": "71aa170a",
   "metadata": {},
   "source": [
    "#### Plots for Rule-Based word counts (Evaluation Set)"
   ]
  },
  {
   "cell_type": "code",
   "execution_count": null,
   "id": "5047548d",
   "metadata": {},
   "outputs": [],
   "source": [
    "counts_comp_r = get_word_counts_for_rule_based(df_comp_r, rules, \"text\")\n",
    "counts_sup_r = get_word_counts_for_rule_based(df_sup_r, rules_sup, \"text\")"
   ]
  },
  {
   "cell_type": "code",
   "execution_count": null,
   "id": "24b0537e",
   "metadata": {},
   "outputs": [],
   "source": [
    "counts_comp_r = sort_dict_desc(counts_comp_r)\n",
    "counts_sup_r = sort_dict_desc(counts_sup_r)"
   ]
  },
  {
   "cell_type": "code",
   "execution_count": null,
   "id": "d71c5b8c",
   "metadata": {},
   "outputs": [],
   "source": [
    "draw_word_count_plot(counts_comp_r, \n",
    "                     BAR_CHART_COLOR, \n",
    "                     \"Word Counts Of Evaluation Dataset (Comparative - Rule)\", \n",
    "                     PDF_FOLDER_CHOSEN, \n",
    "                     \"comp_r_word_counts_eval\")"
   ]
  },
  {
   "cell_type": "code",
   "execution_count": null,
   "id": "993d9ed6",
   "metadata": {},
   "outputs": [],
   "source": [
    "draw_word_count_plot(counts_sup_r, \n",
    "                     BAR_CHART_COLOR, \n",
    "                     \"Word Counts Of Evaluation Dataset (Superlative - Rule)\", \n",
    "                     PDF_FOLDER_CHOSEN, \n",
    "                     \"sup_r_word_counts_eval\")"
   ]
  },
  {
   "cell_type": "markdown",
   "id": "337d9f87",
   "metadata": {},
   "source": [
    "### Draw word count plots (whole dataset)"
   ]
  },
  {
   "cell_type": "markdown",
   "id": "a9a6d68c",
   "metadata": {},
   "source": [
    "#### Plots for POS-Tag word counts (Whole Dataset)"
   ]
  },
  {
   "cell_type": "code",
   "execution_count": null,
   "id": "d0c77913",
   "metadata": {},
   "outputs": [],
   "source": [
    "counts_pos_whole = get_word_counts_for_pos_tags(df_all, tags_pos)\n",
    "counts_comp_whole = get_word_counts_for_pos_tags(df_all, tags_comp)\n",
    "counts_sup_whole = get_word_counts_for_pos_tags(df_all, tags_sup)"
   ]
  },
  {
   "cell_type": "code",
   "execution_count": null,
   "id": "73401a74",
   "metadata": {},
   "outputs": [],
   "source": [
    "counts_pos_whole = sort_dict_desc(counts_pos_whole)\n",
    "counts_comp_whole = sort_dict_desc(counts_comp_whole)\n",
    "counts_sup_whole = sort_dict_desc(counts_sup_whole)"
   ]
  },
  {
   "cell_type": "code",
   "execution_count": null,
   "id": "4f40c787",
   "metadata": {},
   "outputs": [],
   "source": [
    "draw_word_count_plot(counts_pos_whole, BAR_CHART_COLOR, \"Word Counts Of Whole Dataset (Positive - POS)\", PDF_FOLDER_CHOSEN, \"pos_word_counts_whole\")"
   ]
  },
  {
   "cell_type": "code",
   "execution_count": null,
   "id": "2f0e26c1",
   "metadata": {},
   "outputs": [],
   "source": [
    "draw_word_count_plot(counts_comp_whole, BAR_CHART_COLOR, \"Word Counts Of Whole Dataset (Comparative - POS)\", PDF_FOLDER_CHOSEN, \"comp_word_counts_whole\")"
   ]
  },
  {
   "cell_type": "code",
   "execution_count": null,
   "id": "473ea9c2",
   "metadata": {
    "scrolled": true
   },
   "outputs": [],
   "source": [
    "draw_word_count_plot(counts_sup_whole, BAR_CHART_COLOR, \"Word Counts Of Whole Dataset (Superlative - POS)\", PDF_FOLDER_CHOSEN, \"sup_word_counts_whole\")"
   ]
  },
  {
   "cell_type": "markdown",
   "id": "f9a90685",
   "metadata": {},
   "source": [
    "#### Plots for Data-Driven word counts (Whole Dataset)"
   ]
  },
  {
   "cell_type": "code",
   "execution_count": null,
   "id": "11cc5ece",
   "metadata": {},
   "outputs": [],
   "source": [
    "counts_pos_d_whole = get_word_counts_for_data_driven(df_all, set_positive, \"speech\")\n",
    "counts_comp_d_whole = get_word_counts_for_data_driven(df_all, set_comparative, \"speech\")\n",
    "counts_sup_d_whole = get_word_counts_for_data_driven(df_all, set_superlative_preprocessed, \"speech\")"
   ]
  },
  {
   "cell_type": "code",
   "execution_count": null,
   "id": "6edf4dbc",
   "metadata": {},
   "outputs": [],
   "source": [
    "counts_pos_d_whole = sort_dict_desc(counts_pos_d_whole)\n",
    "counts_comp_d_whole = sort_dict_desc(counts_comp_d_whole)\n",
    "counts_sup_d_whole = sort_dict_desc(counts_sup_d_whole)"
   ]
  },
  {
   "cell_type": "code",
   "execution_count": null,
   "id": "cf30a92d",
   "metadata": {},
   "outputs": [],
   "source": [
    "draw_word_count_plot(counts_pos_d_whole, \n",
    "                     BAR_CHART_COLOR, \n",
    "                     \"Word Counts Of Whole Dataset (Positive - Data)\", \n",
    "                     PDF_FOLDER_CHOSEN, \n",
    "                     \"pos_d_word_counts_whole\")"
   ]
  },
  {
   "cell_type": "code",
   "execution_count": null,
   "id": "a79fce72",
   "metadata": {
    "scrolled": true
   },
   "outputs": [],
   "source": [
    "draw_word_count_plot(counts_comp_d_whole, \n",
    "                     BAR_CHART_COLOR, \n",
    "                     \"Word Counts Of Whole Dataset (Comparative - Data)\", \n",
    "                     PDF_FOLDER_CHOSEN, \n",
    "                     \"comp_d_word_counts_whole\")"
   ]
  },
  {
   "cell_type": "code",
   "execution_count": null,
   "id": "bbfa8c49",
   "metadata": {
    "scrolled": true
   },
   "outputs": [],
   "source": [
    "draw_word_count_plot(counts_sup_d_whole, \n",
    "                     BAR_CHART_COLOR, \n",
    "                     \"Word Counts Of Whole Dataset (Superlative - Data)\", \n",
    "                     PDF_FOLDER_CHOSEN, \n",
    "                     \"sup_d_word_counts_whole\")"
   ]
  },
  {
   "cell_type": "code",
   "execution_count": null,
   "id": "0a9cbe66",
   "metadata": {},
   "outputs": [],
   "source": [
    "counts_comp_r_whole = get_word_counts_for_rule_based(df_all, rules, \"speech\")\n",
    "counts_sup_r_whole = get_word_counts_for_rule_based(df_all, rules_sup, \"speech\")"
   ]
  },
  {
   "cell_type": "code",
   "execution_count": null,
   "id": "60d21e6e",
   "metadata": {},
   "outputs": [],
   "source": [
    "counts_comp_r_whole = sort_dict_desc(counts_comp_r_whole)\n",
    "counts_sup_r_whole = sort_dict_desc(counts_sup_r_whole)"
   ]
  },
  {
   "cell_type": "code",
   "execution_count": null,
   "id": "e9903d87",
   "metadata": {},
   "outputs": [],
   "source": [
    "draw_word_count_plot(counts_comp_r_whole, \n",
    "                     BAR_CHART_COLOR, \n",
    "                     \"Word Counts Of Whole Dataset (Comparative - Rule)\", \n",
    "                     PDF_FOLDER_CHOSEN, \n",
    "                     \"comp_r_word_counts_whole\")"
   ]
  },
  {
   "cell_type": "code",
   "execution_count": null,
   "id": "bafdfc33",
   "metadata": {},
   "outputs": [],
   "source": [
    "draw_word_count_plot(counts_sup_r_whole, \n",
    "                     BAR_CHART_COLOR, \n",
    "                     \"Word Counts Of Whole Dataset (Superlative - Rule)\", \n",
    "                     PDF_FOLDER_CHOSEN, \n",
    "                     \"sup_r_word_counts_whole\")"
   ]
  },
  {
   "cell_type": "code",
   "execution_count": null,
   "id": "a75cf522",
   "metadata": {},
   "outputs": [],
   "source": []
  },
  {
   "cell_type": "code",
   "execution_count": null,
   "id": "27a2ad70",
   "metadata": {},
   "outputs": [],
   "source": []
  },
  {
   "cell_type": "code",
   "execution_count": null,
   "id": "20432870",
   "metadata": {},
   "outputs": [],
   "source": []
  },
  {
   "cell_type": "code",
   "execution_count": null,
   "id": "b84a0b55",
   "metadata": {},
   "outputs": [],
   "source": []
  },
  {
   "cell_type": "markdown",
   "id": "7c76584a",
   "metadata": {},
   "source": [
    "### Functions for drawing the word count plots of the evaluation set"
   ]
  },
  {
   "cell_type": "markdown",
   "id": "ce0b73e0",
   "metadata": {},
   "source": [
    "They are different from the other word count function as they can also include the labels which were assigned during the annotation"
   ]
  },
  {
   "cell_type": "code",
   "execution_count": null,
   "id": "6ca19464",
   "metadata": {},
   "outputs": [],
   "source": [
    "def draw_word_count_plot_eval(shape_tuple, title, destination, filename):\n",
    "    \n",
    "    \n",
    "    words = shape_tuple[0]\n",
    "    weight_counts = {\n",
    "        \"Opinionated\": shape_tuple[1],\n",
    "        \"Non-Opinionated\": shape_tuple[2],\n",
    "    }\n",
    "\n",
    "    colors = {\n",
    "        \"Opinionated\": BAR_CHART_COLOR,\n",
    "        \"Non-Opinionated\": BAR_CHART_ORANGE,    \n",
    "    }\n",
    "\n",
    "    width = 0.6\n",
    "\n",
    "    fig, ax = plt.subplots()\n",
    "    bottom = np.zeros(10)\n",
    "\n",
    "    for boolean, weight_count in weight_counts.items():\n",
    "        p = ax.bar(words, weight_count, width, label=boolean, bottom=bottom, color=colors[boolean])\n",
    "        bottom += weight_count\n",
    "        \n",
    "    ax.legend(loc=\"upper right\")\n",
    "    plt.xlabel('Words')\n",
    "    plt.ylabel('Amount')\n",
    "    plt.title(title)\n",
    "    plt.xticks(rotation=90)\n",
    "    plt.tight_layout()\n",
    "    plt.savefig(destination + filename + '.pdf', format='pdf')\n",
    "\n",
    "def get_word_counts_in_shape_for_plot(dict_tuple):\n",
    "    all_counts = dict_tuple[0]\n",
    "    negative_counts = dict_tuple[1]\n",
    "    positive_counts = dict_tuple[2]\n",
    "    \n",
    "    all_sorted = sort_dict_desc(all_counts)\n",
    "    \n",
    "    top_10_words = list(all_sorted.keys())[:10]\n",
    "    \n",
    "    negative = []\n",
    "    positive = []\n",
    "    \n",
    "    for word in top_10_words:\n",
    "        negative.append(negative_counts[word])\n",
    "        positive.append(positive_counts[word])\n",
    "    \n",
    "    return top_10_words, np.array(positive), np.array(negative)\n",
    "\n",
    "# for pos-tag approach\n",
    "def get_word_counts_for_pos_tags_eval(df, tags):\n",
    "    counts = {}\n",
    "    negative_counts = {}\n",
    "    positive_counts = {}\n",
    "    \n",
    "    df.apply(lambda row: get_tagged_words_in_row(row, tags, counts, negative_counts, positive_counts),axis=1)\n",
    "    \n",
    "    return counts, negative_counts, positive_counts\n",
    "\n",
    "# for pos-tag approach\n",
    "def get_tagged_words_in_row(row, tags, count_dict, negative_count_dict, positive_count_dict):\n",
    "    text = row[\"tagged\"]\n",
    "    label = row[\"label\"]\n",
    "    words = text.split(\" \")\n",
    "    \n",
    "    for word in words:\n",
    "        for tag in tags:\n",
    "            if tag in word:\n",
    "                target_word = word.split(\"\\t\")[0]\n",
    "                \n",
    "                if target_word not in count_dict:\n",
    "                    count_dict[target_word] = 0\n",
    "                    positive_count_dict[target_word] = 0\n",
    "                    negative_count_dict[target_word] = 0\n",
    "                count_dict[target_word] += 1\n",
    "                \n",
    "                if label == \"Opinionated\":\n",
    "                    positive_count_dict[target_word] += 1\n",
    "                else:\n",
    "                    negative_count_dict[target_word] += 1\n",
    "                    \n",
    "# for data-driven approach\n",
    "def get_word_counts_for_data_driven_eval(df, word_set):\n",
    "    counts = {}\n",
    "    negative_counts = {}\n",
    "    positive_counts = {}\n",
    "    \n",
    "    df.apply(lambda row: get_words_in_row_from_set(row, word_set, counts, negative_counts, positive_counts),axis=1)\n",
    "    \n",
    "    return counts, negative_counts, positive_counts\n",
    "\n",
    "# for data-driven approach\n",
    "def get_words_in_row_from_set(row, word_set, count_dict, negative_count_dict, positive_count_dict):\n",
    "    text = row[\"text\"]\n",
    "    label = row[\"label\"]\n",
    "    words = text.split(\" \")\n",
    "    \n",
    "    for word in words:\n",
    "        if word in word_set:\n",
    "            if word not in count_dict:\n",
    "                count_dict[word] = 0\n",
    "                positive_count_dict[word] = 0\n",
    "                negative_count_dict[word] = 0\n",
    "            count_dict[word] += 1\n",
    "            \n",
    "            if label == \"Oppinionated\":\n",
    "                positive_count_dict[word] += 1\n",
    "            else:\n",
    "                negative_count_dict[word] += 1\n",
    "\n",
    "# for rule-based approach\n",
    "def get_word_counts_for_rule_based_eval(df, rules):\n",
    "    counts = {}\n",
    "    negative_counts = {}\n",
    "    positive_counts = {}\n",
    "    \n",
    "    df.apply(lambda row: get_words_in_row_from_rules(row, rules, counts, negative_counts, positive_counts),axis=1)\n",
    "    \n",
    "    return counts, negative_counts, positive_counts\n",
    "\n",
    "# for rule-based approach\n",
    "def get_words_in_row_from_rules(row, rules, count_dict, negative_count_dict, positive_count_dict):\n",
    "    text = row[\"text\"]\n",
    "    label = row[\"label\"]\n",
    "    \n",
    "    found_words = []\n",
    "    \n",
    "    for rule in rules:\n",
    "        res = re.search(rule,text)\n",
    "        \n",
    "        if res:\n",
    "            found_words.append(res.group())\n",
    "    \n",
    "    for word in found_words:\n",
    "        if word not in count_dict:\n",
    "            count_dict[word] = 0\n",
    "            positive_count_dict[word] = 0\n",
    "            negative_count_dict[word] = 0\n",
    "        count_dict[word] +=1\n",
    "        \n",
    "        if label == \"Opinionated\":\n",
    "            positive_count_dict[word] += 1\n",
    "        else:\n",
    "            negative_count_dict[word] += 1"
   ]
  },
  {
   "cell_type": "markdown",
   "id": "f5f8a197",
   "metadata": {},
   "source": [
    "### Plots of the evaluation dataset (POS-Tagging)"
   ]
  },
  {
   "cell_type": "code",
   "execution_count": null,
   "id": "0ddf8583",
   "metadata": {},
   "outputs": [],
   "source": [
    "pos_dict_tuple = get_word_counts_for_pos_tags_eval(df_pos, tags_pos)\n",
    "comp_dict_tuple = get_word_counts_for_pos_tags_eval(df_comp, tags_comp)\n",
    "sup_dict_tuple = get_word_counts_for_pos_tags_eval(df_sup, tags_sup)"
   ]
  },
  {
   "cell_type": "code",
   "execution_count": null,
   "id": "509891bd",
   "metadata": {},
   "outputs": [],
   "source": [
    "pos_res_shape_plot = get_word_counts_in_shape_for_plot(pos_dict_tuple)\n",
    "comp_res_shape_plot = get_word_counts_in_shape_for_plot(comp_dict_tuple)\n",
    "sup_res_shape_plot = get_word_counts_in_shape_for_plot(sup_dict_tuple)"
   ]
  },
  {
   "cell_type": "code",
   "execution_count": null,
   "id": "0e65abf0",
   "metadata": {
    "scrolled": true
   },
   "outputs": [],
   "source": [
    "draw_word_count_plot_eval(\n",
    "    pos_res_shape_plot,\n",
    "    \"Word Counts Of Evaluation Dataset (Positive - POS)\", \n",
    "    PDF_FOLDER_CHOSEN, \n",
    "    \"pos_word_counts_eval_new\")"
   ]
  },
  {
   "cell_type": "code",
   "execution_count": null,
   "id": "e983c8d3",
   "metadata": {},
   "outputs": [],
   "source": [
    "draw_word_count_plot_eval(\n",
    "    comp_res_shape_plot, \n",
    "    \"Word Counts Of Evaluation Dataset (Compartive - POS)\", \n",
    "    PDF_FOLDER_CHOSEN, \n",
    "    \"comp_word_counts_eval_new\")"
   ]
  },
  {
   "cell_type": "code",
   "execution_count": null,
   "id": "7c742902",
   "metadata": {
    "scrolled": true
   },
   "outputs": [],
   "source": [
    "draw_word_count_plot_eval(\n",
    "    sup_res_shape_plot, \n",
    "    \"Word Counts Of Evaluation Dataset (Superlative - POS)\", \n",
    "    PDF_FOLDER_CHOSEN, \n",
    "    \"sup_word_counts_eval_new\")"
   ]
  },
  {
   "cell_type": "markdown",
   "id": "119b0cdc",
   "metadata": {},
   "source": [
    "### Plots of the evaluation dataset (Data-Driven)"
   ]
  },
  {
   "cell_type": "code",
   "execution_count": null,
   "id": "f3e641bb",
   "metadata": {},
   "outputs": [],
   "source": [
    "pos_d_dict_tuple = get_word_counts_for_data_driven_eval(df_pos_d, set_positive)\n",
    "comp_d_dict_tuple = get_word_counts_for_data_driven_eval(df_comp_d, set_comparative)\n",
    "sup_d_dict_tuple = get_word_counts_for_data_driven_eval(df_sup_d, set_superlative_preprocessed)"
   ]
  },
  {
   "cell_type": "code",
   "execution_count": null,
   "id": "9e8de191",
   "metadata": {},
   "outputs": [],
   "source": [
    "pos_d_res_shape_plot = get_word_counts_in_shape_for_plot(pos_d_dict_tuple)\n",
    "comp_d_res_shape_plot = get_word_counts_in_shape_for_plot(comp_d_dict_tuple)\n",
    "sup_d_res_shape_plot = get_word_counts_in_shape_for_plot(sup_d_dict_tuple)"
   ]
  },
  {
   "cell_type": "code",
   "execution_count": null,
   "id": "efd23358",
   "metadata": {},
   "outputs": [],
   "source": [
    "draw_word_count_plot_eval(pos_d_res_shape_plot, \n",
    "                     \"Word Counts Of Evaluation Dataset (Positive - Data)\", \n",
    "                     PDF_FOLDER_CHOSEN, \n",
    "                     \"pos_d_word_counts_eval_new\")"
   ]
  },
  {
   "cell_type": "code",
   "execution_count": null,
   "id": "ac6eb7d6",
   "metadata": {},
   "outputs": [],
   "source": [
    "df_comp_d[\"label\"].value_counts()"
   ]
  },
  {
   "cell_type": "code",
   "execution_count": null,
   "id": "15c3e8bd",
   "metadata": {},
   "outputs": [],
   "source": [
    "draw_word_count_plot_eval(comp_d_res_shape_plot, \n",
    "                     \"Word Counts Of Evaluation Dataset (Comparative - Data)\", \n",
    "                     PDF_FOLDER_CHOSEN, \n",
    "                     \"comp_d_word_counts_eval_new\")"
   ]
  },
  {
   "cell_type": "code",
   "execution_count": null,
   "id": "03fd0eeb",
   "metadata": {},
   "outputs": [],
   "source": [
    "draw_word_count_plot_eval(sup_d_res_shape_plot, \n",
    "                     \"Word Counts Of Evaluation Dataset (Superlative - Data)\", \n",
    "                     PDF_FOLDER_CHOSEN, \n",
    "                     \"sup_d_word_counts_eval_new\")"
   ]
  },
  {
   "cell_type": "markdown",
   "id": "1ce647e0",
   "metadata": {},
   "source": [
    "### Plots of the evaluation dataset (Rule-Based)"
   ]
  },
  {
   "cell_type": "code",
   "execution_count": null,
   "id": "32bd711f",
   "metadata": {},
   "outputs": [],
   "source": [
    "comp_r_dict_tuple = get_word_counts_for_rule_based_eval(df_comp_r, rules)\n",
    "sup_r_dict_tuple = get_word_counts_for_rule_based_eval(df_sup_r, rules_sup)"
   ]
  },
  {
   "cell_type": "code",
   "execution_count": null,
   "id": "5d838763",
   "metadata": {},
   "outputs": [],
   "source": [
    "comp_r_res_shape_plot = get_word_counts_in_shape_for_plot(comp_r_dict_tuple)\n",
    "sup_r_res_shape_plot = get_word_counts_in_shape_for_plot(sup_r_dict_tuple)"
   ]
  },
  {
   "cell_type": "code",
   "execution_count": null,
   "id": "790743e2",
   "metadata": {
    "scrolled": true
   },
   "outputs": [],
   "source": [
    "draw_word_count_plot_eval(comp_r_res_shape_plot, \n",
    "                     \"Word Counts Of Evaluation Dataset (Comparative - Rule)\", \n",
    "                     PDF_FOLDER_CHOSEN, \n",
    "                     \"comp_r_word_counts_eval_new\")"
   ]
  },
  {
   "cell_type": "code",
   "execution_count": null,
   "id": "bc80591f",
   "metadata": {},
   "outputs": [],
   "source": [
    "draw_word_count_plot_eval(sup_r_res_shape_plot, \n",
    "                     \"Word Counts Of Evaluation Dataset (Superlative - Rule)\", \n",
    "                     PDF_FOLDER_CHOSEN, \n",
    "                     \"sup_r_word_counts_eval_new\")"
   ]
  }
 ],
 "metadata": {
  "kernelspec": {
   "display_name": "Python 3 (ipykernel)",
   "language": "python",
   "name": "python3"
  },
  "language_info": {
   "codemirror_mode": {
    "name": "ipython",
    "version": 3
   },
   "file_extension": ".py",
   "mimetype": "text/x-python",
   "name": "python",
   "nbconvert_exporter": "python",
   "pygments_lexer": "ipython3",
   "version": "3.8.13"
  }
 },
 "nbformat": 4,
 "nbformat_minor": 5
}
