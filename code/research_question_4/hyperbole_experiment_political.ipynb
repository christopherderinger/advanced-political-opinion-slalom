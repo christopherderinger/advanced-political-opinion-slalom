{
 "cells": [
  {
   "cell_type": "code",
   "execution_count": null,
   "id": "d6934074",
   "metadata": {},
   "outputs": [],
   "source": [
    "import pandas as pd\n",
    "from sklearn.ensemble import RandomForestClassifier\n",
    "from sklearn.model_selection import train_test_split"
   ]
  },
  {
   "cell_type": "markdown",
   "id": "0f8f9fdd",
   "metadata": {},
   "source": [
    "## Paths"
   ]
  },
  {
   "cell_type": "code",
   "execution_count": null,
   "id": "3174dee9",
   "metadata": {},
   "outputs": [],
   "source": [
    "DATA_FOLDER = \"../../data/research_question_4/\"\n",
    "\n",
    "TRAINING_DATASET = DATA_FOLDER + \"thesis/hyperbole_machine_translations_feature_engineered.csv\"\n",
    "TEST_DATASET = DATA_FOLDER + \"thesis/nrsitz_58_feature_engineered.csv\"\n",
    "\n",
    "FULL_RESULT_NAME = DATA_FOLDER + \"/res_nrsitz58.csv\"\n",
    "HYPO_RESULT_NAME = DATA_FOLDER + \"/res_nrsitz58_hyperboles.csv\""
   ]
  },
  {
   "cell_type": "markdown",
   "id": "10aba648",
   "metadata": {},
   "source": [
    "## Datasets"
   ]
  },
  {
   "cell_type": "code",
   "execution_count": null,
   "id": "5b69c3ad",
   "metadata": {},
   "outputs": [],
   "source": [
    "df_train = pd.read_csv(TRAINING_DATASET)"
   ]
  },
  {
   "cell_type": "code",
   "execution_count": null,
   "id": "da1a80be",
   "metadata": {},
   "outputs": [],
   "source": [
    "df_test = pd.read_csv(TEST_DATASET)"
   ]
  },
  {
   "cell_type": "markdown",
   "id": "99e9e1f5",
   "metadata": {},
   "source": [
    "## Model"
   ]
  },
  {
   "cell_type": "code",
   "execution_count": null,
   "id": "849904a2",
   "metadata": {},
   "outputs": [],
   "source": [
    "required_columns = ['imageability', 'polarity_senti_ws',\n",
    "       'polarity_text_blob', 'subjectivity_huggingface', 'vader_positive',\n",
    "       'vader_neutral', 'vader_negative', 'vader_compound']"
   ]
  },
  {
   "cell_type": "code",
   "execution_count": null,
   "id": "2ec6fbe0",
   "metadata": {},
   "outputs": [],
   "source": [
    "df_train.columns"
   ]
  },
  {
   "cell_type": "code",
   "execution_count": null,
   "id": "4e2d25aa",
   "metadata": {},
   "outputs": [],
   "source": [
    "X_train = df_train[required_columns]\n",
    "\n",
    "y_train = df_train['label']\n",
    "\n",
    "X_test = df_test[required_columns]"
   ]
  },
  {
   "cell_type": "code",
   "execution_count": null,
   "id": "b11d0b0c",
   "metadata": {},
   "outputs": [],
   "source": [
    "rf_clf = RandomForestClassifier(n_estimators = 1000, min_samples_split = 15, random_state = 42)\n",
    "rf_clf.fit(X_train, y_train)"
   ]
  },
  {
   "cell_type": "code",
   "execution_count": null,
   "id": "90441a17",
   "metadata": {},
   "outputs": [],
   "source": [
    "df_test[\"res_rf\"] = rf_clf.predict(X_test)"
   ]
  },
  {
   "cell_type": "code",
   "execution_count": null,
   "id": "3eba79db",
   "metadata": {
    "scrolled": true
   },
   "outputs": [],
   "source": [
    "df_test[\"res_rf\"].value_counts()"
   ]
  },
  {
   "cell_type": "markdown",
   "id": "b2fe0a82",
   "metadata": {},
   "source": [
    "### Export"
   ]
  },
  {
   "cell_type": "code",
   "execution_count": null,
   "id": "6cbc07ce",
   "metadata": {},
   "outputs": [],
   "source": [
    "df_test.to_csv(FULL_RESULT_NAME,index=False)"
   ]
  },
  {
   "cell_type": "code",
   "execution_count": null,
   "id": "8cf314d5",
   "metadata": {},
   "outputs": [],
   "source": [
    "df_test[\n",
    "    df_test[\"res_rf\"] == 1\n",
    "].to_csv(HYPO_RESULT_NAME)"
   ]
  }
 ],
 "metadata": {
  "kernelspec": {
   "display_name": "Python 3",
   "language": "python",
   "name": "python3"
  },
  "language_info": {
   "codemirror_mode": {
    "name": "ipython",
    "version": 3
   },
   "file_extension": ".py",
   "mimetype": "text/x-python",
   "name": "python",
   "nbconvert_exporter": "python",
   "pygments_lexer": "ipython3",
   "version": "3.8.8"
  }
 },
 "nbformat": 4,
 "nbformat_minor": 5
}
