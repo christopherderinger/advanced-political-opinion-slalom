{
 "cells": [
  {
   "cell_type": "code",
   "execution_count": null,
   "id": "51c1f55d",
   "metadata": {},
   "outputs": [],
   "source": [
    "import pandas as pd\n",
    "import matplotlib.pyplot as plt\n",
    "import matplotlib.colors as mcolors"
   ]
  },
  {
   "cell_type": "markdown",
   "id": "c8e05a13",
   "metadata": {},
   "source": [
    "### Paths"
   ]
  },
  {
   "cell_type": "code",
   "execution_count": null,
   "id": "ca3d9ed9",
   "metadata": {},
   "outputs": [],
   "source": [
    "PATH_TO_DATA_FOLDER = \"../../data/research_question_4/thesis\"\n",
    "\n",
    "INPUT_FILE_SUB = PATH_TO_DATA_FOLDER + \"/hyperboles_political_annotated.csv\"\n",
    "INPUT_FILE_FULL = PATH_TO_DATA_FOLDER + \"/res_nrsitz58.csv\"\n",
    "\n",
    "TARGET_FOLDER = \"../../plots/research_question_4/\""
   ]
  },
  {
   "cell_type": "markdown",
   "id": "f1b90ebd",
   "metadata": {},
   "source": [
    "### Colors"
   ]
  },
  {
   "cell_type": "code",
   "execution_count": null,
   "id": "ab086306",
   "metadata": {},
   "outputs": [],
   "source": [
    "HEX_COLORS = ['#000000','#E69F00','#56B4E9','#009E73','#F0E442','#0072B2','#D55E00','#CC79A7']\n",
    "RGB_COLORS = [mcolors.hex2color(hex_color) for hex_color in HEX_COLORS]\n",
    "\n",
    "BAR_CHART_COLOR = RGB_COLORS[2]"
   ]
  },
  {
   "cell_type": "markdown",
   "id": "5b194d66",
   "metadata": {},
   "source": [
    "### Functions"
   ]
  },
  {
   "cell_type": "code",
   "execution_count": null,
   "id": "3e625529",
   "metadata": {},
   "outputs": [],
   "source": [
    "def draw_value_counts_bar_chart(df, color, title, destination, filename):\n",
    "    value_counts = df[\"label_2\"].value_counts()\n",
    "    desired_order = ['literal', 'hyperbolic']\n",
    "\n",
    "    # Sort the value counts based on the desired order\n",
    "    value_counts = value_counts.loc[desired_order]\n",
    "    \n",
    "    plt.bar(value_counts.index, value_counts.values, color=color)\n",
    "    plt.xlabel('Categories')\n",
    "    plt.ylabel('Amount')\n",
    "    plt.title(title)\n",
    "    plt.tight_layout()\n",
    "    plt.savefig(destination + filename + '.pdf', format='pdf')\n",
    "    \n",
    "def add_label_based_on_number(number):\n",
    "    if number == 0:\n",
    "        return \"literal\"\n",
    "    else:\n",
    "        return \"hyperbolic\"\n",
    "    \n",
    "def add_label_based_on_other_label(label):\n",
    "    if label == \"hyperbolic\":\n",
    "        return label\n",
    "    else:\n",
    "        return \"literal\""
   ]
  },
  {
   "cell_type": "markdown",
   "id": "83ee539b",
   "metadata": {},
   "source": [
    "### Dataframes"
   ]
  },
  {
   "cell_type": "code",
   "execution_count": null,
   "id": "9fc8fba7",
   "metadata": {},
   "outputs": [],
   "source": [
    "df = pd.read_csv(INPUT_FILE_SUB)"
   ]
  },
  {
   "cell_type": "code",
   "execution_count": null,
   "id": "ab37beea",
   "metadata": {},
   "outputs": [],
   "source": [
    "df_all = pd.read_csv(INPUT_FILE_FULL)"
   ]
  },
  {
   "cell_type": "markdown",
   "id": "1e8889d9",
   "metadata": {},
   "source": [
    "### Preprocessing"
   ]
  },
  {
   "cell_type": "code",
   "execution_count": null,
   "id": "bc9284e4",
   "metadata": {},
   "outputs": [],
   "source": [
    "df[\"label_2\"] = df[\"label\"].apply(lambda lbl: add_label_based_on_other_label(lbl))"
   ]
  },
  {
   "cell_type": "code",
   "execution_count": null,
   "id": "afa6d590",
   "metadata": {},
   "outputs": [],
   "source": [
    "df_all[\"label_2\"] = df_all[\"res_rf\"].apply(lambda num: add_label_based_on_number(num))"
   ]
  },
  {
   "cell_type": "markdown",
   "id": "035ebb10",
   "metadata": {},
   "source": [
    "### Plots"
   ]
  },
  {
   "cell_type": "code",
   "execution_count": null,
   "id": "e489f2fd",
   "metadata": {},
   "outputs": [],
   "source": [
    "draw_value_counts_bar_chart(\n",
    "    df_all, \n",
    "    BAR_CHART_COLOR, \n",
    "    \"Amount of hyperboles based on classification (political dataset)\", \n",
    "    TARGET_FOLDER, \n",
    "    \"hyperboles_political_overall_res\"\n",
    ")"
   ]
  },
  {
   "cell_type": "code",
   "execution_count": null,
   "id": "3b17ba2a",
   "metadata": {},
   "outputs": [],
   "source": [
    "draw_value_counts_bar_chart(\n",
    "    df, \n",
    "    BAR_CHART_COLOR, \n",
    "    \"Amount of hyperboles after annotation (political dataset)\", \n",
    "    TARGET_FOLDER, \n",
    "    \"hyperboles_political_amount\"\n",
    ")"
   ]
  }
 ],
 "metadata": {
  "kernelspec": {
   "display_name": "Python 3",
   "language": "python",
   "name": "python3"
  },
  "language_info": {
   "codemirror_mode": {
    "name": "ipython",
    "version": 3
   },
   "file_extension": ".py",
   "mimetype": "text/x-python",
   "name": "python",
   "nbconvert_exporter": "python",
   "pygments_lexer": "ipython3",
   "version": "3.8.8"
  }
 },
 "nbformat": 4,
 "nbformat_minor": 5
}
