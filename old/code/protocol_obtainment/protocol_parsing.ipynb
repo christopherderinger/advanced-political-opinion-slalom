{
 "cells": [
  {
   "cell_type": "code",
   "execution_count": null,
   "id": "c237f925",
   "metadata": {},
   "outputs": [],
   "source": [
    "import sys\n",
    "sys.path.append(\"parser_lib/\")\n",
    "from parser_lib.protocol_parser import ProtocolParser\n",
    "import os\n",
    "import pandas as pd\n",
    "import re\n",
    "from pathlib import Path\n",
    "import numpy as np"
   ]
  },
  {
   "cell_type": "markdown",
   "id": "fd876128",
   "metadata": {},
   "source": [
    "## Parse multiple protocols"
   ]
  },
  {
   "cell_type": "code",
   "execution_count": null,
   "id": "73105d08",
   "metadata": {},
   "outputs": [],
   "source": [
    "PROTOCOL_FOLDER = \"../../data/protocols/download/\"\n",
    "TARGET_FOLDER = \"../../data/protocols/parsed/\"\n",
    "DONE_FOLDER = \"../../data/protocols/done/\""
   ]
  },
  {
   "cell_type": "code",
   "execution_count": null,
   "id": "2360615e",
   "metadata": {},
   "outputs": [],
   "source": [
    "def get_nrsitz_string(protocol_path):\n",
    "    return re.search(r'NRSITZ_[01234567890]{5}',protocol_path).group(0)\n",
    "\n",
    "def parse_folder(input_folder,target_folder,done_folder):\n",
    "    with os.scandir(input_folder) as entries:\n",
    "        for entry in entries:\n",
    "            print(\"ENTRY: {}\".format(entry))\n",
    "            protocol_path = input_folder + entry.name\n",
    "            filename = get_nrsitz_string(protocol_path) + \"_PARSED.csv\"\n",
    "            \n",
    "            parser = ProtocolParser(protocol_path)\n",
    "            parser.parse()\n",
    "            parser.export(target_folder + filename)\n",
    "            os.system('mv ' + protocol_path + ' ' + done_folder + entry.name)"
   ]
  },
  {
   "cell_type": "code",
   "execution_count": null,
   "id": "c225f8d6",
   "metadata": {},
   "outputs": [],
   "source": [
    "parse_folder(PROTOCOL_FOLDER, TARGET_FOLDER, DONE_FOLDER)"
   ]
  },
  {
   "cell_type": "markdown",
   "id": "49a86231",
   "metadata": {},
   "source": [
    "## Read all parsed protocols into one dataframe"
   ]
  },
  {
   "cell_type": "code",
   "execution_count": null,
   "id": "18a755b9",
   "metadata": {},
   "outputs": [],
   "source": [
    "TARGET_FILE = \"../../data/protocols/all_parsed.csv\""
   ]
  },
  {
   "cell_type": "code",
   "execution_count": null,
   "id": "7c182816",
   "metadata": {},
   "outputs": [],
   "source": [
    "# Get the files from the path provided\n",
    "files = Path(TARGET_FOLDER).glob('*.csv')"
   ]
  },
  {
   "cell_type": "code",
   "execution_count": null,
   "id": "2148da20",
   "metadata": {},
   "outputs": [],
   "source": [
    "dfs = list()\n",
    "for f in files:\n",
    "    data = pd.read_csv(f)\n",
    "    # .stem is the method for pathlib objects to get the filename w/o the extension\n",
    "    data['file'] = f.stem\n",
    "    dfs.append(data)\n",
    "\n",
    "df = pd.concat(dfs, ignore_index=True)"
   ]
  },
  {
   "cell_type": "code",
   "execution_count": null,
   "id": "cab4b7f2",
   "metadata": {},
   "outputs": [],
   "source": [
    "df.to_csv(TARGET_FILE,index=False)"
   ]
  },
  {
   "cell_type": "code",
   "execution_count": null,
   "id": "2a90fe8d",
   "metadata": {},
   "outputs": [],
   "source": [
    "pd.read_csv(TARGET_FILE)"
   ]
  }
 ],
 "metadata": {
  "kernelspec": {
   "display_name": "Python 3 (ipykernel)",
   "language": "python",
   "name": "python3"
  },
  "language_info": {
   "codemirror_mode": {
    "name": "ipython",
    "version": 3
   },
   "file_extension": ".py",
   "mimetype": "text/x-python",
   "name": "python",
   "nbconvert_exporter": "python",
   "pygments_lexer": "ipython3",
   "version": "3.8.13"
  }
 },
 "nbformat": 4,
 "nbformat_minor": 5
}
