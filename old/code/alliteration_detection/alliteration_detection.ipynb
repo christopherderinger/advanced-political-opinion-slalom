{
 "cells": [
  {
   "cell_type": "code",
   "execution_count": null,
   "id": "b9e3ef2a",
   "metadata": {},
   "outputs": [],
   "source": [
    "import pandas as pd\n",
    "import cologne_phonetics\n",
    "from typing import Callable, List"
   ]
  },
  {
   "cell_type": "code",
   "execution_count": null,
   "id": "f88fdb7c",
   "metadata": {},
   "outputs": [],
   "source": [
    "PATH_TO_TEST_DATASET = \"../../data/alliteration_detection/alliteration_test_set.csv\""
   ]
  },
  {
   "cell_type": "markdown",
   "id": "67434a21",
   "metadata": {},
   "source": [
    "# Alliteration Detection"
   ]
  },
  {
   "cell_type": "code",
   "execution_count": null,
   "id": "05625fa4",
   "metadata": {},
   "outputs": [],
   "source": [
    "def has_at_least_one_alliteration_case(sentence: str) -> bool:\n",
    "    \"\"\"This functions checks four different alliteration cases for a given sentence\n",
    "       case_1: There is a word following another word, both having the same letter at the \n",
    "               beginning (sentence is in lowercase). example: alle achtung!\n",
    "       case_2: There is a word two steps after the first word, both having the same letter at the\n",
    "               beginning (sentence is in lowercase). example: alles ist abverkauft\n",
    "       case_3: Same as case_1 but the first digit of the cologne phonetics encoding is \n",
    "               compared.\n",
    "       case_4: Same as case_2 but the first digit of the cologne phonetics encoding is\n",
    "               compared.\n",
    "    \"\"\"\n",
    "    case_1 = contains_alliteration(sentence, 1, get_preprocessed_sentence_as_list)\n",
    "    \n",
    "    case_2 = contains_alliteration(sentence, 2, get_preprocessed_sentence_as_list)\n",
    "    \n",
    "    case_3 = contains_alliteration(sentence, 1, get_cologne_encoding_as_list)\n",
    "    \n",
    "    case_4 = contains_alliteration(sentence, 2, get_cologne_encoding_as_list)\n",
    "    \n",
    "    return case_1 or case_2 or case_3 or case_4\n",
    "\n",
    "\n",
    "def contains_alliteration(sentence: str, gap: int,\n",
    "                          sentence_preprocessing_func: Callable[[str], List[str]]) -> bool:\n",
    "    \"\"\"This functions checks whether a sentence contains an alliteration\n",
    "       It can take two possible functions as preprocessing function:\n",
    "       get_preprocessed_sentence_as_list(str) -> List[str]\n",
    "       get_cologne_encoding_as_list(str) -> List[str]\n",
    "    \"\"\"\n",
    "    preprocessed_sentence = sentence_preprocessing_func(sentence)\n",
    "    res = []\n",
    "    \n",
    "    index = 0\n",
    "    \n",
    "    while index < len(preprocessed_sentence):\n",
    "        # appends True if there is an alliteration (either phonetically or textually)\n",
    "        res.append(has_word_with_same_letter_at_gap(index,gap,preprocessed_sentence))\n",
    "        index += 1\n",
    "    \n",
    "    return True in res\n",
    "\n",
    "def get_preprocessed_sentence_as_list(sentence: str) -> List[str]:\n",
    "    \"\"\"Expects a sentence where the words are separated by one space.\n",
    "       Returns all the words in the sentence in a list. \n",
    "       The words are set to lowercase.\n",
    "       The sentence is splitted at the space between the words.\n",
    "    \"\"\"\n",
    "    if type(sentence) == str:\n",
    "        return sentence.lower().split(\" \")\n",
    "    else:\n",
    "        return [\"\"]\n",
    "\n",
    "def get_cologne_encoding_as_list(sentence: str) -> List[str]:\n",
    "    \"\"\"Expects a sentence where the words are separated by one space\n",
    "       Returns a list containing the cologne phonetics encoding of each word\n",
    "       in the sentence.\n",
    "    \"\"\"\n",
    "    word_encodings = cologne_phonetics.encode(sentence)\n",
    "    res = []\n",
    "    \n",
    "    # word_encoding is a tuple\n",
    "    for word,encoding in word_encodings:\n",
    "        res.append(encoding)\n",
    "    return res\n",
    "\n",
    "def has_word_with_same_letter_at_gap(starting_index: int, gap: int,\n",
    "                                     preprocessed_sentence: List[str]) -> bool:\n",
    "    \"\"\"Expects a preprocessed sentence (a list of words), the index of the first word\n",
    "       and the gap between the first word and the second word where the first letter\n",
    "       should be the same.\n",
    "       \n",
    "       The preprocessed sentence has to be either generated using the \n",
    "       get_cologne_encoding_as_list(str) -> List[str] function or the \n",
    "       get_preprocessed_sentence_as_list(str) -> [str] function.\n",
    "    \"\"\"\n",
    "    step = starting_index + gap\n",
    "    \n",
    "    # catch index out of range \n",
    "    if(step >= len(preprocessed_sentence)):\n",
    "        return False\n",
    "    \n",
    "    # first word is empty\n",
    "    if (len(preprocessed_sentence[starting_index]) < 1):\n",
    "        return False\n",
    "    \n",
    "    # second word is empty\n",
    "    if (len(preprocessed_sentence[step]) < 1):\n",
    "        return False\n",
    "\n",
    "    # checks whether the first letter of both words is equal\n",
    "    else:\n",
    "        return preprocessed_sentence[starting_index][0] == preprocessed_sentence[step][0]"
   ]
  },
  {
   "cell_type": "markdown",
   "id": "504fce2b",
   "metadata": {},
   "source": [
    "A test dataset containing 605 alliterations is read into pandas. It is then used to test the functions developed above. The dataset was generated using the code in the alliteration_scraper.ipynb file"
   ]
  },
  {
   "cell_type": "code",
   "execution_count": null,
   "id": "90f7b020",
   "metadata": {},
   "outputs": [],
   "source": [
    "alliteration_df = pd.read_csv(PATH_TO_TEST_DATASET)\n",
    "alliteration_df.columns = [\"is_alliteration\",\"sentence\"]"
   ]
  },
  {
   "cell_type": "code",
   "execution_count": null,
   "id": "d483dc0a",
   "metadata": {},
   "outputs": [],
   "source": [
    "alliteration_df.info()"
   ]
  },
  {
   "cell_type": "code",
   "execution_count": null,
   "id": "79507931",
   "metadata": {},
   "outputs": [],
   "source": [
    "alliteration_df.head(10)"
   ]
  },
  {
   "cell_type": "code",
   "execution_count": null,
   "id": "555c7f6e",
   "metadata": {},
   "outputs": [],
   "source": [
    "alliterations = list(alliteration_df[\"sentence\"])"
   ]
  },
  {
   "cell_type": "markdown",
   "id": "efe531a8",
   "metadata": {},
   "source": [
    "5 out of 605 cases are not recognized at the moment. Further tests need to be executed"
   ]
  },
  {
   "cell_type": "code",
   "execution_count": null,
   "id": "d1a733bf",
   "metadata": {},
   "outputs": [],
   "source": [
    "for elem in alliterations:\n",
    "    if not has_at_least_one_alliteration_case(elem):\n",
    "        print(elem)"
   ]
  }
 ],
 "metadata": {
  "kernelspec": {
   "display_name": "Python 3",
   "language": "python",
   "name": "python3"
  },
  "language_info": {
   "codemirror_mode": {
    "name": "ipython",
    "version": 3
   },
   "file_extension": ".py",
   "mimetype": "text/x-python",
   "name": "python",
   "nbconvert_exporter": "python",
   "pygments_lexer": "ipython3",
   "version": "3.8.8"
  }
 },
 "nbformat": 4,
 "nbformat_minor": 5
}
